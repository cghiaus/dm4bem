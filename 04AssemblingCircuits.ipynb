{
 "cells": [
  {
   "cell_type": "markdown",
   "id": "ae5be397-9849-453c-9419-6f3d8631d73c",
   "metadata": {
    "tags": []
   },
   "source": [
    "# [Weather data and solar radiation](01WeatherData.ipynb)\n",
    "\n",
    "# [Thermal circuit and state-space representation for a thermal circuit with capacities in every node: simple wall](02SimpleWall.ipynb)\n",
    "\n",
    "# [Thermal circuit and state-space representation for a thermal circuit with capacities in some nodes: cubic building](03CubicBuilding.ipynb)\n",
    "\n",
    "# Thermal circuits assembling\n",
    "\n",
    "**Objectives:**\n",
    "- Obtain the thermal model by assembling thermal circuits.\n",
    "- Convert thermal circuit to state-space representation.\n",
    "- Simulate the assembled circuits."
   ]
  },
  {
   "cell_type": "code",
   "execution_count": 1,
   "id": "adea2685-af71-4706-a016-a6a56a7300ac",
   "metadata": {},
   "outputs": [],
   "source": [
    "import numpy as np\n",
    "import pandas as pd\n",
    "import matplotlib.pyplot as plt\n",
    "import dm4bem\n",
    "import tuto"
   ]
  },
  {
   "cell_type": "markdown",
   "id": "17ae263c-54ae-4bbb-897f-6863227ab5cd",
   "metadata": {
    "jp-MarkdownHeadingCollapsed": true,
    "tags": []
   },
   "source": [
    "## Defining the problem of circuit assembling\n",
    "\n",
    "The problem of assembling thermal circuits can be stated as:\n",
    "\n",
    "> Given a number of disassembled thermal circuits, $TCd_1$, $TCd_2$, ... , $TCd_n$, and knowing that some of their nodes are common, find the assembled thermal circuit $TC$ (see Figure 1).\n",
    "\n",
    "To exemplify the procedure, we will use the same model as in tutorial [Thermal circuit and state-space representation for a thermal circuit with capacities in some nodes: cubic building](03CubicBuilding.ipynb)\n",
    " representing a room with an insulated concrete wall and a glass wall. The room is ventilated and the indoor air temperature is controlled by a P-controller. This [toy model](https://en.m.wikipedia.org/wiki/Toy_model) is used to explain the assembling procedure, not for the correctness of the modelling.\n",
    "\n",
    "![assembling](./figures/04_assembling.png)\n",
    "> Figure 1. Example of the problem of assembling thermal circuits: given four circuits, TCd0, ..., TCd3, assemble them knowing the following nodes are common to two or more circuits:\n",
    "> - Node 4 of circuit TCd0 (in red) is in common with node 0 of circuit TCd1 (in blue).\n",
    "> - Node 1 of circuit TCd1 (in blue) is in common with node 1 of circuit TCd2 (in green).\n",
    "> - Node 2 of circuit TCd1 (in blue) is in common with node 0 of circuit TCd3 (in violet).\n",
    "\n",
    "![circuit](./figures/04_circuit.png)\n",
    "> Figure 2. Thermal circuit obtained by assembling elementary circuits TCd0, ..., TCd3. The heat-flow sources and the capacities in a node are the sum of those of each circuit. The numbers in black correspond to the global indexing and the numbers in colors (red, blue, green and violet) correspond to the local indexing.\n",
    "\n",
    "![matrices](./figures/04_matrices.png)\n",
    "> Figure 3. Algebraic representation of the thermal circuit: \n",
    "> - a) assembly-connectivity matrix; \n",
    "> - b) elementary thermal circuits, TCd0, ..., TCd3, characterized by the matrices $A, G, C$ and the vectors $b, f$.\n",
    "\n",
    "From the conservation of energy, it results that if there is a flow source in the common node of the assembled circuit, it needs to be the sum of the sources from the corresponding node of each elementary circuit. For example, the source in node 4 of the assembled circuit is the sum of the sources from node 4 of TCd0 and node 0 of TCd1 (Figure 2). From the conservation of mass, it results that if there is a common capacity in the node of the assembled circuit, it needs to be the sum of the capacities present in the corresonding node of each elemendaty circuit. For example, the capacity in node 6 of the assembled circuit is the sum of the capacities of node 2 of TCd1 and of node 0 of TCd3. \n",
    "\n",
    "We would like to construct separate models for the disassembled thermal circuits (e.g., for concrete wall TCD0, room air TCd1, glass wall TCd2, ventilation and HVAC system TCd2) and to assemble them into a single thermal circuit."
   ]
  },
  {
   "cell_type": "markdown",
   "id": "95f4643e-2f28-46c8-b35b-c4eb9d1b37d9",
   "metadata": {
    "jp-MarkdownHeadingCollapsed": true,
    "tags": []
   },
   "source": [
    "## Numbering the circuits\n",
    "\n",
    "### Numbering elementary circuits\n",
    "\n",
    "In principle, the numbering of the nodes and the branches can be done arbitrarily. The connections are indicated by the oriented incidence matrix $A$. Since numbering becomes tedious for large circuits, the following rules may be adopted:\n",
    "- number the nodes in order (e.g. from left to right and top to bottom);\n",
    "- number the branches in increasing order of nodes and direct them from the lower to the higher node number.\n",
    "\n",
    "### Numbering the assembled circuit\n",
    "When assembling the thermal circuits, some nodes are put in common. Therefore, the number of nodes in the assembled circuit will be smaller than the sum of the nodes of the elementary circuits. However, the number of branches will not change. The nodes and the branches of the assembled circuit will be in the order of assembling.\n",
    "\n",
    "|Local and global indexing of nodes|\n",
    "|----------------------------------|\n",
    "\n",
    "|Thermal circuit  |TCd0      |TCd1    |TCd2 |TCd3|\n",
    "|-----------------|:--------:|:------:|:---:|:--:|\n",
    "|Local node index |0 1 2 3 4 |0 1  2  |0  1 |0   |\n",
    "|Global node index|0 1 2 3 4 |4 5  6  |7  5 |6   |\n",
    "\n",
    "|Local and global indexing of branches|\n",
    "|-------------------------------------|\n",
    "\n",
    "|Thermal circuit    |TCd0      |TCd1  |TCd3 |TCd3 |\n",
    "|-------------------|:--------:|:----:|:---:|:---:|\n",
    "|Local branch index |0 1 2 3 4 |0 1 2 |0 1  | 0  1|\n",
    "|Global branch index|0 1 2 3 4 |5 6 7 |8 9  |10 11|\n",
    "\n",
    "The assembling of the circuits is described by the assembling matrix. Each row of this matrix has four elements that indicate the two nodes that will be put together:\n",
    "1. index of the 1st circuit\n",
    "2. node of the 1st circuit\n",
    "3. index of the 2nd circuit \n",
    "4. node of the 2nd circuit\n",
    "\n",
    "For our example, the assembling matrix is:\n",
    "\n",
    "$$A_{ss} =\\begin{bmatrix}\n",
    "0 & 4 & 1 & 0\\\\ \n",
    "1 & 1 & 2 & 1\\\\ \n",
    "1 & 2 & 3 & 0\n",
    "\\end{bmatrix}$$\n",
    "\n",
    "meaning that:\n",
    "- circuit TCd0, node 4, identic with circuit TCd1, node 0;\n",
    "- circuit TCd1, node 1, identic with circuit TCd2, node 1;\n",
    "- circuit TCd1, node 2, identic with circuit TCd3, node 0.\n",
    "\n",
    "The description of the disassembled circuits, given by the [dictionary](https://docs.python.org/3/tutorial/datastructures.html#dictionaries) $TC_d = \\{TC_0,…, TC_i,…, TC_n\\}$ of [dictionaries](https://docs.python.org/3/tutorial/datastructures.html#dictionaries) $TC_i=\\{A_i,G_i,b_i,C_i,f_i,y_i\\}$, and the assembling matrix $A_{ss}$ contain all the necessary information for obtaining the assembled circuit. "
   ]
  },
  {
   "cell_type": "markdown",
   "id": "24815334-aadf-4f2b-9066-1c1bf8ff17c8",
   "metadata": {},
   "source": [
    "## Conductances and capacities"
   ]
  },
  {
   "cell_type": "markdown",
   "id": "62be43bd-19ad-4247-a9ad-9f92d540e9af",
   "metadata": {
    "tags": []
   },
   "source": [
    "Let's consider the same geometry and thermophysical properties as in Tutorial 3."
   ]
  },
  {
   "cell_type": "code",
   "execution_count": 2,
   "id": "b5046d39-412e-49cd-824d-a8ae469f46a9",
   "metadata": {
    "tags": []
   },
   "outputs": [],
   "source": [
    "# Dimensions and surface areas of the building\n",
    "l = 3               # m length of the cubic room\n",
    "Sg = l**2           # m² surface of the glass wall\n",
    "Sc = Si = 5 * Sg    # m² surface of concrete & insulation of the 5 walls\n",
    "Va = l**3           # m³ volume of air\n",
    "\n",
    "# Thermophysical properties of the air (in SI units) \n",
    "air = {'Density': 1.2,                      # kg/m³\n",
    "       'Specific heat': 1000}               # J/kg.K\n",
    "\n",
    "wall = {'Conductivity': [1.4, 0.027, 1.4],  # W/m.K\n",
    "        'Density': [2300, 55, 2500],        # kg/m³\n",
    "        'Specific heat': [880, 1210, 750],  # J/kg.K\n",
    "        'Width': [0.2, 0.08, 0.004],\n",
    "        'Surface': [5 * l**2, 5 * l**2, l**2],  # m²\n",
    "        'Meshes': [1, 1, 1]}                # number of meshes\n",
    "wall = pd.DataFrame(wall, index=['Concrete', 'Insulation', 'Glass'])\n",
    "\n",
    "# Radiative properties\n",
    "ε_wLW = 0.85    # long wave emmisivity wall concrete\n",
    "ε_gLW = 0.90    # long wave emmisivity glass pyrex\n",
    "α_wSW = 0.25    # short wave absortivity white smooth surface\n",
    "α_gSW = 0.38    # short wave absortivity reflective blue glass\n",
    "τ_gSW = 0.30    # short wave transmitance reflective blue glass\n",
    "\n",
    "# Stefan-Boltzmann constant\n",
    "σ = 5.67e-8     # W/m²⋅K⁴ Stefan-Bolzmann constant\n",
    "\n",
    "# View factor\n",
    "Fwg = 1 / 5     # view factor wall - glass\n",
    "\n",
    "Tm = 20 + 273   # mean temp for radiative exchange\n",
    "\n",
    "# Convection coeficients\n",
    "h = pd.DataFrame([{'in': 8., 'out': 25}], index=['h'])  # W/m²⋅K"
   ]
  },
  {
   "cell_type": "markdown",
   "id": "e17c70a2-8174-4c48-964a-da56e2f366f3",
   "metadata": {
    "tags": []
   },
   "source": [
    "The HVAC system can be modelled as a proportional controller with the gain $K_p$:\n",
    "* If $K_p \\rightarrow \\infty$, then the controller tends towards perfection, i.e., the indoor temperature tends towards its set-point.\n",
    "* If $K_p \\rightarrow  0$, then the controller is ineffective, i.e., the indoor temperature is in free-floating.\n",
    "\n",
    "Let's consider the case of free-floating."
   ]
  },
  {
   "cell_type": "code",
   "execution_count": 3,
   "id": "fd59160f-ba10-4a6f-bf8e-44a8cbde654c",
   "metadata": {
    "tags": []
   },
   "outputs": [],
   "source": [
    "Kp = 1e-3       # no controller Kp -> 0"
   ]
  },
  {
   "cell_type": "markdown",
   "id": "35b180f1-87f5-497b-a17b-619277614075",
   "metadata": {},
   "source": [
    "The air infiltration rate is chatacterized by the number of air changes per hour."
   ]
  },
  {
   "cell_type": "code",
   "execution_count": 4,
   "id": "5c4576f8-0953-44c9-9581-25423e056eea",
   "metadata": {
    "tags": []
   },
   "outputs": [],
   "source": [
    "ACH = 1                     # air changes per hour\n",
    "Va_dot = ACH * Va / 3600    # m³/s air infiltration"
   ]
  },
  {
   "cell_type": "markdown",
   "id": "7f6d9b2c-9e00-4880-8ec1-e1c957f06edd",
   "metadata": {
    "tags": []
   },
   "source": [
    "This information allows us to calculate the conductances of:\n",
    "- insulated concrete wall,\n",
    "- glass wall,\n",
    "- long wave radiation exchange between the walls,\n",
    "- advection by ventilation,\n",
    "- proportional controller,\n",
    "\n",
    "and the capacities of the walls and of the air (Figures 1 and 2)."
   ]
  },
  {
   "cell_type": "code",
   "execution_count": 5,
   "id": "6a469017-b53c-4b1a-8267-8bb41eaa0daa",
   "metadata": {},
   "outputs": [],
   "source": [
    "# Thermal conductances\n",
    "# Conduction\n",
    "G_cd = wall['Conductivity'] / wall['Width'] * wall['Surface']\n",
    "\n",
    "# Convection\n",
    "Gw = h * wall['Surface'][0]     # wall\n",
    "Gg = h * wall['Surface'][2]     # glass\n",
    "\n",
    "# Long-wave radiation exchnage\n",
    "GLW1 = ε_wLW / (1 - ε_wLW) * wall['Surface']['Insulation'] * 4 * σ * Tm**3\n",
    "GLW2 = Fwg * wall['Surface']['Insulation'] * 4 * σ * Tm**3\n",
    "GLW3 = ε_gLW / (1 - ε_gLW) * wall['Surface']['Glass'] * 4 * σ * Tm**3\n",
    "# long-wave exg. wall-glass\n",
    "GLW = 1 / (1 / GLW1 + 1 / GLW2 + 1 / GLW3)\n",
    "\n",
    "# ventilation & advection\n",
    "Gv = Va_dot * air['Density'] * air['Specific heat']\n",
    "\n",
    "# glass: convection outdoor & conduction\n",
    "Ggs = float(1 / (1 / Gg['out'] + 1 / (2 * G_cd['Glass'])))\n",
    "\n",
    "# Thermal capacities\n",
    "Capacity = wall['Density'] * wall['Specific heat'] *\\\n",
    "    wall['Surface'] * wall['Width']\n",
    "Capacity['Air'] = air['Density'] * air['Specific heat'] * Va"
   ]
  },
  {
   "cell_type": "markdown",
   "id": "7c381777-a86c-41a0-8c2f-6828a3593868",
   "metadata": {
    "tags": []
   },
   "source": [
    "## Procedure for assembling"
   ]
  },
  {
   "cell_type": "markdown",
   "id": "2208ab78-390d-48d4-a2b8-ead033ee3532",
   "metadata": {
    "tags": []
   },
   "source": [
    "### Defining the elementary thermal circuits\n",
    "The elementary (or disassembled) thermal circuits TCd0, ... , TCd2  are described by the matrices and vectors $A, G, b, C, f, y$.\n",
    "\n",
    "#### Thermal circuit TCd0\n",
    "The thermal circuit TCd0 (in red in Figures 1 and 2) models convection on the outside of the wall and conduction in concrete and insulation. TCD0 has `nq` flow branches and `nθ` temperature nodes."
   ]
  },
  {
   "cell_type": "code",
   "execution_count": 6,
   "id": "d6082dac-222e-4d10-a4e8-8edbb28b1842",
   "metadata": {},
   "outputs": [],
   "source": [
    "# TCd0:  Concrete and insulation wall (in red)\n",
    "nq = 1 + 2 * (wall['Meshes']['Concrete'] + wall['Meshes']['Insulation'])\n",
    "nθ = 1 + 2 * (wall['Meshes']['Concrete'] + wall['Meshes']['Insulation'])"
   ]
  },
  {
   "cell_type": "markdown",
   "id": "3dc5a013-1fe4-41d8-8f58-d91a664eb666",
   "metadata": {
    "tags": []
   },
   "source": [
    "The incidence matrix $A$ is a difference operator for temperatures, $-A = \\Delta$:\n",
    "\n",
    "$$\\Delta \\theta = -A \\theta = \\begin{bmatrix}\n",
    "1 & 0 & 0 & 0 & 0\\\\ \n",
    "-1 &  1 & 0 & 0 & 0\\\\ \n",
    "0 & -1 & 1 & 0 & 0\\\\ \n",
    "0 & 0 & -1 & 1 & 0\\\\ \n",
    "0 & 0 & 0 & -1 & 1\n",
    "\\end{bmatrix}\n",
    "\\begin{bmatrix}\n",
    "\\theta_0\\\\ \n",
    "\\theta_1\\\\ \n",
    "\\theta_2\\\\ \n",
    "\\theta_3\\\\ \n",
    "\\theta_4\n",
    "\\end{bmatrix}\n",
    "=\n",
    "\\begin{bmatrix}\n",
    "\\theta_0 - 0\\\\ \n",
    "\\theta_1 - \\theta_0\\\\ \n",
    "\\theta_2 - \\theta_1\\\\ \n",
    "\\theta_3 - \\theta_2\\\\ \n",
    "\\theta_4 - \\theta_3\n",
    "\\end{bmatrix}\n",
    "$$"
   ]
  },
  {
   "cell_type": "code",
   "execution_count": 7,
   "id": "d2951ab7-3570-4465-a999-36af7cec4e0b",
   "metadata": {},
   "outputs": [],
   "source": [
    "A = np.eye(nq + 1, nθ)\n",
    "A = -np.diff(A, 1, 0).T"
   ]
  },
  {
   "cell_type": "markdown",
   "id": "2b95f9e8-26d7-41dc-9d1e-4c5b7a2046f9",
   "metadata": {
    "tags": []
   },
   "source": [
    "The conductance matrix $G$ contains the conductances of the flow branches. The conductances of the concrete and the insulation are discretized in meshes. The conductances of the outdoor convection, conduction in concrete and conduction in insulation are stacked horizontally. Then, $G$ is obtained as a diagonal matrix."
   ]
  },
  {
   "cell_type": "code",
   "execution_count": 8,
   "id": "f1ce6c3f-bb88-472a-8071-954dc6359777",
   "metadata": {},
   "outputs": [],
   "source": [
    "nc = wall['Meshes']['Concrete']\n",
    "ni = wall['Meshes']['Insulation']\n",
    "Gc = 2 * nc * [G_cd['Concrete']]\n",
    "Gc = 2 * nc * np.array(Gc)\n",
    "Gi = 2 * ni * [G_cd['Insulation']]\n",
    "Gi = 2 * ni * np.array(Gi)\n",
    "G = np.hstack([Gw['out'], Gc, Gi])\n",
    "G = np.diag(G)"
   ]
  },
  {
   "cell_type": "markdown",
   "id": "5a183103-a336-40b5-bec5-4eb8120043b2",
   "metadata": {},
   "source": [
    "The vector of temperature sources, $b$, has the size of the number of branches (of heat flow rates). There is only one branch with a temperature source: $b_0$."
   ]
  },
  {
   "cell_type": "code",
   "execution_count": 9,
   "id": "36912773-1665-4607-bd6e-eb2d004078eb",
   "metadata": {},
   "outputs": [],
   "source": [
    "b = np.zeros(nq)    # nq is the number of flow branches\n",
    "b[0] = 1            # node with temperature source"
   ]
  },
  {
   "cell_type": "markdown",
   "id": "e4bfa412-50ad-4ced-a10d-76a60e58011c",
   "metadata": {},
   "source": [
    "The capacity matrix $C$ contains the capacities of the thermal nodes correspondig to concrete and insulation. These capacities are stacked horizontally and then the capacity matrix $C$ is obtained as a diagonal matrix. "
   ]
  },
  {
   "cell_type": "code",
   "execution_count": 10,
   "id": "2afde808-441f-4418-b91a-0030514779c9",
   "metadata": {},
   "outputs": [],
   "source": [
    "Cc = Capacity['Concrete'] / nc * np.mod(range(0, 2 * nc), 2)\n",
    "Ci = Capacity['Insulation'] / ni * np.mod(range(0, 2 * ni), 2)\n",
    "C = np.hstack([Cc, Ci, 0])\n",
    "C = np.diag(C)"
   ]
  },
  {
   "cell_type": "markdown",
   "id": "044bfad4-da5a-4817-a754-7ed0a976f343",
   "metadata": {},
   "source": [
    "The vector of flow rate sources, $f$, has the size of the number of nodes (of temperatures). There are two nodes with a flow rate sources: the 1st node $f_0$ and the last node $f_{last}$."
   ]
  },
  {
   "cell_type": "code",
   "execution_count": 11,
   "id": "5db2c334-8be0-441b-aa60-82579f7c43d1",
   "metadata": {},
   "outputs": [],
   "source": [
    "f = np.zeros(nθ)    # nθ is the number of temperature nodes\n",
    "f[0] = f[-1] = 1    # nodes with flow sources"
   ]
  },
  {
   "cell_type": "markdown",
   "id": "88bae330-e0f5-4847-9eff-54bb156a08d4",
   "metadata": {},
   "source": [
    "There is no temperature from circuit TCd0 in the output vector."
   ]
  },
  {
   "cell_type": "code",
   "execution_count": 12,
   "id": "8fc8f40e-c444-427a-b8fc-e2d1d8caaec7",
   "metadata": {},
   "outputs": [],
   "source": [
    "y = np.zeros(nθ)"
   ]
  },
  {
   "cell_type": "markdown",
   "id": "b35d1e5a-9bab-4b1d-b0bb-78e7c15a3b45",
   "metadata": {},
   "source": [
    "The circuit TCd0 is characterized by the matrices and vectors $A, G, b, C, f, y$, collected into a [dictionary](https://docs.python.org/3/tutorial/datastructures.html#dictionaries)."
   ]
  },
  {
   "cell_type": "code",
   "execution_count": 13,
   "id": "c8521eeb-ba2d-4736-b430-e9e839a8d019",
   "metadata": {},
   "outputs": [],
   "source": [
    "TCd0 = {'A': A,'G': G, 'b': b, 'C': C, 'f': f, 'y': y}"
   ]
  },
  {
   "cell_type": "markdown",
   "id": "36b396cb-5b6d-4ef1-b759-10233ef652a9",
   "metadata": {
    "tags": []
   },
   "source": [
    "#### Thermal circuits TCd1 ... TCd3\n",
    "\n",
    "The thermal circuits TCd1, TCd2 and TCd3are constructed similarly."
   ]
  },
  {
   "cell_type": "code",
   "execution_count": 14,
   "id": "bb9a6572-898d-4bc3-8559-b2db560df4a6",
   "metadata": {},
   "outputs": [],
   "source": [
    "# TCd1: Indoor air (in blue)\n",
    "A = np.array([[-1, 1, 0],\n",
    "              [-1, 0, 1],\n",
    "              [0, -1, 1]])\n",
    "G = np.diag(np.hstack([GLW, Gw['in'], h['in'] * wall['Surface']['Glass']]))\n",
    "b = np.zeros(3)\n",
    "C = np.diag([0, 0, Capacity['Air'] / 2])\n",
    "f = np.array([1, 0, 1])\n",
    "y = np.array([0, 0, 1])\n",
    "TCd1 = {'A': A, 'G': G, 'b': b, 'C': C, 'f': f, 'y': y}\n",
    "\n",
    "# TCd2: Glass (in green)\n",
    "A = np.array([[1, 0],\n",
    "              [-1, 1]])\n",
    "Ggo = h['out'] * wall['Surface']['Glass']\n",
    "Ggs = 1 / (1 / Ggo + 1 / (2 * G_cd['Glass']))\n",
    "G = np.diag(np.hstack([Ggs, 2 * G_cd['Glass']]))\n",
    "b = np.array([1, 0])\n",
    "C = np.diag([Capacity['Glass'], 0])\n",
    "f = np.array([1, 0])\n",
    "y = np.array([0, 0])\n",
    "TCd2 = {'A': A, 'G': G, 'b': b, 'C': C, 'f': f, 'y': y}\n",
    "\n",
    "# TCd3: air infiltration and controller (in purple)\n",
    "A = np.array([[1],\n",
    "              [1]])\n",
    "G = np.diag(np.hstack([Gv, Kp]))\n",
    "b = np.array([1, 1])\n",
    "C = np.array([Capacity['Air'] / 2])\n",
    "f = 1\n",
    "y = 1\n",
    "TCd3 = {'A': A, 'G': G, 'b': b, 'C': C, 'f': f, 'y': y}"
   ]
  },
  {
   "cell_type": "markdown",
   "id": "202404fa-56a9-4db8-b07a-1d9521b842d6",
   "metadata": {},
   "source": [
    "### Assembling the elementary thermal circuits\n",
    "\n",
    "The *elementary* dissembled circuits, TCd0, ... , TCd3 are used to construct a dissembled thermal circuit TCd. Note that the *elementary* circuits may be used more than once in the dissembled thermal circuit TCd."
   ]
  },
  {
   "cell_type": "code",
   "execution_count": 15,
   "id": "3a04fbc8-31a0-4df9-9495-cc2e3ae09f2a",
   "metadata": {},
   "outputs": [],
   "source": [
    "TCd = {'0': TCd0,\n",
    "       '1': TCd1,\n",
    "       '2': TCd2,\n",
    "       '3': TCd3}"
   ]
  },
  {
   "cell_type": "markdown",
   "id": "119efb7b-9489-4f7e-8ef0-34f2412ba9ca",
   "metadata": {
    "tags": []
   },
   "source": [
    "The assembly matrix\n",
    "\n",
    "$$A_{ss} =\\begin{bmatrix}\n",
    "0 & last & 1 & 0\\\\ \n",
    "1 & 1 & 2 & 1\\\\ \n",
    "1 & 2 & 3 & 0\n",
    "\\end{bmatrix}$$\n",
    "\n",
    "indicates how the circuits are connected. For example, the 1st row of matrix $A_{ss}$ indicates that the `last` node (i.e. node number `nθ - 1`) of circuit TCd0 is merged with the 1st node (i.e. node number 0) of circuit TCd1; the 1st node (i.e., node number 0) of circuit TCd1 is deleted."
   ]
  },
  {
   "cell_type": "code",
   "execution_count": 16,
   "id": "b00c7b44-6ae4-475e-a01b-37d1588dd1c6",
   "metadata": {},
   "outputs": [],
   "source": [
    "Ass = np.array([[0, nθ - 1, 1, 0],\n",
    "                [1, 1, 2, 1],\n",
    "                [1, 2, 3, 0]])"
   ]
  },
  {
   "cell_type": "markdown",
   "id": "53d4e6f2-a93d-44fc-be14-b5193d738dc8",
   "metadata": {
    "tags": []
   },
   "source": [
    "Finally, the dissambled thermal circuit TCd is assembled according to the connexions indicated by the assembly matrix $A_{ss}$ by using the functionn `dm4bem.TCAss`. The result is an assembled thermal circuit with matrices and vectors $A, G, b, C, f, y$."
   ]
  },
  {
   "cell_type": "code",
   "execution_count": 17,
   "id": "b0da3572-236e-4f90-bc5b-877331dda932",
   "metadata": {},
   "outputs": [],
   "source": [
    "TCa = dm4bem.TCAss(TCd, Ass)"
   ]
  },
  {
   "cell_type": "markdown",
   "id": "abb6dc18-0df7-4405-a650-750014307740",
   "metadata": {
    "tags": []
   },
   "source": [
    "### State-space representation from DAE\n",
    "#### Model matrices\n",
    "The state-space representation is obtained from the thermal circuit `TCa`."
   ]
  },
  {
   "cell_type": "code",
   "execution_count": 18,
   "id": "611198ff-db31-4424-ac90-ccf40d2b4df0",
   "metadata": {},
   "outputs": [],
   "source": [
    "# Thermal circuit -> state-space\n",
    "[As, Bs, Cs, Ds] = dm4bem.tc2ss(\n",
    "    TCa['A'], TCa['G'], TCa['b'], TCa['C'], TCa['f'], TCa['y'])"
   ]
  },
  {
   "cell_type": "markdown",
   "id": "15e41847-9134-47b4-afa2-7a23c5dd6db4",
   "metadata": {
    "tags": []
   },
   "source": [
    "#### Input vector\n",
    "The input vector $u$ of the state-space representation is obtained by stacking the vectors $b_T$ and $f_Q$ of the system of Differential Algebraic Equations (DAE):\n",
    "\n",
    "$$u = \\begin{bmatrix} b_T \\\\ f_Q\\end{bmatrix}$$\n",
    "\n",
    "where:\n",
    "- vector $b_T$ consists of the nonzero elements of vector $b$ of temperature sources; for the circuit presented in Figure 3, $b_T = [T_o, T_o, T_o, T_{i,sp}]^T$ corresponding to branches 0, 8, 10 and 11; \n",
    "- vector $f_Q$ is the nonzero elements of vector $f$ of flow sources; for the circuit presented in Figure 3, $f_Q = [\\Phi_o, \\Phi_i, \\dot{Q}_a, \\Phi_a]^T$ corresponding to nodes 0, 4, 6, and 7.\n",
    "\n",
    "The input vector, $u = [u_0, u_1, ... , u_{n-1}]^T$, becomes:\n",
    "\n",
    "$$u = \n",
    "\\begin{bmatrix}\n",
    "T_o\\\\ \n",
    "T_o\\\\ \n",
    "T_o\\\\ \n",
    "T_{i,sp}\\\\ \n",
    "\\Phi_o\\\\ \n",
    "\\Phi_i\\\\ \n",
    "\\dot{Q}_a\\\\ \n",
    "\\Phi_a\n",
    "\\end{bmatrix}\n",
    "= \\begin{bmatrix}\n",
    "T_{o(0)} & T_{o(1)}& ... & T_{o(n-1)}\\\\ \n",
    "T_{o(0)} & T_{o(1)}& ... & T_{o(n-1)}\\ \\\\ \n",
    "T_{o(0)} & T_{o(1)}& ... & T_{o(n-1)}\\ \\\\ \n",
    " T_{i,sp(0)} & T_{i,sp(1)}& ... & T_{i,sp(n-1)}\\ \\\\ \n",
    "\\Phi_{o,(0)} & \\Phi_{o,(1)} & ... & \\Phi_{o,(n-1)}\\\\\n",
    "\\Phi_{i,(0)} & \\Phi_{i,(1)} & ... & \\Phi_{i,(n-1)}\\\\ \n",
    " \\dot{Q}_{a(0)} & \\dot{Q}_{a(1)} & ... & \\dot{Q}_{a(n-1)}\\\\ \n",
    "\\Phi_{a,(0)} & \\Phi_{a,(1)} & ... & \\Phi_{a,(n-1)}\n",
    "\\end{bmatrix}$$\n",
    "\n",
    "where:\n",
    "- $T_o = [T_{o(0)}, T_{o(1)}, ..., T_{o(n-1)}]^T$ is the [time series](https://en.m.wikipedia.org/wiki/Time_series) of the oudoor temperature at [discrete time](https://en.m.wikipedia.org/wiki/Discrete_time_and_continuous_time#Discrete_time) $t = [t_0, t_1, ... , t_{n-1}]^T$.\n",
    "- $T_{i, sp} = [T_{{i, sp}(0)}, T_{{i, sp}(1)}, ..., T_{{i, sp}(n-1)}]^T$ is the [time series](https://en.m.wikipedia.org/wiki/Time_series) of the setpoint indoor temperature at [discrete time](https://en.m.wikipedia.org/wiki/Discrete_time_and_continuous_time#Discrete_time) $t = [t_0, t_1, ... , t_{n-1}]^T$.\n",
    "- $\\Phi_o = [\\Phi_{o(0)}, \\Phi_{o(1)}, ..., \\Phi_{o(n-1)}]^T$ is the [time series](https://en.m.wikipedia.org/wiki/Time_series) of the solar radiation absorbed by the outdoor surface of the wall at [discrete time](https://en.m.wikipedia.org/wiki/Discrete_time_and_continuous_time#Discrete_time) $t = [t_0, t_1, ... , t_{n-1}]^T$.\n",
    "- $\\Phi_i = [\\Phi_{i(0)}, \\Phi_{i(1)}, ..., \\Phi_{i(n-1)}]^T$ is the [time series](https://en.m.wikipedia.org/wiki/Time_series) of the solar radiation absorbed by the indoor surface of the wall at [discrete time](https://en.m.wikipedia.org/wiki/Discrete_time_and_continuous_time#Discrete_time) $t = [t_0, t_1, ... , t_{n-1}]^T$.\n",
    "- $\\dot{Q}_a = [\\dot{Q}_{a(0)}, \\dot{Q}_{a(1)}, ..., \\dot{Q}_{a(n-1)}]^T$ is the [time series](https://en.m.wikipedia.org/wiki/Time_series) of the auxiliary heat gains (i.e., occupants, electrical devices, etc.) at [discrete time](https://en.m.wikipedia.org/wiki/Discrete_time_and_continuous_time#Discrete_time) $t = [t_0, t_1, ... , t_{n-1}]^T$.\n",
    "- $\\Phi_a = [\\Phi_{a(0)}, \\Phi_{a(1)}, ..., \\Phi_{a(n-1)}]^T$ is the [time series](https://en.m.wikipedia.org/wiki/Time_series) of the solar radiation absorbed by the glass at [discrete time](https://en.m.wikipedia.org/wiki/Discrete_time_and_continuous_time#Discrete_time) $t = [t_0, t_1, ... , t_{n-1}]^T$.\n",
    "\n",
    "Note the order of the elements of the input vector. There are two groups: the temperature sources are fist followed by the flow-rate sources. In each group, the sources are in the order of the numbering of the circuits (e.g. TCd0, TCd1, ..., TCd3). For each circuit, the sources are in the order of the numbering of the branches and of the nodes, for temperature and flow-rate sources, respectively. "
   ]
  },
  {
   "cell_type": "markdown",
   "id": "d17b4e46-b1d3-4124-ab6f-ab215c2e89d3",
   "metadata": {
    "tags": []
   },
   "source": [
    "## Simulation\n",
    "\n",
    "### Free-floating\n",
    "\n",
    "Let's consider that the P-controller is not effective, i.e. $K_p \\rightarrow 0$."
   ]
  },
  {
   "cell_type": "markdown",
   "id": "ec931190-fb99-4fab-a98d-f70e96131acc",
   "metadata": {
    "tags": []
   },
   "source": [
    "The maximum time step for [numerical stability](https://en.m.wikipedia.org/wiki/Euler_method#Numerical_stability) of [Euler explicit integration](https://en.m.wikipedia.org/wiki/Numerical_methods_for_ordinary_differential_equations#Euler_method) in time is given by the minimum eigenvalue $\\lambda$ of the state matrix $A_s$:\n",
    "\n",
    "$$ \\Delta t_{max} \\leq \\min -2 / \\lambda_i = \\min 2 T_i$$\n",
    "\n",
    "where $T_i$ are the [time constants](https://en.m.wikipedia.org/wiki/Time_constant), $T_i = - \\frac{1}{\\lambda_i} $."
   ]
  },
  {
   "cell_type": "code",
   "execution_count": 19,
   "id": "115b6c00-6e4b-4a8d-b9c5-ed7eb5c66e1f",
   "metadata": {},
   "outputs": [
    {
     "name": "stdout",
     "output_type": "stream",
     "text": [
      "Maximum time step: 289.22 s\n"
     ]
    }
   ],
   "source": [
    "# Maximum time-step\n",
    "dtmax = min(-2. / np.linalg.eig(As)[0])\n",
    "print(f'Maximum time step: {dtmax:.2f} s')"
   ]
  },
  {
   "cell_type": "markdown",
   "id": "fba8d434-6aae-471b-b9c5-92cc39be1597",
   "metadata": {},
   "source": [
    "We will chose a time step for integration slighly smaller than the maximum time step."
   ]
  },
  {
   "cell_type": "code",
   "execution_count": 20,
   "id": "417165e6-86ca-48d4-833d-cce4f84952c3",
   "metadata": {},
   "outputs": [
    {
     "name": "stdout",
     "output_type": "stream",
     "text": [
      "dt = 240 s\n"
     ]
    }
   ],
   "source": [
    "dt = 240  # [s] simulation time step\n",
    "print(f'dt = {dt} s')"
   ]
  },
  {
   "cell_type": "markdown",
   "id": "b7f3d730-89c0-4692-9bd6-1ca9e0505415",
   "metadata": {
    "tags": []
   },
   "source": [
    "#### Step response\n",
    "\n",
    "Let's obtain the dynamic response of the system to a [step input](https://en.m.wikipedia.org/wiki/Step_response).\n",
    "\n",
    "The duration of the simulation needs to be larger than the estimated [settling time](https://en.m.wikipedia.org/wiki/Settling_time). This requires a corresponding number of time steps in the time vector."
   ]
  },
  {
   "cell_type": "code",
   "execution_count": 21,
   "id": "4e643343-3f2f-4611-84d4-b20c5641033a",
   "metadata": {},
   "outputs": [
    {
     "name": "stdout",
     "output_type": "stream",
     "text": [
      "Settling time: 175888 s = 2931.5 min = 48.86 h = 2.04 days\n"
     ]
    }
   ],
   "source": [
    "λ = np.linalg.eig(As)[0]    # eigenvalues of matrix As\n",
    "t_resp = 4 * max(-1 / λ)    # response time\n",
    "print(f'Settling time: {t_resp:.0f} s = {t_resp / 60:.1f} min \\\n",
    "= {t_resp / (3600):.2f} h = {t_resp / (3600 * 24):.2f} days')"
   ]
  },
  {
   "cell_type": "markdown",
   "id": "98ee85cf-b275-4bee-99e2-9eb14de1cabb",
   "metadata": {},
   "source": [
    "Let's choose the duration of the simulation equal to two days."
   ]
  },
  {
   "cell_type": "code",
   "execution_count": 22,
   "id": "27e3bbf9-d3c8-4c36-af76-e03914b3b571",
   "metadata": {},
   "outputs": [],
   "source": [
    "duration = 3600 * 24 * 2        # [s]"
   ]
  },
  {
   "cell_type": "markdown",
   "id": "58ae0b14-e43e-45e9-8b8e-5a4d34d8f650",
   "metadata": {
    "tags": []
   },
   "source": [
    "The step response by using [explicit and implicit Euler](https://en.m.wikipedia.org/wiki/Explicit_and_implicit_methods) methods is obtained with `tuto.step_response()` function which reproduces the algorithm presented in tutorial `t03CubeFb.ipynb` in section on *step response*."
   ]
  },
  {
   "cell_type": "code",
   "execution_count": 23,
   "id": "84c35537-3f0b-4860-b845-9db43f29419e",
   "metadata": {},
   "outputs": [
    {
     "data": {
      "image/png": "[encoded data removed]",
      "text/plain": [
       "<Figure size 432x288 with 1 Axes>"
      ]
     },
     "metadata": {
      "needs_background": "light"
     },
     "output_type": "display_data"
    }
   ],
   "source": [
    "tuto.step_response(duration, dt, As, Bs, Cs, Ds)"
   ]
  },
  {
   "cell_type": "markdown",
   "id": "68a1b9a4-794a-44c6-922a-b2463cb2c284",
   "metadata": {},
   "source": [
    "> Figure 4. Step response to outdoor temperature by using Euler\n",
    "[implicit](https://en.m.wikipedia.org/wiki/Numerical_methods_for_ordinary_differential_equations#Backward_Euler_method)\n",
    "and\n",
    "[explicit](https://en.m.wikipedia.org/wiki/Numerical_methods_for_ordinary_differential_equations#Euler_method) integration."
   ]
  },
  {
   "cell_type": "markdown",
   "id": "e2d29daa-7623-4fb0-b5c9-06672ca079f5",
   "metadata": {},
   "source": [
    "#### Simulation by using weather data\n",
    "\n",
    "For simulation with weather data, we need to indicate the weather data file name and the start and end date of the simulation."
   ]
  },
  {
   "cell_type": "code",
   "execution_count": 24,
   "id": "06c9d493-1e3e-4ea2-a8d5-4777ee179f73",
   "metadata": {},
   "outputs": [],
   "source": [
    "weather_file = './weather_data/FRA_Lyon.074810_IWEC.epw'\n",
    "start_date = '2000-01-03 12:00:00'\n",
    "end_date = '2000-03-04 18:00:00'"
   ]
  },
  {
   "cell_type": "markdown",
   "id": "207a8903-4595-4aec-b7c3-5f1769a7189c",
   "metadata": {
    "tags": []
   },
   "source": [
    "The simulation is done by using `tuto.P_control()` function with implicit values:\n",
    "- initial value for the indoor temperature is 20°C.\n",
    "- auxiliary heat rate flow (internal sources) is zero.\n",
    "- orientation of the wall:\n",
    "    - slope 90° (i.e. vertical),\n",
    "    - azimuth 0 (i.e. South), \n",
    "    - latitude 45°."
   ]
  },
  {
   "cell_type": "code",
   "execution_count": 37,
   "id": "b4d59646-84a4-4291-a41f-f28b8ffabca3",
   "metadata": {},
   "outputs": [
    {
     "data": {
      "image/png": "[encoded data removed]",
      "text/plain": [
       "<Figure size 432x288 with 2 Axes>"
      ]
     },
     "metadata": {
      "needs_background": "light"
     },
     "output_type": "display_data"
    }
   ],
   "source": [
    "Tisp = 20\n",
    "y, q_HVAC, data = tuto.P_control(\n",
    "    weather_file, start_date, end_date, dt,\n",
    "    As, Bs, Cs, Ds, Kp, Tisp)\n",
    "tuto.plot_results(y, q_HVAC, data)"
   ]
  },
  {
   "cell_type": "markdown",
   "id": "43027c40-9ab4-43f4-a613-7784d84822bb",
   "metadata": {},
   "source": [
    "> Figure 5. Simulation in free-running with weather data using Euler explicit method of integration. a) Indoor and outdoor temperatures. b) Solar and HVAC heat flow rates.\n",
    "\n",
    "Figure 5 shows that, in free running, the indoor temperature follows the outdoor temperature and that the solar radiation influences the indoor temperature. The flow rate of the HVAC system is zero."
   ]
  },
  {
   "cell_type": "markdown",
   "id": "d6b32fe3-2da5-4c8d-a802-a4e2a45b79c5",
   "metadata": {
    "tags": []
   },
   "source": [
    "### Perfect controller\n",
    "\n",
    "Let's consider that the controller is perfect, i.e. $K_p \\rightarrow \\infty$."
   ]
  },
  {
   "cell_type": "code",
   "execution_count": 38,
   "id": "81a4a073-d7e9-47a7-960c-25153b1f9e93",
   "metadata": {},
   "outputs": [],
   "source": [
    "Kp = 1e3    # P-controler gain, Kp -> ∞"
   ]
  },
  {
   "cell_type": "markdown",
   "id": "b683186b-2e11-4502-a6fb-a4c0bf304809",
   "metadata": {
    "tags": []
   },
   "source": [
    "The steps previously used in order to obtain the assembled circuit are done in the function `tuto.thermal_circuit(Kp)`."
   ]
  },
  {
   "cell_type": "code",
   "execution_count": 39,
   "id": "1ab7159c-91b3-4f14-b077-3bce5acd1da7",
   "metadata": {},
   "outputs": [],
   "source": [
    "TCa = tuto.thermal_circuit(Kp)"
   ]
  },
  {
   "cell_type": "markdown",
   "id": "5f0c5faf-2060-4436-b6b8-accd28b2d88e",
   "metadata": {},
   "source": [
    "The thermal circuit `TCa` is converted into state-space representation."
   ]
  },
  {
   "cell_type": "code",
   "execution_count": 40,
   "id": "e3f9fcb6-a8ce-4dcc-85ea-d56db5d94dc8",
   "metadata": {},
   "outputs": [],
   "source": [
    "[As, Bs, Cs, Ds] = dm4bem.tc2ss(\n",
    "    TCa['A'], TCa['G'], TCa['b'], TCa['C'], TCa['f'], TCa['y'])"
   ]
  },
  {
   "cell_type": "markdown",
   "id": "9c338b2b-ed71-45cc-87d9-de856f1297f8",
   "metadata": {
    "tags": []
   },
   "source": [
    "The maximum timestep in this case is:\n",
    "\n",
    "$$ \\Delta t_{max} \\leq \\min -2 / \\lambda_i$$"
   ]
  },
  {
   "cell_type": "code",
   "execution_count": 41,
   "id": "f0cc971a-5168-4ed8-860f-9a9b635cdc64",
   "metadata": {},
   "outputs": [
    {
     "name": "stdout",
     "output_type": "stream",
     "text": [
      "Maximum time step: 58.92 s\n"
     ]
    }
   ],
   "source": [
    "dtmax = min(-2. / np.linalg.eig(As)[0])\n",
    "dtmax = -2. / min(np.linalg.eig(As)[0])\n",
    "print(f'Maximum time step: {dtmax:.2f} s')"
   ]
  },
  {
   "cell_type": "markdown",
   "id": "893dcf83-318e-411a-8064-a048735187fe",
   "metadata": {
    "tags": []
   },
   "source": [
    "Let's choose a time step slightly smaller than the maximum time step."
   ]
  },
  {
   "cell_type": "code",
   "execution_count": 42,
   "id": "31e59357-23c6-44c1-9161-7807d61c54d9",
   "metadata": {},
   "outputs": [
    {
     "name": "stdout",
     "output_type": "stream",
     "text": [
      "dt = 50 s\n"
     ]
    }
   ],
   "source": [
    "dt = 50   # [s] simulation time step\n",
    "print(f'dt = {dt} s')"
   ]
  },
  {
   "cell_type": "code",
   "execution_count": 43,
   "id": "b97029cd-a314-469a-a920-1ca12d0fa534",
   "metadata": {
    "tags": []
   },
   "outputs": [
    {
     "data": {
      "image/png": "[encoded data removed]",
      "text/plain": [
       "<Figure size 432x288 with 2 Axes>"
      ]
     },
     "metadata": {
      "needs_background": "light"
     },
     "output_type": "display_data"
    }
   ],
   "source": [
    "y, q_HVAC, data = tuto.P_control(\n",
    "    weather_file, start_date, end_date, dt,\n",
    "    As, Bs, Cs, Ds, Kp, Tisp)\n",
    "tuto.plot_results(y, q_HVAC, data)"
   ]
  },
  {
   "cell_type": "markdown",
   "id": "39bba721-2aa4-4015-9fff-47428d36555d",
   "metadata": {},
   "source": [
    "> Figure 6. Simulation with weather data using Euler explicit method of integration. a) Indoor and outdoor temperatures. b) Solar and HVAC heat flow rates.\n",
    "\n",
    "Figure 6 shows that, when the controller is *\"perfect\"*, the indoor temperature follows the setpoint of the indoor temperature and that the flow rate of the HVAC system has positive and negative values (i.e. it is a system that provides heating and cooling)."
   ]
  },
  {
   "cell_type": "markdown",
   "id": "ad817ba8-343b-4ab5-a232-3892155b9294",
   "metadata": {},
   "source": [
    "# [Switch between models: heating & cooling and free-running](05SwitchModels.ipynb)\n",
    "\n",
    "# [Control input: heating & cooling and free-running](06Control_Input.ipynb)"
   ]
  }
 ],
 "metadata": {
  "kernelspec": {
   "display_name": "Python 3 (ipykernel)",
   "language": "python",
   "name": "python3"
  },
  "language_info": {
   "codemirror_mode": {
    "name": "ipython",
    "version": 3
   },
   "file_extension": ".py",
   "mimetype": "text/x-python",
   "name": "python",
   "nbconvert_exporter": "python",
   "pygments_lexer": "ipython3",
   "version": "3.9.7"
  },
  "toc-autonumbering": true
 },
 "nbformat": 4,
 "nbformat_minor": 5
}
