{
 "cells": [
  {
   "cell_type": "markdown",
   "id": "7d88a53f-3de0-4be2-a482-20cd28e6e416",
   "metadata": {
    "tags": []
   },
   "source": [
    "![fig](./figures/08_bldg_plan.svg)"
   ]
  },
  {
   "cell_type": "markdown",
   "id": "a4fab65b-68cb-425c-a22d-3c8ffd16ff84",
   "metadata": {},
   "source": [
    "![fig](./figures/08_blds_conductance.svg)"
   ]
  },
  {
   "cell_type": "markdown",
   "id": "c96c888e-e35c-41ed-9b5d-875143ec6f26",
   "metadata": {},
   "source": [
    "![fig](./figures/08_thermal_network.svg)"
   ]
  },
  {
   "cell_type": "code",
   "execution_count": null,
   "id": "bd2e5680-ba81-46a3-8d33-45eca4b4fbdb",
   "metadata": {},
   "outputs": [],
   "source": []
  }
 ],
 "metadata": {
  "kernelspec": {
   "display_name": "Python 3 (ipykernel)",
   "language": "python",
   "name": "python3"
  },
  "language_info": {
   "codemirror_mode": {
    "name": "ipython",
    "version": 3
   },
   "file_extension": ".py",
   "mimetype": "text/x-python",
   "name": "python",
   "nbconvert_exporter": "python",
   "pygments_lexer": "ipython3",
   "version": "3.9.7"
  }
 },
 "nbformat": 4,
 "nbformat_minor": 5
}
