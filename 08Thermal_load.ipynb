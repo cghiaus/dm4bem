{
 "cells": [
  {
   "cell_type": "markdown",
   "id": "7d88a53f-3de0-4be2-a482-20cd28e6e416",
   "metadata": {
    "tags": []
   },
   "source": [
    "# [Weather data and solar radiation](01WeatherData.ipynb)\n",
    "\n",
    "# [Thermal circuit and state-space representation for a thermal circuit with capacities in every node: simple wall](02SimpleWall.ipynb)\n",
    "\n",
    "# [Thermal circuit and state-space representation for a thermal circuit with capacities in some nodes: cubic building](03CubicBuilding.ipynb)\n",
    "\n",
    "# [Thermal circuits assembling](04AssemblingCircuits.ipynb)\n",
    "\n",
    "# [Switch between models: heating & cooling and free-running](05SwitchModels.ipynb)\n",
    "\n",
    "# [Control input: heating & cooling and free-running](06Control_Input.ipynb)\n",
    "\n",
    "# [Radiation coupled with convection](07Coupled_rad_convection.ipynb)\n",
    "\n",
    "# Sensible thermal load in steady-state\n",
    "The sensible [thermal load](https://en.m.wikipedia.org/wiki/Cooling_load) is the heat flow rate that must to be added to a space by the heating,, ventilation and air-conditioning ([HVAC](https://en.m.wikipedia.org/wiki/Heating,_ventilation,_and_air_conditioning))  system in order to maintain the air temperature at its [setpoint](https://en.m.wikipedia.org/wiki/Setpoint_(control_system)) value. \n",
    "\n",
    "## Problem\n",
    "### Data\n",
    "A building is formed of 4 rooms with the dimensions (Figure 1):  \n",
    "- $L = 6, \\, l = 3\\,  \\mathrm{m}$, lengths,\n",
    "- $H = 6 \\, \\mathrm{m}$, height.\n",
    "- $w = 0.20 \\, \\mathrm{m}$, width of the walls.\n",
    "\n",
    "![fig](./figures/08_bldg_plan.svg)\n",
    "> Figure 1. Plan of the building\n",
    "\n",
    "The thermal conductivity of the walls is $\\lambda = 1.7 \\, \\mathrm{W/(m \\, K)}$.\n",
    "\n",
    "The convective heat coefficients between the walls and the indoor and outdoor air are $h_i = 8 \\, \\mathrm{W/(m^2 \\, K)}$ and $h_o = 25 \\, \\mathrm{W/(m^2 \\, K)}$ respectively.\n",
    "\n",
    "The short-wave solar radiation absorbed by each wall is $E = 200 \\, \\mathrm{W/m^2}$.\n",
    "\n",
    "The outdoor temperature is $T_o = 0 \\, \\mathrm{°C}$.\n",
    "\n",
    "### Questions\n",
    "1. Let's consider that all four rooms are controlled by a HVAC system at the setpoint temperatures 20 °C, 20 °C, 22 °C, 18 °C for rooms 1, 2, 3, and 4, respectively and that the there is no solar radiation on the walls. Find the thermal loads of the four rooms.\n",
    "\n",
    "2. From now on, let's consider that there is solar radiation absorbed by the walls and that rooms 1 and 3 are controlled by a HVAC system while rooms 2 and 4 are in \"free-running\". Find the thermal loads of rooms 1 and 3 and the temperatures of the indoor air of rooms 2 and 4.\n",
    "\n",
    "3. Room 2 in ventilated with an air-flow rate of $ACH = 1 \\, \\mathrm{volume /hour}$ (ACH is the number of air-changes per hour). The density and specific heat of the air are $\\rho = 1.2 \\, \\mathrm{kg/m^3}$ and $c = 1000 \\, \\mathrm{J/(kg \\, K)}$, respectively). The outdoor air enters in room 2, then is moves to room 4 and, from here, it gets outdoors. Find the thermal loads of rooms 1 and 3 and the temperatures of the indoor air of rooms 2 and 4.\n",
    "\n",
    "4. The air-flow in room 2 is reversed: from outdoors, the air enters in room 4, then it moves to room 2, from which it gets outdoors. Considering that the air flow rate of room 2 is the same as before (i.e., $ACH = 1 \\, \\mathrm{volume /hour}$), find the thermal loads of rooms 1 and 3 and the temperatures of the indoor air of rooms 2 and 4."
   ]
  },
  {
   "cell_type": "code",
   "execution_count": 1,
   "id": "1bbe08e1-43d2-415c-ad6c-362ea7fc470d",
   "metadata": {},
   "outputs": [],
   "source": [
    "import numpy as np\n",
    "\n",
    "np.set_printoptions(precision=1)\n",
    "\n",
    "# Data\n",
    "# ====\n",
    "# dimensions\n",
    "L, l, H, w = 6, 3, 3, 0.20  # m\n",
    "\n",
    "# thermo-physical propertites\n",
    "λ = 1.7             # W/(m K) wall thermal conductivity\n",
    "ρ, c = 1.2, 1000    # kg/m3, J/(kg K) density, specific heat air\n",
    "hi, ho = 8, 25      # W/(m2 K) convection coefficients in, out\n",
    "\n",
    "# short-wave solar radiation absorbed by each wall\n",
    "E = 200             # W/m2\n",
    "\n",
    "# outdoor temperature\n",
    "To = 0              # °C\n",
    "\n",
    "# ventilation rate (air-changes per hour)\n",
    "ACH = 1             # volume/h"
   ]
  },
  {
   "cell_type": "markdown",
   "id": "16b26723-f1a8-434a-9cb5-38153bb3f595",
   "metadata": {
    "tags": []
   },
   "source": [
    "## Thermal model\n",
    "\n",
    "The [volumetric flow rate](https://en.m.wikipedia.org/wiki/Volumetric_flow_rate) of air circulating in room 2 results from the ventilation rate:\n",
    "$$\\dot V = L·l·H·\\frac{ACH}{3600 \\, \\mathrm{s}}$$\n",
    "\n",
    "The [mass flow rate](https://en.m.wikipedia.org/wiki/Mass_flow_rate) of air entering and getting out of room 2 is:\n",
    "$$\\dot m = \\rho \\dot V$$"
   ]
  },
  {
   "cell_type": "code",
   "execution_count": 2,
   "id": "f63daae1-798a-45c3-a02e-27d4ffb829ed",
   "metadata": {},
   "outputs": [],
   "source": [
    "V_dot = L * l * H * ACH / 3600  # volumetric air flow rate\n",
    "m_dot = ρ * V_dot               # mass air flow rate"
   ]
  },
  {
   "cell_type": "markdown",
   "id": "a4fab65b-68cb-425c-a22d-3c8ffd16ff84",
   "metadata": {
    "tags": []
   },
   "source": [
    "### Thermal conductances\n",
    "\n",
    "In the model, we will consider the conductances:\n",
    "- $h \\, S$ - convection, W/K;\n",
    "- $\\lambda / w \\, S$ - conduction, W/K;\n",
    "- $\\dot m c$ - advection, W/K;\n",
    "- $K_p$ - gain of the proportional controller, W/K.\n",
    "\n",
    "**Note:** in determening the surfce area of the walls $S = L \\, l \\, H$ the length of the walls are the indoor values.\n",
    "\n",
    "We will consider the conductances of exterior and the interior walls (Figure 2). The exterior walls are modelled with a conductance for outdoor convection (cyan in Figure 2) and an equivalent conductance for conduction in the wall and indoor convection (blue in Figure 2). The indoor walls are modelled by an equivalent conductance for indoor convection, conduction, and indoor convection on the other side.\n",
    "\n",
    "![fig](./figures/08_blds_conductance.svg)\n",
    "> Figure 2. Walls forming thermal coductances in the model."
   ]
  },
  {
   "cell_type": "markdown",
   "id": "961c9df9-f330-45b3-bd69-efcd09c05856",
   "metadata": {
    "tags": []
   },
   "source": [
    "### Thermal network\n",
    "\n",
    "The thermal network modeling the building is a [weighted directed graph](https://en.m.wikipedia.org/wiki/Directed_graph) (Figure 3). It is composed of edges (or branches) and vertexes (or nodes).\n",
    "\n",
    "The temperature nodes model a volume, a surface, a line or a point in space for which the temperature is considered homogenous. The nodes are dependent temperatures (outputs of the physical system). The reference temperature is considered zero Celsius; it has a known value and is represented by a bar (Figure 3).\n",
    "\n",
    "To a temperature node $\\theta_j$, there are connected [heat flow rate](https://en.m.wikipedia.org/wiki/Rate_of_heat_flow) branches $q_k, k = 0 ... n$ and [heat flow rate sources](https://en.m.wikipedia.org/wiki/Current_source), $f_j$ (Figure 3a). A heat rate source delivers a heat flow rate whatever is the temperature difference. In buildings, typical heat flow rate sources are [solar irradiance](https://en.m.wikipedia.org/wiki/Solar_irradiance), [electrical appliances](https://en.wikipedia.org/wiki/Joule_heating) and [occupants](https://en.wikipedia.org/wiki/Thermal_comfort#Metabolic_rate). If a heat flow rate source is [identically zero](https://en.wiktionary.org/wiki/identically_zero), then it is not figured on the graph.\n",
    "\n",
    "In steady-state, the [algebraic sum of the heat flow rates](https://en.wikipedia.org/wiki/Kirchhoff%27s_circuit_laws#Kirchhoff's_current_law) entering the temperature node $\\theta_j$ is zero:\n",
    "$$\\sum_{k} q_k + f_j= 0$$\n",
    "\n",
    "Two temperature nodes $\\theta_i$ and $\\theta_j$ are connected by directed edges of heat flow rates $q_k$ (Figure 3a). On each edge, there is a conductance $G_k$ and a temperature source $b_k$. A [temperature source](https://en.m.wikipedia.org/wiki/Voltage_source) maintains a temperature value whatever is the heat flow rate. In building, outdoor air, ground, and setpoint temperatures are typical examples of temperature sources. If a temperature source is [identically zero](https://en.wiktionary.org/wiki/identically_zero), then it is not figured on the graph.\n",
    "\n",
    "From the [directed sum of temperature differences over a branch](https://en.m.wikipedia.org/wiki/Kirchhoff%27s_circuit_laws#Kirchhoff's_voltage_law), it results that the [temperature drop](https://en.wikipedia.org/wiki/Voltage_drop) over a conductance is (Figure 3a):\n",
    "$$e_k = \\theta_i - \\theta_j + b_k$$\n",
    "\n",
    "The relation between the temperature drop, $e_k$, over a conductance, $G_k$, and the heat flow rate, $q_k$, thrrough the conductance $G_k$ is:\n",
    "$$q_k = G_k \\, e_k$$\n",
    "\n",
    "This [weighted directed graph](https://en.m.wikipedia.org/wiki/Directed_graph) is characterized by:\n",
    "- $A$ - [incidence matrix](https://en.m.wikipedia.org/wiki/Incidence_matrix);\n",
    "- $G$ - [conductance](https://en.m.wikipedia.org/wiki/Electrical_resistance_and_conductance)  diagonal matrix;\n",
    "- $b$ - vector of [temperature sources](https://en.m.wikipedia.org/wiki/Voltage_source);\n",
    "- $f$ - vector of [flow-rate sources](https://en.m.wikipedia.org/wiki/Current_source).\n",
    "\n",
    "\n",
    "The solution of the problem is ([Ghiaus (2013)](https://hal.archives-ouvertes.fr/hal-03605823/document)):\n",
    "\n",
    "$$ \\theta = (A^TGA)^{-1}(A^TGb + f)$$\n",
    "and\n",
    "$$ q = G(-A\\theta + b)$$\n",
    "\n",
    "![fig](./figures/08_thermal_network.svg)\n",
    "> Figure 3. Thermal network: a) typical element of the thermal network (the sources are not figured if they are identically zero); b) thermal network model for the buiding shown in Figures 1 and 2.\n",
    "\n",
    "For our model, the graph has 20 braches and 8 nodes (Figure 3b)."
   ]
  },
  {
   "cell_type": "code",
   "execution_count": 3,
   "id": "3dff6854-44f4-4b34-a1c7-104e94439d23",
   "metadata": {},
   "outputs": [],
   "source": [
    "nq, nθ = 20, 8  # number of flow-rates branches and of temperaure nodes"
   ]
  },
  {
   "cell_type": "markdown",
   "id": "84ce0ac2-2c7f-4e97-abb2-4518ac8eef47",
   "metadata": {},
   "source": [
    "### Incidence matrix\n",
    "The [incidence matrix of a directed graph](https://en.m.wikipedia.org/wiki/Incidence_matrix) shows the relationship between the edges (or branches) $k$ and the vertexes (or nodes) $j$ of the graph (Figure 3a):\n",
    "\n",
    "$$A_{k,j} = \\begin{cases}\\phantom{-}\n",
    "0 & \\text{if heat flow rate } q_k \\text{ is not connected to node }  \\theta_j \\\\ \n",
    "+1 & \\text{if heat flow rate } q_k \\text{ enters into node }  \\theta_j\\\\ \n",
    "-1 & \\text{if heat flow rate } q_k \\text{ gets out of node }  \\theta_l \n",
    "\\end{cases}$$\n",
    "\n",
    "The incidence matrix is a [sparce matrix](https://en.m.wikipedia.org/wiki/Sparse_matrix) which has:\n",
    "- the number of rows equal to $n_q$, the number of flow rates $q_k$;\n",
    "- the number of columns equal to $n_{\\theta}$, the number of temperature nodes $\\theta_j$."
   ]
  },
  {
   "cell_type": "code",
   "execution_count": 4,
   "id": "81de6c96-d97b-4d65-91d9-e608873471ed",
   "metadata": {},
   "outputs": [],
   "source": [
    "# Incidence matrix\n",
    "# ================\n",
    "A = np.zeros([nq, nθ])\n",
    "\n",
    "# q0 ... q3 (cyan branches)\n",
    "A[0, 0] = 1\n",
    "A[1, 1] = 1\n",
    "A[2, 5] = 1\n",
    "A[3, 7] = 1\n",
    "\n",
    "# q4 ... q7 (blue branches)\n",
    "A[4, 0], A[4, 3] = -1, 1\n",
    "A[5, 1], A[5, 2] = -1, 1\n",
    "A[6, 4], A[6, 5] = -1, 1\n",
    "A[7, 7], A[7, 6] = -1, 1\n",
    "\n",
    "# q8 ... q12 (yellow branches)\n",
    "A[8, 2], A[8, 3] = -1, 1\n",
    "A[9, 3], A[9, 4] = -1, 1\n",
    "A[10, 6], A[10, 2] = -1, 1\n",
    "A[11, 6], A[11, 3] = -1, 1\n",
    "A[12, 6], A[12, 4] = -1, 1\n",
    "\n",
    "# q13 ... q15 (green branches)\n",
    "A[13, 3] = 1\n",
    "A[14, 3], A[14, 6] = -1, 1\n",
    "A[15, 6] = 1\n",
    "\n",
    "# q16 ... q19 (red branches)\n",
    "A[16, 2] = 1\n",
    "A[17, 3] = 1\n",
    "A[18, 4] = 1\n",
    "A[19, 6] = 1"
   ]
  },
  {
   "cell_type": "markdown",
   "id": "43af7d30-a1a8-490f-82ca-754b3a9ce21a",
   "metadata": {
    "tags": []
   },
   "source": [
    "### Conductances\n",
    "The number of conductances correspod to the number of flows which is the number of rows of incidence matrix $A$"
   ]
  },
  {
   "cell_type": "code",
   "execution_count": 5,
   "id": "e0fc9691-7831-4086-9919-0a40e2d12cba",
   "metadata": {},
   "outputs": [],
   "source": [
    "# Conductance matrix\n",
    "# ==================\n",
    "G = np.zeros(A.shape[0])"
   ]
  },
  {
   "cell_type": "markdown",
   "id": "c57c1b8c-98cb-4ba2-b3d8-e60f265a1f0e",
   "metadata": {},
   "source": [
    "#### Exterior walls: outdoor convection\n",
    "The conductances of [convection](https://en.m.wikipedia.org/wiki/Newton%27s_law_of_cooling) between the walls and the outdoor air (in cyan in Figures 2 and 3) are of the form\n",
    "$$G_i = h_o \\, S_{o,k},\\text{ with } k = 0 ... 3$$\n",
    "where $S_{o,k}$ is the surface area of the wall in contact with the outdoor air:\n",
    "- $S_{o,0} = L \\, H$;\n",
    "- $S_{o,1} = S_{o,2} = (L + l) H$;\n",
    "- $S_{o,3} = (2l + 3L + 2w)H$.\n"
   ]
  },
  {
   "cell_type": "code",
   "execution_count": 6,
   "id": "b31f00f6-561e-495b-b24a-a2e092d941ef",
   "metadata": {},
   "outputs": [],
   "source": [
    "# G0 ... G3 (cyan branches): outdoor convection\n",
    "L4 = 2 * l + 3 * L + 2 * w      # length outdoor wall room 4\n",
    "So = np.array([L, L + l, L + l, L4]) * H    # outdoor surfaces\n",
    "G[0:4] = ho * So"
   ]
  },
  {
   "cell_type": "markdown",
   "id": "ed725854-d368-40f3-b25d-219f43a793f1",
   "metadata": {},
   "source": [
    "#### Exterior walls: conduction and indoor convection\n",
    "The [equivalent conductance](https://en.m.wikipedia.org/wiki/Series_and_parallel_circuits#Combining_conductances) for [conduction](https://en.m.wikipedia.org/wiki/Thermal_conduction) in the wall and [convection](https://en.m.wikipedia.org/wiki/Newton%27s_law_of_cooling) between the wall and the indoor air (in blue in Figure 3) is:\n",
    "$$G_k = \\frac{1}{\\frac{w}{\\lambda} + \\frac{1}{h_i}}S_{o,j},\\text{ with } k = 4 ... 7, j = 0 ... 3$$"
   ]
  },
  {
   "cell_type": "code",
   "execution_count": 7,
   "id": "6a0614b5-26b9-4121-89b6-e31714c24e54",
   "metadata": {},
   "outputs": [],
   "source": [
    "# G4 ... G7 (blue branches): conduction, indoor convection\n",
    "G[4:8] = 1 / (w / λ + 1 / hi) * So"
   ]
  },
  {
   "cell_type": "markdown",
   "id": "b0f6bc05-0487-4035-854f-63527e34767f",
   "metadata": {},
   "source": [
    "#### Interior walls: indoor convection, conduction indoor convection\n",
    "The [equivalent conductance](https://en.m.wikipedia.org/wiki/Series_and_parallel_circuits#Combining_conductances) for the indoor walls is formed by the (yellow in Figures 2 and 3):\n",
    "- convetion between wall and indoor air;\n",
    "- conduction into the wall;\n",
    "- convetion between wall and indoor air.\n",
    "\n",
    "It is of the form:\n",
    "$$G_k = \\frac{1}{\\frac{1}{h_i} + \\frac{w}{\\lambda} + \\frac{1}{h_i}}S_{i,j}, \\text{ with } k = 8 ... 12, \\text{ and } j = 0 ... 4$$\n",
    "\n",
    "where $S_{i,j}$ is the surface area of the wall in contact with the indoor air:\n",
    "- $S_{i,0} = S_{i,1} = l \\, H$;\n",
    "- $S_{i,2} = S_{i,3} = S_{i,4} = L \\, H$."
   ]
  },
  {
   "cell_type": "code",
   "execution_count": 8,
   "id": "6486236e-47e3-44b3-b44c-97210e178d96",
   "metadata": {},
   "outputs": [],
   "source": [
    "# G8 ... G12 (yellow branches): indoor walls\n",
    "#    indoor convection, conduction, indoor convection\n",
    "Si = np.array([l, l, L, L, L]) * H\n",
    "G[8:13] = 1 / (1 / hi + w / λ + 1 / hi) * Si"
   ]
  },
  {
   "cell_type": "markdown",
   "id": "e1ada68a-198b-4219-b38e-660d9b8a1cce",
   "metadata": {
    "tags": []
   },
   "source": [
    "#### Ventilation: heat transfer by advection\n",
    "\n",
    "Ventilation of rooms 2 and 4 transfers heat to these spaces by [advection](https://en.m.wikipedia.org/wiki/Advection) (Figure 4). The [energy flow rate carried by the fluid](https://en.m.wikipedia.org/wiki/Mass_flow_rate) is:\n",
    "$$\\dot H = \\dot m c \\theta$$\n",
    "where:\n",
    "- $\\dot H$ is the [enthalpy](https://en.m.wikipedia.org/wiki/Enthalpy#Relationship_to_heat) rate carried by the air, W;\n",
    "- $\\dot m$ - mass flow rate of the air, kg / s;\n",
    "- $c$ - [specific heat capacity](https://en.m.wikipedia.org/wiki/Specific_heat_capacity) of the air, J / (kg⋅K);\n",
    "- $\\theta$ - air temperature, °C.\n",
    "\n",
    "##### Air-flow: outdoor → room 2 → room 4 → outdoor\n",
    "\n",
    "If the airflow is from outdoor to room 2, then the heat flow rate tranferred from outdoor air to the indoor air of room 2 is (Figure 4 a):\n",
    "$$q_{13} = \\dot m c T_o - \\dot m c \\theta_3$$\n",
    "or\n",
    "$$q_{13} = G_{13}(T_o - \\theta_3)$$\n",
    "where $G_{13} = \\dot m c$.\n",
    "\n",
    "The heat flow rate transferred by advection of the air from room 2 to room 4 is (Figure 4 a):\n",
    "$$q_{14a} = \\dot m c \\theta_3 - \\dot m c \\theta_6$$\n",
    "or\n",
    "$$q_{14a} = G_{14}(\\theta_3 - \\theta_6)$$\n",
    "where $G_{14} = \\dot m c$.\n",
    "\n",
    "![fig](./figures/08_vent_advection.svg)\n",
    "> Figure 4. Heat advection by ventilation. a) Air-flow: outdoor  → room 2 → room 4 → outdoor. b) Air-flow: outdoor → room 4 → room 2 → outdoor.\n",
    "\n",
    "##### Air-flow: outdoor → room 4 → room 2 → outdoor\n",
    "\n",
    "If the airflow is from room 4 to room 2 (Figure 4 b), then the heat flow rate tranferred to the indoor air of room 2 is:\n",
    "$$q_{14b} = \\dot m c \\theta_6 - \\dot m c \\theta_3$$\n",
    "or\n",
    "$$q_{14b} = G_{14}(\\theta_6 - \\theta_3)$$\n",
    "where $G_{14} = \\dot m c$.\n",
    "\n",
    "The heat flow rate transferred by advection from the outdoor air to room 4 is:\n",
    "$$q_{15} = \\dot m c T_o - \\dot m c \\theta_6$$\n",
    "or\n",
    "$$q_{15} = G_{15}(T_o - \\theta_6)$$\n",
    "where $G_{14} = \\dot m c.$\n",
    "\n",
    "##### Heat flow rate from room 2 to room 4\n",
    "\n",
    "If the air flows from room 2 to room 4, then the heat flow rate is $q_{14a} \\equiv q_{14}.$ If the air flows from room 4 to room 2, then the heat flow rate is $q_{14b} \\equiv -q_{14}.$ Therefore, a single heat flow rate, $q_{14}$, is needed in the thermal network (Figure 3).\n",
    "\n",
    "##### Modelling the change in airflow direction\n",
    "\n",
    "If the air flows in the direction: outdoor  → room 2 → room 4 → outdoor, then conductance $G_{15}$ is zero and conductances $G_{13}$ and $G_{14}$ are equal to $\\dot m c$ (Figure 3 and Figure 4a).\n",
    "\n",
    "If the air flows in the direction: outdoor  → room 2 → room 4 → outdoor, then conductance $G_{13}$ is zero and conductances $G_{14}$ and $G_{15}$ are equal to $\\dot m c$ (Figure 3 and Figure 4b).\n",
    "\n",
    "If there is no ventilation, the conductances $G_{13}$, $G_{14},$ and $G_{15}$ are zero."
   ]
  },
  {
   "cell_type": "code",
   "execution_count": 9,
   "id": "e7749fcc-2265-44d5-904f-8b2cb54683be",
   "metadata": {},
   "outputs": [],
   "source": [
    "# G13 ... G15 (green branches): advection by ventilation\n",
    "G[13:16] = np.zeros(3)"
   ]
  },
  {
   "cell_type": "markdown",
   "id": "4bae1c51-9a35-4401-99ce-b0453fe35188",
   "metadata": {},
   "source": [
    "> Table 1. Typical values for the ventilation rates (in air changes per hour, ACH) as a function of the position of windows (H. Recknagel, E. Spenger, E_R Schramek (2013), Table 1.12.1-4)\n",
    "\n",
    "| Position of windows                     | Ventilation rate, ACH [h⁻ⁱ] |\n",
    "| --------------------------------------- | ---------------------- |\n",
    "| Window closed, doors closed             | 0 to 0.5 |\n",
    "| Tilted window, venetian blind closed    | 0.3 to 1.5 |\n",
    "| Tilted window, whitout venetian blind   | 0.8 to 4.0 |\n",
    "| Window half opened                      | 5 to 10 |\n",
    "| Window fully open                       | 9 to 15 |\n",
    "| Window and French window fully open (cross ventilation) | about 40 |"
   ]
  },
  {
   "cell_type": "markdown",
   "id": "ea6641d8-ec00-4222-8184-1cb02ff50323",
   "metadata": {},
   "source": [
    "#### Proportional controller\n",
    "\n",
    "The heating, ventilation, and air conditioning ([HVAC](https://en.wikipedia.org/wiki/Heating,_ventilation,_and_air_conditioning)) system maintains the indoor air temperature at [setpoint](https://en.wikipedia.org/wiki/Setpoint_(control_system)) value. Therefore, the HVAC system may be modelled as a [proportional controller](https://en.m.wikipedia.org/wiki/Proportional_control) (Figure 5a) for wich the heat flow rate of the HVAC system is:\n",
    "\n",
    "$$q = K_P (T_{sp} - \\theta)$$\n",
    "\n",
    "where:\n",
    "- $K_P$ is the [proportional gain;](https://en.wikipedia.org/wiki/Proportional_control#Theory)\n",
    "- $T_{sp}$ - setpoint temperature, °C;\n",
    "- $\\theta$ - measured temperature of the indoor air, °C.\n",
    "\n",
    "The heat flow rate can be then expressed as (Figure 5b):\n",
    "$$q = G (T_{sp} - \\theta)$$\n",
    "where $G \\equiv K_p$.\n",
    "\n",
    "The indoor air temperature control by the HVAC system (Figure 5a) may be modelled by a source of temperature, $T_{sp}$, and a conductance, $G$ (Figure 5b).\n",
    "\n",
    "![fig](./figures/08_P-controller.svg)\n",
    "> Figure 5. Model of a proportional controller in a thermal network (example for room 1). a) Principle of a temperature control system using a P-controller. b) Model of temperature control system in a thermal network.\n",
    "\n",
    "If the rooms are in \"free-runnning\" (i.e., the controllers are not active), the proportional gains of the controllers are zero."
   ]
  },
  {
   "cell_type": "code",
   "execution_count": 10,
   "id": "b89b9c1d-4e48-4254-b01f-2303bcd210c6",
   "metadata": {},
   "outputs": [],
   "source": [
    "# G16 ... G19 (red branches): gains of proportional controllers\n",
    "G[16:20] = np.zeros(4)"
   ]
  },
  {
   "cell_type": "markdown",
   "id": "dd043bba-5964-4ff4-9b3f-96d129375bed",
   "metadata": {},
   "source": [
    "### Vector of temperature sources\n",
    "\n",
    "Every edge (or branch) of the graph has a [temperature source](https://en.m.wikipedia.org/wiki/Voltage_source) which is not figured if it is [identically zero](https://en.wiktionary.org/wiki/identically_zero) (Figure 3a). The number of temperature sources is equal to the number of heat flow rates, i.e., the number of rows of the incidence matrix $A$."
   ]
  },
  {
   "cell_type": "code",
   "execution_count": 11,
   "id": "3ea1f598-99c0-493e-b7a1-5806ec349ab0",
   "metadata": {},
   "outputs": [],
   "source": [
    "# Vector of temperature sources\n",
    "# =============================\n",
    "b = np.zeros(A.shape[0])"
   ]
  },
  {
   "cell_type": "markdown",
   "id": "c87e7130-6baf-4d46-8182-695b7fb6808a",
   "metadata": {},
   "source": [
    "The temperature sources modelling the outdoor temperature of the walls are on branches 0 ... 3."
   ]
  },
  {
   "cell_type": "code",
   "execution_count": 12,
   "id": "1370d5b8-e309-4cd3-be92-0784546a71ce",
   "metadata": {},
   "outputs": [],
   "source": [
    "b[0:4] = To         # cyan branches: outdoor temperature for walls"
   ]
  },
  {
   "cell_type": "markdown",
   "id": "162a26d1-f3f1-4fc2-8add-f063a146abaf",
   "metadata": {},
   "source": [
    "The temperature sources modelling the outdoor temperature for the ventilation are on braches 13 and 15."
   ]
  },
  {
   "cell_type": "code",
   "execution_count": 13,
   "id": "8bfa0f0d-9e1a-4ace-be1a-7442efe35970",
   "metadata": {},
   "outputs": [],
   "source": [
    "b[[13, 15]] = To    # green branches: outdoor temperature for ventilation"
   ]
  },
  {
   "cell_type": "markdown",
   "id": "3b75d7d8-9409-4f3c-92ad-bafefad56abd",
   "metadata": {},
   "source": [
    "The temperature sources modelling the [setpoint](https://en.m.wikipedia.org/wiki/Setpoint_(control_system)) temperatures are on the branches 16, ... 19. The setpoints for room 1 and 3 are 20 °C and 22 °C, respectively.  "
   ]
  },
  {
   "cell_type": "code",
   "execution_count": 14,
   "id": "acf49cd5-56e9-4fcc-a9cd-7aa4359ac406",
   "metadata": {},
   "outputs": [],
   "source": [
    "b[[16, 18]] = 20, 22    # red branches: setpoints room 1 & 3"
   ]
  },
  {
   "cell_type": "markdown",
   "id": "f8c45fa6-3027-4dd9-bc1b-e7b394abd3a1",
   "metadata": {},
   "source": [
    "### Vector of heat flow rate sources\n",
    "\n",
    "In our model, the heat flow rate sources are the solar radiation absorbed by the exterior walls. First, we will consider that the solar radiation is zero.\n",
    "\n",
    "The number of heat flow rate sources is equal to the number of temperature nodes, i.e., the number of columns of the incidence matrix $A$."
   ]
  },
  {
   "cell_type": "code",
   "execution_count": 15,
   "id": "a2d68394-5c7e-4849-8d8c-4a0df461fcbb",
   "metadata": {},
   "outputs": [],
   "source": [
    "# Vector of flow-rate sources\n",
    "# =============================\n",
    "f = np.zeros(A.shape[1])"
   ]
  },
  {
   "cell_type": "markdown",
   "id": "9f73b706-4bca-4022-81ff-89e85732333b",
   "metadata": {},
   "source": [
    "### Outputs\n",
    "\n",
    "In this problem, we are looking for the indoor air temperatures of the rooms (1, 2, 3, and 4) and for the thermal loads of the rooms.\n",
    "\n",
    "The air temperatures of the rooms are $\\theta_2$, $\\theta_3$, $\\theta_4$, and $\\theta_6$,\n",
    "\n",
    "The [thermal load](https://en.m.wikipedia.org/wiki/Cooling_load) is the heat flow rate needed to compensate all the other heat flow rates in order to maintain the air temperature at its setpoint. Therefore, the thermal loads are the heat flow rates of the controllers, i.e. $q_{16 ... 19}$."
   ]
  },
  {
   "cell_type": "code",
   "execution_count": 16,
   "id": "f980faca-76ef-45f8-8327-b6dd5e895805",
   "metadata": {},
   "outputs": [],
   "source": [
    "# Indexes of outputs\n",
    "# ==================\n",
    "indoor_air = [2, 3, 4, 6]   # indoor air temperature nodes\n",
    "controller = range(16, 20)  # controller branches"
   ]
  },
  {
   "cell_type": "markdown",
   "id": "728a4dc2-77f4-4c9a-8603-694ac48c1353",
   "metadata": {},
   "source": [
    "## Question 1: all 4 rooms are controlled\n",
    "\n",
    "Considering that all four rooms are controlled by a HVAC system at the setpoint temperatures 20 °C, 20 °C, 22 °C, 18 °C for rooms 1, 2, 3, and 4, respectively and that the there is no solar radiation on the external walls, find the thermal loads of the four rooms.\n",
    "\n",
    "For an almost perfect proportional controller, we will consider a very large gain of the controller as compared to the maximum value of the conductance matrix."
   ]
  },
  {
   "cell_type": "code",
   "execution_count": 17,
   "id": "64dc4e6c-2a7e-4b86-b409-860fff2c5e09",
   "metadata": {},
   "outputs": [
    {
     "name": "stdout",
     "output_type": "stream",
     "text": [
      "Maximum value of conductance: 1830 W/K\n"
     ]
    }
   ],
   "source": [
    "print(f\"Maximum value of conductance: {max(G):.0f} W/K\")"
   ]
  },
  {
   "cell_type": "code",
   "execution_count": 18,
   "id": "6a81b056-c0e3-4852-9804-2194b7702032",
   "metadata": {},
   "outputs": [
    {
     "name": "stdout",
     "output_type": "stream",
     "text": [
      "1. All 4 rooms controlled\n",
      "θ: [20. 20. 22. 18.] °C\n",
      "q: [2008.4 1322.6 2346.4 4270. ] W\n"
     ]
    }
   ],
   "source": [
    "b[controller] = 20, 20, 22, 18  # °C setpoint temperature of the rooms\n",
    "G[controller] = 1e9             # P-controller gain\n",
    "\n",
    "θ = np.linalg.inv(A.T @ np.diag(G) @ A) @ (A.T @ np.diag(G) @ b + f)\n",
    "q = np.diag(G) @ (-A @ θ + b)\n",
    "print(\"1. All 4 rooms controlled\")\n",
    "print(\"θ:\", θ[indoor_air], \"°C\")\n",
    "print(\"q:\", q[controller], \"W\")"
   ]
  },
  {
   "cell_type": "markdown",
   "id": "dcaf80c0-6f36-4b18-bce2-126a36c4890d",
   "metadata": {
    "jp-MarkdownHeadingCollapsed": true,
    "tags": []
   },
   "source": [
    "## Question 2: rooms 2 & 4 in free-running\n",
    "\n",
    "Let's consider that:\n",
    "- there is solar radiation absorbed by the exterior walls, i.e. $f_k = E \\, S_{o,j}, \\text{ with } k = 0, 1, 5, 7 \\text{ and } j = 0...3;$\n",
    "- as before, rooms 1 and 3 are controlled by a HVAC system, i.e. $K_{P,j} \\rightarrow \\infty, \\text{ with } j=16, 18;$\n",
    "- rooms 2 and 4 are in \"[free-running](https://hal.science/hal-01815799/document)\", i.e. $K_{P,j} = 0, \\text{ with } j=17, 19.$ \n",
    "\n",
    "Find the thermal loads of rooms 1 and 3 and the temperatures of the indoor air of rooms 2 and 4."
   ]
  },
  {
   "cell_type": "code",
   "execution_count": 19,
   "id": "8d06dbf3-5a56-4961-9625-aa153a8ab702",
   "metadata": {},
   "outputs": [
    {
     "name": "stdout",
     "output_type": "stream",
     "text": [
      "2. 2 & 4 free-run w/o ventilation\n",
      "θ: [20.  13.1 22.  11.7] °C\n",
      "q: [1719.8    0.  2057.8    0. ] W\n"
     ]
    }
   ],
   "source": [
    "# Zone 2 & 4 free-running; solar rad; without ventilation\n",
    "G[[17, 19]] = 0     # controller gains for room 2 & 4\n",
    "\n",
    "# Solar radiation\n",
    "exterior_wall = [0, 1, 5, 7]\n",
    "f[exterior_wall] = E * So\n",
    "\n",
    "θ = np.linalg.inv(A.T @ np.diag(G) @ A) @ (A.T @ np.diag(G) @ b + f)\n",
    "q = np.diag(G) @ (-A @ θ + b)\n",
    "print(\"2. 2 & 4 free-run w/o ventilation\")\n",
    "print(\"θ:\", θ[indoor_air], \"°C\")\n",
    "print(\"q:\", q[controller], \"W\")"
   ]
  },
  {
   "cell_type": "markdown",
   "id": "fd6d9d71-dd1e-46f5-ab5f-0898240f8224",
   "metadata": {},
   "source": [
    "## Question 3: ventilation from outdoor to room 2\n",
    "\n",
    "Room 2 in ventilated with an air flow rate of $ACH$ (ACH is the number of air-changes per hour). The outdoor air enters in room 2, then it moves to room 4 and, from here, it gets outdoors.\n",
    "\n",
    "Find the thermal loads of rooms 1 and 3 and the temperatures of the indoor air of rooms 2 and 4.\n",
    "\n",
    "To model this direction of air flow, the conductances for ventilation are:\n",
    "$$G_{13} = G_{14} = \\dot m c; G_{15} = 0 $$"
   ]
  },
  {
   "cell_type": "code",
   "execution_count": 20,
   "id": "9f6f7c65-9bd3-419d-b20f-4f06a54db3ed",
   "metadata": {},
   "outputs": [
    {
     "name": "stdout",
     "output_type": "stream",
     "text": [
      "3. 2 & 4 free-run, ventilation out -> 2 -> 4 -> out\n",
      "θ: [20.  11.7 22.  11.6] °C\n",
      "q: [1761.1    0.  2099.     0. ] W\n"
     ]
    }
   ],
   "source": [
    "# Zone 2 & 4 free-running; solar rad;\n",
    "# Ventilation outdoor -> room 2 -> room 4 -> outdoor\n",
    "ventilation = range(13, 16)\n",
    "G[ventilation] = m_dot * c, m_dot * c, 0\n",
    "\n",
    "θ = np.linalg.inv(A.T @ np.diag(G) @ A) @ (A.T @ np.diag(G) @ b + f)\n",
    "q = np.diag(G) @ (-A @ θ + b)\n",
    "print(\"3. 2 & 4 free-run, ventilation out -> 2 -> 4 -> out\")\n",
    "print(\"θ:\", θ[indoor_air], \"°C\")\n",
    "print(\"q:\", q[controller], \"W\")"
   ]
  },
  {
   "cell_type": "markdown",
   "id": "2e91b6cc-8aad-45ae-b4f3-47951f2a6293",
   "metadata": {},
   "source": [
    "## Question 4: ventilation from room 4 to room 2\n",
    "\n",
    "The air flow in room 2 is reversed: from outdoors, the air enters in room 4, then is moves to room 2, from which it gets outdoors. The air flow rate of room 2 is the same as before.\n",
    "\n",
    "Find the thermal loads of rooms 1 and 3 and the temperatures of the indoor air of rooms 2 and 4.\n",
    "\n",
    "To model this direction of air flow, the conductances for ventilation are:\n",
    "$$G_{13} = 0; G_{14} = G_{15} = \\dot m c $$"
   ]
  },
  {
   "cell_type": "code",
   "execution_count": 21,
   "id": "519f5987-76a7-4ba1-bda2-686475e5616e",
   "metadata": {},
   "outputs": [
    {
     "name": "stdout",
     "output_type": "stream",
     "text": [
      "4. 2 & 4 free-run, ventilation out -> 4 -> 2 -> out\n",
      "θ: [20.  12.8 22.  11.3] °C\n",
      "q: [1750.5    0.  2088.4    0. ] W\n"
     ]
    }
   ],
   "source": [
    "# Zone 2 & 4 free-running; solar rad;\n",
    "# Ventilation outdoor -> room 4 -> room 2 -> outdoor\n",
    "G[ventilation] = 0, m_dot * c, m_dot * c\n",
    "\n",
    "θ = np.linalg.inv(A.T @ np.diag(G) @ A) @ (A.T @ np.diag(G) @ b + f)\n",
    "q = np.diag(G) @ (-A @ θ + b)\n",
    "print(\"4. 2 & 4 free-run, ventilation out -> 4 -> 2 -> out\")\n",
    "print(\"θ:\", θ[indoor_air], \"°C\")\n",
    "print(\"q:\", q[controller], \"W\")"
   ]
  },
  {
   "cell_type": "markdown",
   "id": "2d142e5c-9667-4b33-8139-710f848a1981",
   "metadata": {},
   "source": [
    "## References\n",
    "\n",
    "1. C. Ghiaus (2013) Causality issue in the heat balance method for calculating the design heating and cooling loads, *Energy* 50: 292-301, https://doi.org/10.1016/j.energy.2012.10.024, open access preprint: [hal-03605823](https://hal.archives-ouvertes.fr/hal-03605823/document)\n",
    "\n",
    "2. H. Recknagel, E. Sprenger, E.-R. Schramek (2013) Génie climatique, 5e edition, Dunod, Paris. ISBN 978-2-10-070451-4"
   ]
  },
  {
   "cell_type": "markdown",
   "id": "1eccdd1b-2d8b-4181-98e4-d3cafc224f2b",
   "metadata": {},
   "source": [
    "# [Air flow by ventilation](09Air_flow_ventilation.ipynb)"
   ]
  },
  {
   "cell_type": "code",
   "execution_count": null,
   "id": "26208138-24f0-4cd0-98a4-a5be8bc8a966",
   "metadata": {},
   "outputs": [],
   "source": []
  }
 ],
 "metadata": {
  "kernelspec": {
   "display_name": "Python 3 (ipykernel)",
   "language": "python",
   "name": "python3"
  },
  "language_info": {
   "codemirror_mode": {
    "name": "ipython",
    "version": 3
   },
   "file_extension": ".py",
   "mimetype": "text/x-python",
   "name": "python",
   "nbconvert_exporter": "python",
   "pygments_lexer": "ipython3",
   "version": "3.9.7"
  },
  "toc-autonumbering": true
 },
 "nbformat": 4,
 "nbformat_minor": 5
}
