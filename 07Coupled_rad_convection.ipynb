{
 "cells": [
  {
   "cell_type": "markdown",
   "id": "6f54c071-10e0-45c9-aae4-f62729695b59",
   "metadata": {
    "tags": []
   },
   "source": [
    "# Radiation coupled with convection"
   ]
  },
  {
   "cell_type": "markdown",
   "id": "4ebf2091-7ef1-4716-b500-a35b29b7c3db",
   "metadata": {},
   "source": [
    "![Figure 1](./figures/07_radiation_convect_prism.png)\n",
    "\n",
    "> Figures 1. a) Triagular prism. b) Heat flow rate balance on a surface."
   ]
  },
  {
   "cell_type": "markdown",
   "id": "2c90d8ed-24cc-4ba7-81fd-919ba9e3c3a0",
   "metadata": {
    "tags": []
   },
   "source": [
    "## Problem\n",
    "\n",
    "Let's consider a triangular prism of infinite lenght (Figure 1a) with the characteristics:\n",
    "- surface 1: transparnt in short-wave, $\\tau_{SW}=1$, opaque $\\tau_{LW} = 0$ and absorbant $\\alpha_{LW} = 0.8$ in long-wave.\n",
    "- surfaces 2 and 3: opaque $\\tau_{SW}=1$ and absorbant $\\alpha_{SW} = 0.8$ in short-wave and opaque $\\tau_{LW} = 0$ and absorbant $\\alpha_{LW} = 0.8$ in long-wave.\n",
    "\n",
    "The short wave (solar) radiation on the walls 1 and 2 are $E^o_1 = 120 \\, \\mathrm{W/m²}$ and $E^o_2 = 100 \\, \\mathrm{W/m²}$, respectively.\n",
    "\n",
    "The indoor temperature of the prism is controlled at $T_i = 20\\,\\mathrm{°C}$. The heat convection coefficient between the walls and the indoor air is $h_i = 5 \\, \\mathrm{W/m²K}$ for all wals.\n",
    "\n",
    "The temperature of each wall is considered homogeneous. The heat balance of a wall is represented in Figure 1b.\n",
    "The heat flow rate by conduction is negligible for all walls, $\\varphi_{cd} = 0$ (Figure 1b).\n",
    "\n",
    "In this conditions, find the temperatures of the walls."
   ]
  },
  {
   "cell_type": "code",
   "execution_count": 1,
   "id": "3ef12cfb-fa47-4080-9fc8-cd546192c19b",
   "metadata": {},
   "outputs": [],
   "source": [
    "import numpy as np\n",
    " \n",
    "np.set_printoptions(precision=3)\n",
    "\n",
    "# Stefan-Bolzmann constant\n",
    "σ = 5.670e-8    # W / (m2 K4)\n",
    "\n",
    "# Transmission coefficients - long-wave (LW)\n",
    "τ = np.zeros(3)\n",
    "τ[0] = 1\n",
    "τ = np.diag(τ)\n",
    "\n",
    "# Coefficients d'absorbtion CLO\n",
    "α = np.zeros(3)\n",
    "α[1] = α[2] = 0.8\n",
    "α = np.diag(α)\n",
    "\n",
    "# Coefficient de reflexion en CLO\n",
    "ρ = 1 - (α + τ)\n",
    "\n",
    "Ta = 20     # °C, température air intérieure\n",
    "Ta = Ta * np.ones(3)\n",
    "h = 5       # W/(m2 K)\n",
    "h = h * np.eye(3)\n",
    "\n",
    "# Identity matrix\n",
    "I = np.eye(3)"
   ]
  },
  {
   "cell_type": "markdown",
   "id": "f25a21cc-de9b-4d36-85a2-184ee5f94444",
   "metadata": {
    "tags": []
   },
   "source": [
    "## Solution\n",
    "\n",
    "### View factors\n",
    "$F_{1,1} = F_{2,2} = F_{3,3} $ - the surfaces are flat.\n",
    "\n",
    "$F_{1,2} = F_{3,1}$ - due to symetry.\n",
    "\n",
    "From the complementarity relation of view factors, $\\sum_{j} F_{1, j} = F_{1, 1} + F_{1, 2} + F_{1, 3} = 1$, is results that $F_{1, 2} = F_{1, 3} = 1/2$.\n",
    "\n",
    "From the reciprocity relation, $F_{1,2}S_1 = F_{2,1}S_2$ and from the relation between surface areas, $S_1 = \\sqrt{2}S_2$, it results that $ \\sqrt{2} F_{1, 2} = F_{2, 1}$, i.e. $F_{2, 1} = \\sqrt{2} / 2$.\n",
    "\n",
    "From the complementarity relation of view factors, $\\sum_{j} F_{2, j} = F_{2, 1} + F_{2, 2} + F_{2, 3} = 1$, is results that $F_{2, 3} = 1 - F_{2, 1} = 1 - \\sqrt{2} / 2$.\n",
    "\n",
    "Due to symetry, $F_{3, 2} = F_{2, 3}$ "
   ]
  },
  {
   "cell_type": "code",
   "execution_count": 2,
   "id": "f4c4abfa-693d-4838-a537-4cd3bcbc58ba",
   "metadata": {},
   "outputs": [
    {
     "name": "stdout",
     "output_type": "stream",
     "text": [
      "F = \n",
      "[[0.    0.5   0.5  ]\n",
      " [0.707 0.    0.293]\n",
      " [0.707 0.293 0.   ]]\n"
     ]
    }
   ],
   "source": [
    "F = np.zeros([3, 3])\n",
    "F[0, 1] = F[0, 2] = 1 / 2\n",
    "F[1, 0] = F[2, 0] = np.sqrt(2) / 2\n",
    "F[1, 2] = F[2, 1] = 1 - F[1, 0]\n",
    "print(\"F = \")\n",
    "print(F)"
   ]
  },
  {
   "cell_type": "markdown",
   "id": "1f2eedf2-2eac-49f9-819e-d985e67fc7cf",
   "metadata": {},
   "source": [
    "### Short-wave (solar) radiation\n",
    "\n",
    "The set of previous equation for short-wave solar radiation:\n",
    "\n",
    "$$\n",
    "\\begin{bmatrix}\n",
    "1 - \\rho_1 F_{1,1} & - \\rho_2 F_{1,2}    & - \\rho_n F_{1,3}\\\\ \n",
    "- \\rho_1 F_{2,1}   & 1 - \\rho_2 F_{2,2}  & - \\rho_n F_{2,n3} \\\\ \n",
    "- \\rho_1 F_{n,1}   & - \\rho_2 F_{n,1}    & 1 - \\rho_n F_{n,n}\n",
    "\\end{bmatrix} \\begin{bmatrix}\n",
    "E_1\\\\ \n",
    "E_2\\\\ \n",
    "E_3\n",
    "\\end{bmatrix} = \\begin{bmatrix}\n",
    "E_{1}^{o}\\\\ \n",
    "E_{2}^{o}\\\\  \n",
    "E_{3}^{o}\n",
    "\\end{bmatrix}\n",
    "$$\n",
    "\n",
    "or\n",
    "\n",
    "$$(I - \\rho \\circ F) E = E^o$$\n",
    "\n",
    "The unknown total [irradiances](https://en.m.wikipedia.org/wiki/Irradiance) on walls, in W/m², are then\n",
    "\n",
    "$$ E = (I - \\rho \\circ F)^{-1} E^o$$\n",
    "\n",
    "where:\n",
    "\n",
    "- the symbol $\\circ$ represents the [Hadamard (or element-wise) product](https://en.wikipedia.org/wiki/Hadamard_product_(matrices));\n",
    "\n",
    "$I =\\begin{bmatrix}\n",
    "1 & 0 & 0 \\\\ \n",
    "0 & 1 & 0 \\\\ \n",
    "0 & 0 & 1 \n",
    "\\end{bmatrix}, $ is the [identity matrix](https://en.m.wikipedia.org/wiki/Identity_matrix);\n",
    "\n",
    "$\\rho = \\begin{bmatrix}\n",
    "\\rho_1\\\\ \n",
    "\\rho_2\\\\ \n",
    "\\rho_3\n",
    "\\end{bmatrix}$ - vector of [reflectances](https://en.m.wikipedia.org/wiki/Reflectance), $0 \\le \\rho_{i,j} \\le 1$;\n",
    "\n",
    "$F = \\begin{bmatrix}\n",
    "F_{1,1} & F_{1,2} & F_{1,3}\\\\ \n",
    "F_{2,1} & F_{2,2} & F_{2,3} \\\\ \n",
    "F_{3,1} & F_{3,2} & F_{3,3}\n",
    "\\end{bmatrix}$ - matrix of [view factors](https://en.m.wikipedia.org/wiki/View_factor), $0 \\le F_{i,j} \\le 1$;\n",
    "\n",
    "$E^o = \\begin{bmatrix}\n",
    "E_{1}^{o}\\\\ \n",
    "E_{2}^{o}\\\\ \n",
    "E_{3}^{o}\n",
    "\\end{bmatrix}$ - vector of [direct solar irradiances](https://en.m.wikipedia.org/wiki/Solar_irradiance), W/m²;\n",
    "\n",
    "$E = \\begin{bmatrix}\n",
    "E_1\\\\ \n",
    "E_2\\\\  \n",
    "E_3\n",
    "\\end{bmatrix}$ - vector of unknown total irradiances, W/m².\n"
   ]
  },
  {
   "cell_type": "code",
   "execution_count": 3,
   "id": "fdb44ab6-86f9-4534-8cfa-bcdb66b59e5d",
   "metadata": {},
   "outputs": [
    {
     "name": "stdout",
     "output_type": "stream",
     "text": [
      "E = \n",
      "[ 23.369 126.291 107.398] W/m²\n"
     ]
    }
   ],
   "source": [
    "E0 = np.zeros(3)\n",
    "E0[1], E0[2] = 120, 100     # W/m2\n",
    "\n",
    "E = np.linalg.inv((I - np.diag(ρ) * F)) @ E0\n",
    "print(\"E = \")\n",
    "print(E, 'W/m²')"
   ]
  },
  {
   "cell_type": "markdown",
   "id": "962f7257-0495-41a8-a4c4-7b7a34e509da",
   "metadata": {},
   "source": [
    "Short-wave heat flow rate absorbed by the surfaces:\n",
    "$$\\varphi = \\alpha E$$"
   ]
  },
  {
   "cell_type": "code",
   "execution_count": 4,
   "id": "6bf8df8f-10dc-4317-b259-ffd1ed815cae",
   "metadata": {},
   "outputs": [
    {
     "name": "stdout",
     "output_type": "stream",
     "text": [
      "φ_SW = \n",
      "[  0.    101.033  85.918] W/m²\n"
     ]
    }
   ],
   "source": [
    "φSW = np.diag(α) * E\n",
    "print('φ_SW = ')\n",
    "print(φSW, 'W/m²')"
   ]
  },
  {
   "cell_type": "markdown",
   "id": "1aafe26e-51fa-49f3-b27c-8e9628407172",
   "metadata": {},
   "source": [
    "### Long-wave (infrared) thermal radiation\n",
    "\n",
    "Long-wave absorbtion coefficinets of the surfaces are $\\alpha_{LW,0} = \\alpha_{LW,1} = \\alpha_{LW,2} = 0.8$."
   ]
  },
  {
   "cell_type": "code",
   "execution_count": 5,
   "id": "c19ad21b-b676-4f36-9234-e1e73aa8c677",
   "metadata": {},
   "outputs": [],
   "source": [
    "α = 0.8 * np.ones(3)\n",
    "α = np.diag(α)\n",
    "ε = α       # Kirchhoff law"
   ]
  },
  {
   "cell_type": "markdown",
   "id": "7fa0950e-8445-4aa6-94e7-f049eda0fead",
   "metadata": {},
   "source": [
    "The net flow rate density emmitted by a surface is:\n",
    "$$\\varphi_{LW, i} = \\varepsilon_i M^o_i - \\alpha_i E_{LW,i}$$\n",
    "where:\n",
    "- $M^o_i$ - [emmitance](https://en.m.wikipedia.org/wiki/Radiant_exitance) of the surface, $M^o_i = \\sigma T_i^4$;\n",
    "- $E_{LW,i}$ - global long wave radiation (luminace) received by the surface;\n",
    "- $\\alpha_i$ - coefficent of absortivity in long wave;\n",
    "- $\\varepsilon_i$ - coeffient of emmissivity in long wave.\n",
    "\n",
    "The global long wave radiation (luminace) received by the surface is the sum of the emmitted and reflected flow, refe\n",
    "\n",
    "$$S_i E_{LW,i} = \\sum_j F_{j, i} S_j (\\varepsilon_jM^o_j + \\rho_j E_{LW, j}) = \\sum_j F_{j, i} S_j J_j$$\n",
    "\n",
    "where:\n",
    "- $J_j$ is the [radiosity](https://en.m.wikipedia.org/wiki/Radiosity_(radiometry)).\n",
    "\n",
    "Taking int account the relation of [reciprocity](https://en.wikipedia.org/wiki/View_factor#Reciprocity), $F_{i, j} S_i = F_{j, i} S_j$, it results that\n",
    "\n",
    "$$E_{LW,i} = \\sum_j F_{i, j} (\\varepsilon_jM^o_j + \\rho_j E_{LW, j})$$\n",
    "\n",
    "For opaque walls, $\\tau_i = 0$. Then $\\rho_i = 1 - \\alpha_i$ and, since $\\alpha_i = \\varepsilon_i$, $\\rho_i = 1 - \\varepsilon_i$. Therefore,\n",
    "\n",
    "$$E_{LW,i} - \\sum_j F_{i, j} (1 - \\varepsilon_j) E_{LW,j} = \\sum_j F_{i,j} \\varepsilon_j M^o_j$$\n",
    "\n",
    "In matrix form, this equation is:\n",
    "\n",
    "$$ (I - F(I - \\varepsilon))E_{LW} = F \\varepsilon M^o$$\n",
    "\n",
    "In our case, the matrix $(I - F(I - \\varepsilon))$ is:"
   ]
  },
  {
   "cell_type": "code",
   "execution_count": 6,
   "id": "1601e852-0c81-448d-8ce1-a9998f1a02a1",
   "metadata": {},
   "outputs": [
    {
     "name": "stdout",
     "output_type": "stream",
     "text": [
      "[[ 1.    -0.1   -0.1  ]\n",
      " [-0.141  1.    -0.059]\n",
      " [-0.141 -0.059  1.   ]]\n"
     ]
    }
   ],
   "source": [
    "print(I - F @ (I - ε))"
   ]
  },
  {
   "cell_type": "markdown",
   "id": "3c106409-5dc1-4008-9806-bcaa73e3b51c",
   "metadata": {},
   "source": [
    "and the matrix $F \\varepsilon$ is:"
   ]
  },
  {
   "cell_type": "code",
   "execution_count": 7,
   "id": "8a7cd9ff-e3e3-4e60-84f3-b9b2ebf106ed",
   "metadata": {},
   "outputs": [
    {
     "name": "stdout",
     "output_type": "stream",
     "text": [
      "[[0.    0.4   0.4  ]\n",
      " [0.566 0.    0.234]\n",
      " [0.566 0.234 0.   ]]\n"
     ]
    }
   ],
   "source": [
    "print(F @ ε)"
   ]
  },
  {
   "cell_type": "markdown",
   "id": "586b85b9-2e36-4db6-b71b-60c2fa0b63de",
   "metadata": {},
   "source": [
    "From this equation, it results the vector of long wave radiation on surfaces:\n",
    "\n",
    "$$E_{LW} = [(I - F(I - \\varepsilon))]^{-1} F \\varepsilon M^o$$\n",
    "\n",
    "By substituting $E_{LW}$ into\n",
    "\n",
    "$$\\varphi_{LW, i} = \\varepsilon_i M^o_i - \\alpha_i E_{LW,i}$$\n",
    "\n",
    "we obtain\n",
    "\n",
    "$$\\varphi_{LW} =  \\varepsilon \\{I - [I - F (I - \\varepsilon)]^{-1}\\ F \\varepsilon\\}  M^o = K M^o$$\n",
    "\n",
    "In our case, the matrix $K = \\varepsilon \\{I - [I - F (I - \\varepsilon)]^{-1}\\ F \\varepsilon\\}$ is: "
   ]
  },
  {
   "cell_type": "code",
   "execution_count": 8,
   "id": "00b8e9ff-6e8a-4368-8d3c-67d4913adfaf",
   "metadata": {},
   "outputs": [
    {
     "name": "stdout",
     "output_type": "stream",
     "text": [
      "K = \n",
      "[[ 0.701 -0.35  -0.35 ]\n",
      " [-0.496  0.736 -0.241]\n",
      " [-0.496 -0.241  0.736]]\n"
     ]
    }
   ],
   "source": [
    "K = ε @ (I - np.linalg.inv(I - F @ (I - ε)) @ F @ ε)\n",
    "print(\"K = \")\n",
    "print(K)"
   ]
  },
  {
   "cell_type": "markdown",
   "id": "a295115f-1df5-4fd8-b7b8-58fef9b52340",
   "metadata": {},
   "source": [
    "The equation of $\\varphi_{LW} = K M^o$ is linear in emmitances $M^o$ but not linear in temperatures, since $M^o_i = \\sigma T_i^4$. In order to linearize the equation $\\varphi_{LW} = K \\sigma T^4$, where \n",
    "\n",
    "$$T^4 = \\begin{bmatrix}\n",
    "T_0^4\\\\ \n",
    "T_1^4\\\\ \n",
    "T_2^4\n",
    "\\end{bmatrix}$$\n",
    "\n",
    "is the vector of (absolote values) temperatures of the surfaces.\n",
    "\n",
    "Let's consider the particular case in which all temperatures have the same value $\\bar{T}$. In this case, the heat flow rate between the surfaces is zero,\n",
    "\n",
    "$$\\bar \\varphi_{LW} = K \\sigma \\bar T^4 = 0$$\n",
    "\n",
    "Therefore,\n",
    "\n",
    "$$\\varphi_{LW} - \\bar \\varphi_{LW} = \\varphi_{LW} = K \\sigma (T^4 - \\bar T^4)$$\n",
    "\n",
    "Taking into account that\n",
    "\n",
    "$$T_i^4 - \\bar T_i^4 = (T_i^2 + \\bar T_i^2 )(T_i + \\bar T_i )(T_i - \\bar T_i )$$\n",
    "\n",
    "The linearized equation for long-wave radiation is then:\n",
    "\n",
    "$$\\varphi_{LW} = K M^o = \\sigma K H (T - \\bar T) = \\sigma K H \\theta$$\n",
    "\n",
    "where the matris $H$ is diagonal with elements\n",
    "$$H_i = (T_i^2 + \\bar T_i^2 )(T_i + \\bar T_i)$$\n",
    "\n",
    "Solving this equation reausires an initial guess of $\\bar T_i$. If we consider that $T_i  \\approx \\bar T_i$ and that $\\bar T_i = \\bar T = 273.15 \\, \\mathrm K$ for all $i$, then\n",
    "\n",
    "$$T_i^4 - \\bar T_i^4 \\approx 4 \\bar T^3$$\n",
    "\n",
    "and\n",
    "\n",
    "$$\\varphi_{LW} = K M^o \\approx 4 \\sigma \\bar T^3 K \\theta$$\n",
    "\n",
    "where \n",
    "\n",
    "$$\\theta = \\begin{bmatrix}\n",
    "\\theta_0\\\\ \n",
    "\\theta_1\\\\ \n",
    "\\theta_2\n",
    "\\end{bmatrix}$$\n",
    "\n",
    "are the surface temperatures expressed in Celsius.\n",
    "\n",
    "For our example, the diagonal matrix $H \\approx 4 \\sigma \\bar T^3 I$ is:"
   ]
  },
  {
   "cell_type": "code",
   "execution_count": 9,
   "id": "db357059-d2d7-44a1-ba3e-4de5db33b4fc",
   "metadata": {},
   "outputs": [
    {
     "name": "stdout",
     "output_type": "stream",
     "text": [
      "[[4.622 0.    0.   ]\n",
      " [0.    4.622 0.   ]\n",
      " [0.    0.    4.622]]\n"
     ]
    }
   ],
   "source": [
    "T0 = 273.15        # K, temperature\n",
    "H = 4 * σ * T0**3 * np.eye(3)\n",
    "print(H)"
   ]
  },
  {
   "cell_type": "markdown",
   "id": "ee80cd22-ce9a-475f-ba87-581392dd0fba",
   "metadata": {},
   "source": [
    "The matrix $\\sigma \\bar T^3 K$ of the lierized expression of heat flow rates $$\\varphi_{LW} = 4 \\sigma \\bar T^3 K \\theta = L \\theta$$ is:"
   ]
  },
  {
   "cell_type": "code",
   "execution_count": 10,
   "id": "60f5ea29-5405-4031-a270-fe774355ab4b",
   "metadata": {},
   "outputs": [
    {
     "name": "stdout",
     "output_type": "stream",
     "text": [
      "L = \n",
      "[[ 3.24  -1.62  -1.62 ]\n",
      " [-2.291  3.403 -1.113]\n",
      " [-2.291 -1.113  3.403]]\n"
     ]
    }
   ],
   "source": [
    "L = H @ K\n",
    "print(\"L = \")\n",
    "print(L)"
   ]
  },
  {
   "cell_type": "markdown",
   "id": "971c7504-2148-4369-8d7c-cb3ee8a1f2ff",
   "metadata": {},
   "source": [
    "**Note:** For values of the temperature that are usual in buildings, i.e., $0°C \\leq \\bar T \\leq 40 °C$, the values of $4 \\sigma \\bar T^3$ vary between 4.5 and 7."
   ]
  },
  {
   "cell_type": "code",
   "execution_count": 12,
   "id": "79fd831d-51fc-4efe-b70f-d6dddf75b0af",
   "metadata": {},
   "outputs": [
    {
     "name": "stdout",
     "output_type": "stream",
     "text": [
      "[4.622 6.965]\n"
     ]
    }
   ],
   "source": [
    "T0 = 273.15 + np.array([0, 40])\n",
    "print(4 * σ * T0**3)"
   ]
  },
  {
   "cell_type": "markdown",
   "id": "7ebe3146-d96a-420a-98ca-31e9bcf5bef9",
   "metadata": {},
   "source": [
    "### Coupled short-wave radiation, long-wave radiation and convection\n",
    "\n",
    "From the heat flow balance for a surface $i$ shown in Figure 1b, it results that\n",
    "\n",
    "$$\\varphi_{cv} + \\varphi_{SW} - \\varphi_{LW} + \\varphi_{cd} = 0 $$\n",
    "\n",
    "where:\n",
    "- $\\varphi_{cv} = h_i (T_a - \\theta)$ is the flow rate by convection;\n",
    "- $\\varphi_{SW}$ - short-wave radiation absorbed by the surfaces;\n",
    "- $\\varphi_{LW} = L \\theta$ - long-wave radiation;\n",
    "- $\\varphi_{cd} = 0$ - flow-rate through conduction is zero in this case.\n",
    "\n",
    "By substitution, it results:\n",
    "\n",
    "$$h_i(T_a - \\theta) + \\varphi_{SW} - L \\theta = 0 $$\n",
    "\n",
    "which, by considering that the vector of temperatures is the uknown, becomes:\n",
    "\n",
    "$$(L + hI) \\theta = (\\varphi_{SW} + h T_a)$$\n",
    "\n",
    "By solving for surface temperatures $\\theta$, it results:\n",
    "\n",
    "$$\\theta = (L + hI)^{-1} (\\varphi_{SW} + h T_a)$$"
   ]
  },
  {
   "cell_type": "code",
   "execution_count": 11,
   "id": "030c4e74-373d-41d6-b16a-585e16f1f64a",
   "metadata": {},
   "outputs": [
    {
     "name": "stdout",
     "output_type": "stream",
     "text": [
      "θ = \n",
      "[25.751 35.422 33.834] °C\n"
     ]
    }
   ],
   "source": [
    "θ = np.linalg.inv(L + h * I) @ (φSW + np.diag(h) * Ta)\n",
    "print(\"θ = \")\n",
    "print(θ, \"°C\")"
   ]
  },
  {
   "cell_type": "code",
   "execution_count": null,
   "id": "08a7e3fc-742c-4f61-a0c5-62a32e4d88e6",
   "metadata": {},
   "outputs": [],
   "source": []
  }
 ],
 "metadata": {
  "kernelspec": {
   "display_name": "Python 3 (ipykernel)",
   "language": "python",
   "name": "python3"
  },
  "language_info": {
   "codemirror_mode": {
    "name": "ipython",
    "version": 3
   },
   "file_extension": ".py",
   "mimetype": "text/x-python",
   "name": "python",
   "nbconvert_exporter": "python",
   "pygments_lexer": "ipython3",
   "version": "3.9.7"
  },
  "toc-autonumbering": true,
  "toc-showtags": false
 },
 "nbformat": 4,
 "nbformat_minor": 5
}
