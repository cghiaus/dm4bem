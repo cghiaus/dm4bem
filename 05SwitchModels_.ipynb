{
 "cells": [
  {
   "cell_type": "markdown",
   "id": "ae5be397-9849-453c-9419-6f3d8631d73c",
   "metadata": {
    "tags": []
   },
   "source": [
    "# [Weather data and solar radiation](01WeatherData.ipynb)\n",
    "\n",
    "# [Thermal circuit and state-space representation for a thermal circuit with capacities in every node: simple wall](02SimpleWall.ipynb)\n",
    "\n",
    "# [Thermal circuit and state-space representation for a thermal circuit with capacities in some nodes: cubic building](03CubicBuilding.ipynb)\n",
    "\n",
    "# [Thermal circuits assembling](04AssemblingCircuits.ipynb)\n",
    "\n",
    "# Switch between models: heating & cooling and free-running\n",
    "\n",
    "**Objectives:**\n",
    "- Implement controller with [deadband](https://en.m.wikipedia.org/wiki/Deadband). \n",
    "- Switch between modeles during the numerical integration. "
   ]
  },
  {
   "cell_type": "markdown",
   "id": "21f84110-8bd7-4343-ba67-851fe628af5e",
   "metadata": {},
   "source": [
    "![thermal_circuit](./figures/03_therm_circ.png)\n",
    "> Figure 1. Thermal circuit for the cubic building.\n",
    "\n",
    "In this example, we will consider that the controller, modeled by the conductance $G_{11}$ and the temperature source $T_{i,sp}$, switches the value of conductance $G_{11}$ between $G_{11} = 0$, i.e. free-floating, and $G_{11} \\rightarrow \\infty$, i.e. perfect controller (Figure 1). Therefore, two models will be constructed and the algorithm will switch between these two models during the numerical integration:\n",
    "- if $\\theta_i < T_{i,sp}$ or $\\theta_i > T_{i,sp} + \\Delta \\theta$, then the controller is in action, $G_{11} \\equiv  K_p \\rightarrow  \\infty$;\n",
    "- else, the controller is shut off, $G_{11} \\equiv  K_p = 0$,\n",
    "\n",
    "where:\n",
    "- $\\theta_i$ is the indoor temperature, °C;\n",
    "- $T_{i,sp}$ - indoor temperature setpoint, °C;\n",
    "- $\\Delta \\theta$ - indoor temperature deadband, °C;\n",
    "- $K_p$ - static gain of the proportional controller, W/K. "
   ]
  },
  {
   "cell_type": "code",
   "execution_count": 1,
   "id": "adea2685-af71-4706-a016-a6a56a7300ac",
   "metadata": {},
   "outputs": [],
   "source": [
    "import numpy as np\n",
    "import pandas as pd\n",
    "import matplotlib.pyplot as plt\n",
    "import dm4bem\n",
    "import tuto"
   ]
  },
  {
   "cell_type": "markdown",
   "id": "43bf8781-ecea-4fb9-ac84-b49ce3a6d5c9",
   "metadata": {
    "tags": []
   },
   "source": [
    "For simulation of the toy model presented in tutorials [3](03CubicBuilding.ipynb), [4](04AssemblingCircuits.ipynb) and [5](05SwitchModels.ipynb) (Figure 1), let's consider the weather file from a location,"
   ]
  },
  {
   "cell_type": "code",
   "execution_count": 2,
   "id": "37619618-648a-4df3-b562-7d6668d89389",
   "metadata": {
    "tags": []
   },
   "outputs": [],
   "source": [
    "filename = './weather_data/FRA_Lyon.074810_IWEC.epw'\n",
    "\n",
    "start_date = '2000-05-01 00:00:00'\n",
    "end_date = '2000-05-22 00:00:00'"
   ]
  },
  {
   "cell_type": "markdown",
   "id": "16a20125-f10e-4773-94f2-d506c0a4522e",
   "metadata": {
    "tags": []
   },
   "source": [
    "## Model for building in free-running\n",
    "\n",
    "The building is in free running (the indoor temperature is free-floating) if the P-controller is not effective, i.e. $K_p \\rightarrow 0$."
   ]
  },
  {
   "cell_type": "code",
   "execution_count": 3,
   "id": "6cf40e92-4dd9-4090-86a8-4bd53549d7de",
   "metadata": {},
   "outputs": [
    {
     "name": "stdout",
     "output_type": "stream",
     "text": [
      "Maximum time step in free-floating is 479.08 s\n"
     ]
    }
   ],
   "source": [
    "Kpf = 1e-3   # no controller Kp -> 0\n",
    "TCa = tuto.thermal_circuit(Kpf)\n",
    "[Af, Bf, Cf, Df] = dm4bem.tc2ss(\n",
    "    TCa['A'], TCa['G'], TCa['b'], TCa['C'], TCa['f'], TCa['y'])\n",
    "dt_max = min(-2. / np.linalg.eig(Af)[0])\n",
    "print(f'Maximum time step in free-floating is {dt_max:.2f} s')"
   ]
  },
  {
   "cell_type": "code",
   "execution_count": 4,
   "id": "b97029cd-a314-469a-a920-1ca12d0fa534",
   "metadata": {
    "tags": []
   },
   "outputs": [
    {
     "ename": "TypeError",
     "evalue": "P_control() missing 1 required positional argument: 'Tisp'",
     "output_type": "error",
     "traceback": [
      "\u001b[0;31m---------------------------------------------------------------------------\u001b[0m",
      "\u001b[0;31mTypeError\u001b[0m                                 Traceback (most recent call last)",
      "\u001b[0;32m/var/folders/vp/k617ngs97xq4vlzlj5ts6sch0000gn/T/ipykernel_12227/2032978061.py\u001b[0m in \u001b[0;36m<module>\u001b[0;34m\u001b[0m\n\u001b[1;32m      1\u001b[0m \u001b[0mdt\u001b[0m \u001b[0;34m=\u001b[0m \u001b[0;36m400\u001b[0m   \u001b[0;31m# time step, s\u001b[0m\u001b[0;34m\u001b[0m\u001b[0;34m\u001b[0m\u001b[0m\n\u001b[0;32m----> 2\u001b[0;31m y, q_HVAC = tuto.P_control(filename, start_date, end_date, dt,\n\u001b[0m\u001b[1;32m      3\u001b[0m                            Af, Bf, Cf, Df, Kpf)\n",
      "\u001b[0;31mTypeError\u001b[0m: P_control() missing 1 required positional argument: 'Tisp'"
     ]
    }
   ],
   "source": [
    "dt = 400   # time step, s\n",
    "y, q_HVAC = tuto.P_control(filename, start_date, end_date, dt,\n",
    "                           Af, Bf, Cf, Df, Kpf)"
   ]
  },
  {
   "cell_type": "markdown",
   "id": "7af1fc05-7678-4cac-9676-0d571be21d9a",
   "metadata": {
    "tags": []
   },
   "source": [
    "> Figure 1. Simulation in free-running with weather data using Euler explicit method of integration and a time step of 400 s. a) Indoor and outdoor temperatures. b) Solar and HVAC heat flow rates."
   ]
  },
  {
   "cell_type": "markdown",
   "id": "a5227d50-77a7-4a43-a4dc-af2e2ec0b034",
   "metadata": {
    "tags": []
   },
   "source": [
    "Since the building is in free-running, the energy consumption for HVAC is zero, $Q_{HVAC} = 0 \\text{ J}$.\n",
    "\n",
    "The energy consumption over the time range $[0,\\, t_{final}]$ is:\n",
    "\n",
    "$$ Q_{HVAC} = \\int_{0}^{t_{final}} \\left |  q_{HVAC}  \\right | \\,dt$$\n",
    "$$= \\Delta t \\sum_{k=0}^{n} \\left |q_{HVAC(k)} \\right| \\text{ [J]}$$\n",
    "$$= \\frac{1}{3.6·10^{6}}\n",
    "\\Delta t \\sum_{k=0}^{n}\\left |q_{HVAC(k)} \\right| \\text{ [kW h]}$$\n",
    "\n",
    "where:\n",
    "- $\\Delta t$ is the time step, s.\n",
    "- $\\left |q_{HVAC(k)} \\right|$ - absolute values of the vector of heat flow rates, W."
   ]
  },
  {
   "cell_type": "code",
   "execution_count": null,
   "id": "0f2902a5-c7eb-4e2d-a4a3-2e9311669be1",
   "metadata": {},
   "outputs": [],
   "source": [
    "print(f\"Q_HVAC = {dt * sum(abs(q_HVAC)) / 1000 / 3600:.1f} kW·h\")"
   ]
  },
  {
   "cell_type": "code",
   "execution_count": null,
   "id": "a750088b-c181-4084-aefa-cd5fab8c0625",
   "metadata": {},
   "outputs": [],
   "source": [
    "Tisp = 20   # indoor setpoint temperature, °C\n",
    "Δθ = 5      # temperature deadband, °C"
   ]
  },
  {
   "cell_type": "code",
   "execution_count": null,
   "id": "fbb9f11f-9253-44e8-8969-c4baa3822b96",
   "metadata": {},
   "outputs": [],
   "source": [
    "dt = 360    # time step, s"
   ]
  },
  {
   "cell_type": "markdown",
   "id": "763ef3f4-b249-46fb-a869-b0418959eda9",
   "metadata": {},
   "source": [
    "we obtain the inputs of the model (at simulation time `t` as vector `u` from weather `data`)."
   ]
  },
  {
   "cell_type": "code",
   "execution_count": null,
   "id": "f555b2a8-6194-41e1-8b77-dccba796ec17",
   "metadata": {},
   "outputs": [],
   "source": [
    "t, u, data = tuto.inputs(filename, start_date, end_date, dt,\n",
    "                         Af, Bf, Cf, Df, Kpf, Tisp)"
   ]
  },
  {
   "cell_type": "markdown",
   "id": "82283d2b-e59c-4f35-b92f-f7e8c843f144",
   "metadata": {},
   "source": [
    "The results of the simulation are obtained by integration in time."
   ]
  },
  {
   "cell_type": "code",
   "execution_count": null,
   "id": "f867f15d-4c1b-4b41-a7a3-fb213d743ecd",
   "metadata": {},
   "outputs": [],
   "source": [
    "# Initialize temperature vector\n",
    "θ = np.full([As.shape[0], u.shape[0]], np.inf)\n",
    "θ[:, 0] = Tisp * np.ones(As.shape[0])\n",
    "\n",
    "I = np.eye(As.shape[0])\n",
    "\n",
    "# Simulation in time\n",
    "for k in range(u.shape[0] - 1):\n",
    "    θ[:, k + 1] = (I + dt * Af) @ θ[:, k]\\\n",
    "        + dt * Bs @ u.iloc[k, :]\n",
    "\n",
    "    # Indoor temperature\n",
    "y = Cs @ θ + Ds @ u.to_numpy().T\n",
    "y = y.T\n",
    "\n",
    "# HVAC heat flow\n",
    "q_HVAC = Kpf * (data['Ti'] - y[0, :])\n",
    "\n",
    "# Plot results\n",
    "tuto.plot_results(y, q_HVAC, data)"
   ]
  },
  {
   "cell_type": "markdown",
   "id": "78857ccc-21ef-4d8b-838d-5a71db1b4357",
   "metadata": {
    "tags": []
   },
   "source": [
    "## Model for building with \"perfect\" proportional controller\n",
    "A \"perfect\" proportional controller would have an infinite gain, $K_p \\rightarrow \\infty$. The change in the controller gain implies a change of the maximum time step."
   ]
  },
  {
   "cell_type": "code",
   "execution_count": null,
   "id": "44e75f12-6493-4b46-83f7-c82bff730312",
   "metadata": {},
   "outputs": [],
   "source": [
    "Kpc = 1e3   # perfect controller Kp -> ∞\n",
    "TCa = tuto.thermal_circuit(Kpc)\n",
    "[Ac, Bc, Cc, Dc] = dm4bem.tc2ss(\n",
    "    TCa['A'], TCa['G'], TCa['b'], TCa['C'], TCa['f'], TCa['y'])\n",
    "dt_max = min(-2. / np.linalg.eig(Ac)[0])\n",
    "print(f'For Kp = {Kpc:.0e}, the maximum time step is {dt_max:.2f} s')"
   ]
  },
  {
   "cell_type": "code",
   "execution_count": null,
   "id": "21192af7-4241-4221-b33e-f25b72818446",
   "metadata": {},
   "outputs": [],
   "source": [
    "dt = 50     # time step, s\n",
    "y, q_HVAC = tuto.P_control(filename, start_date, end_date, dt,\n",
    "                           Ac, Bc, Cc, Dc, Kpc)"
   ]
  },
  {
   "cell_type": "markdown",
   "id": "9216fb8d-7d54-44c6-94b3-f7995cab3ff3",
   "metadata": {
    "tags": []
   },
   "source": [
    "> Figure 2. Simulation of an almost perfect controller with weather data using Euler explicit method of integration and a time step of 50 s. a) Indoor and outdoor temperatures. b) Solar and HVAC heat flow rates.\n",
    "\n",
    "In the case of an almost perfect controller, the indoor temperature is maintained rather constant and the HVAC heat flow rate $q_{HVAC}$ is positive for heating and negative for cooling.\n",
    "\n",
    "The energy consumption over the time range $[0, t_{final}]$ is:\n",
    "\n",
    "$$ Q_{HVAC} = \\frac{1}{3.6·10^{6}}\n",
    "\\Delta t \\sum_{k=0}^{n}\\left |q_{HVAC(k)} \\right| \\text{ [kW h]}$$\n",
    "\n",
    "where:\n",
    "- $\\Delta t$ is the time step, s.\n",
    "- $q_{(k)HVAC}$ - the values of the vector of heat flow rates, W."
   ]
  },
  {
   "cell_type": "code",
   "execution_count": null,
   "id": "0d80ef5f-ba53-499f-b5c0-24a75ff0fa8e",
   "metadata": {},
   "outputs": [],
   "source": [
    "print(f\"Q_HVAC = {dt * sum(abs(q_HVAC)) / 1000 / 3600:.1f} kW·h\")"
   ]
  },
  {
   "cell_type": "markdown",
   "id": "e2d29daa-7623-4fb0-b5c9-06672ca079f5",
   "metadata": {
    "tags": []
   },
   "source": [
    "## Heating and cooling with dead band\n",
    "\n",
    "Maintaing the indoor temperature at a constant level is not energy efficient. It is preferable to have a [deadband](https://en.m.wikipedia.org/wiki/Deadband) for the indoor temperature in which the building is in free running and to use the HVAC system when the indoor temperature is out the deadband.\n",
    "\n",
    "An appraoch for the simulation of heating and cooling with deadband is to use both models, free-running and perfect controlled. In this case, the time step is the minimum between the two time steps.\n",
    "\n",
    "The code is implemented in function `tuto.switch_models()` which  is very similar to the function `tuto.P_control()`. The differences consist in:\n",
    "\n",
    "- initilization: `switch_models()` contains in addition:\n",
    "\n",
    ">     # initial values\n",
    "    temp_exp = 0 * np.ones([Af.shape[0], u.shape[0]])\n",
    "    temp_exp[:, 0] = data['Ti'][0]\n",
    "    y = np.zeros(u.shape[0])\n",
    "    y[0] = data['Ti'][0]\n",
    "    qHVAC = 0 * np.ones(u.shape[0])\n",
    "\n",
    "- integration in time: `switch_models()` switches between perfect controller (index `c`) and free-running (index `f`) models and calculates the energy consumption at every time step:\n",
    "\n",
    ">     # integration in time\n",
    "    I = np.eye(Af.shape[0])\n",
    "    for k in range(u.shape[0] - 1):\n",
    "        if y[k] < data['Ti'][k] or y[k] > DeltaT + data['Ti'][k]:\n",
    "            temp_exp[:, k + 1] = (I + dt * Ac) @ temp_exp[:, k]\\\n",
    "                + dt * Bc @ u.iloc[k, :]\n",
    "            y[k + 1] = Cc @ temp_exp[:, k + 1] + Dc @ u.iloc[k]\n",
    "            qHVAC[k + 1] = Kpc * (data['Ti'][k + 1] - y[k + 1])\n",
    "        else:\n",
    "            temp_exp[:, k + 1] = (I + dt * Af) @ temp_exp[:, k]\\\n",
    "                + dt * Bf @ u.iloc[k, :]\n",
    "            y[k + 1] = Cf @ temp_exp[:, k + 1] + Df @ u.iloc[k]\n",
    "            qHVAC[k + 1] = 0"
   ]
  },
  {
   "cell_type": "markdown",
   "id": "66dde143-bce2-4cd8-aba4-2d56ffd00152",
   "metadata": {},
   "source": [
    "For the indoor temperature setpoint `Tisp` and the accepted deadband in temperature `DeltaT`."
   ]
  },
  {
   "cell_type": "code",
   "execution_count": null,
   "id": "3b09b43e-3339-437a-b0b8-3dd3e4f7f053",
   "metadata": {},
   "outputs": [],
   "source": [
    "θ_isp = 20  # indoor temperature setpoint, °C\n",
    "Δθ = 2.5    # deadband of indoor temperature, °C"
   ]
  },
  {
   "cell_type": "markdown",
   "id": "146a97ff-0783-4351-af80-332b493a170a",
   "metadata": {
    "tags": []
   },
   "source": [
    "### Large proportional gain for the controller\n",
    "If the controller has a large proportional gain, the temperature is maintained in the limits. However, the heat flow of the HVAC system and the indoor tempertaure vary too quickly, phenomena called *pumping*  (Figure 3). Pumping is different of [instability](https://en.m.wikipedia.org/wiki/Instability#Instability_in_control_systems) in the sens that the variables have limited values between bounds. Pumping is characterized by repeated oscilation between the bounds of the variables which causes [wear and tear](https://en.wikipedia.org/wiki/Wear_and_tear) of the equipement."
   ]
  },
  {
   "cell_type": "code",
   "execution_count": null,
   "id": "9d6219a9-ea96-4cd5-87e4-43794aefbc58",
   "metadata": {},
   "outputs": [],
   "source": [
    "Kpc = 1e3   # no controller Kp -> 0\n",
    "TCa = tuto.thermal_circuit(Kpc)\n",
    "[Ac, Bc, Cc, Dc] = dm4bem.tc2ss(\n",
    "    TCa['A'], TCa['G'], TCa['b'], TCa['C'], TCa['f'], TCa['y'])\n",
    "y, q_HVAC = tuto.switch_models(filename, start_date, end_date, dt,\n",
    "                               Af, Bf, Cf, Df, Kpf,\n",
    "                               Ac, Bc, Cc, Dc, Kpc,\n",
    "                               θ_isp, Δθ)"
   ]
  },
  {
   "cell_type": "markdown",
   "id": "aa3f9c40-e740-4d37-9200-428f46354e71",
   "metadata": {},
   "source": [
    "> Figure 3. Simulation of heating and cooling with deadband by using a high gain controller. a) Indoor and outdoor temperature. b) Solar and HVAC heat flow rates.\n"
   ]
  },
  {
   "cell_type": "code",
   "execution_count": null,
   "id": "766a947b-aa58-43c9-bd96-9285c4d839b2",
   "metadata": {
    "tags": []
   },
   "outputs": [],
   "source": [
    "print(f\"Q_HVAC = {dt * sum(abs(q_HVAC)) / 1000 / 3600:.1f} kW·h\")"
   ]
  },
  {
   "cell_type": "markdown",
   "id": "117bdda8-0be4-48dd-bd8c-4022ef124154",
   "metadata": {},
   "source": [
    "### Large proportional gain for the controller with reduced time step"
   ]
  },
  {
   "cell_type": "code",
   "execution_count": null,
   "id": "0b6d2f51-1b91-4190-a285-9c94158e7066",
   "metadata": {},
   "outputs": [],
   "source": [
    "dt = 25     # time step, s\n",
    "Kpc = 1e3   # controller Kp -> ∞\n",
    "TCa = tuto.thermal_circuit(Kpc)\n",
    "[Ac, Bc, Cc, Dc] = dm4bem.tc2ss(\n",
    "    TCa['A'], TCa['G'], TCa['b'], TCa['C'], TCa['f'], TCa['y'])\n",
    "y, q_HVAC = tuto.switch_models(filename, start_date, end_date, dt,\n",
    "                               Af, Bf, Cf, Df, Kpf,\n",
    "                               Ac, Bc, Cc, Dc, Kpc,\n",
    "                               θ_isp, Δθ)"
   ]
  },
  {
   "cell_type": "markdown",
   "id": "4cfb2c0f-ac06-40eb-952d-89ecad027835",
   "metadata": {},
   "source": [
    "> Figure 4. Heating and cooling with deadband, high Kp and small time step. a) Indoor and outdoor temperature. b) Solar and HVAC heat flow rates.\n",
    "\n",
    "Note that the energy consumption depends on the time step."
   ]
  },
  {
   "cell_type": "code",
   "execution_count": null,
   "id": "dbb06a53-11bc-4e7e-a6cd-f17cf00d8341",
   "metadata": {},
   "outputs": [],
   "source": [
    "print(f\"Q_HVAC = {dt * sum(abs(q_HVAC)) / 1000 / 3600:.1f} kW·h\")"
   ]
  },
  {
   "cell_type": "markdown",
   "id": "1dbce8d9-223f-4995-b7d5-1faaa5f048f7",
   "metadata": {
    "tags": []
   },
   "source": [
    "### Optimal controller gain\n",
    "\n",
    "The instability or *pumping* effect may be reduced by using a smaller gain for the controller."
   ]
  },
  {
   "cell_type": "code",
   "execution_count": null,
   "id": "2b6516c9-ce07-4920-9afe-e94d53383df0",
   "metadata": {},
   "outputs": [],
   "source": [
    "dt = 50     # time step, s\n",
    "Kpc = 1.5e2 # controller Kp\n",
    "TCa = tuto.thermal_circuit(Kpc)\n",
    "[Ac, Bc, Cc, Dc] = dm4bem.tc2ss(\n",
    "    TCa['A'], TCa['G'], TCa['b'], TCa['C'], TCa['f'], TCa['y'])\n",
    "y, q_HVAC = tuto.switch_models(filename, start_date, end_date, dt,\n",
    "                               Af, Bf, Cf, Df, Kpf,\n",
    "                               Ac, Bc, Cc, Dc, Kpc,\n",
    "                               θ_isp, Δθ);"
   ]
  },
  {
   "cell_type": "markdown",
   "id": "1315fc21-2708-4b77-8f3f-275bf82e79fa",
   "metadata": {
    "tags": []
   },
   "source": [
    "> Figure 5. Heating and cooling with dead-band and a sub-optimal gain for the controller. a) Indoor and outdoor temperature. b) Solar and HVAC heat flow rates.\n",
    "\n",
    "The energy consumption is significantly smaller as compared with the \"perfect\" controller."
   ]
  },
  {
   "cell_type": "code",
   "execution_count": null,
   "id": "56c86434-b5ac-4020-97cc-138f38fc5d65",
   "metadata": {},
   "outputs": [],
   "source": [
    "print(f\"Q_HVAC = {sum(dt * abs(q_HVAC)) / 1000 / 3600:.1f} kW·h\")"
   ]
  },
  {
   "cell_type": "markdown",
   "id": "d4ff63d2-6b19-4df4-a375-99f29e7c3960",
   "metadata": {},
   "source": [
    "## Only heating\n",
    "\n",
    "If there is only heating, then the HVAC system controls the indoor temperature when it is smaller than the setpoint and leaves the building in free running if the indor temperature is larger than the setpoint.\n",
    "\n",
    "Heating is implemented in `tuto.heat()` function, which is similar to `switch_models()` fuction with the exception of the numerical integration."
   ]
  },
  {
   "cell_type": "raw",
   "id": "91512ee8-e053-41ae-97c4-97f48cd8ed77",
   "metadata": {},
   "source": [
    "    # integration in time\n",
    "    I = np.eye(Af.shape[0])\n",
    "\n",
    "    for k in range(u.shape[0] - 1):\n",
    "        if y[k] < data['Ti'][k]:\n",
    "            temp_exp[:, k + 1] = (I + dt * Ac) @ temp_exp[:, k]\\\n",
    "                + dt * Bc @ u.iloc[k, :]\n",
    "            y[k + 1] = Cc @ temp_exp[:, k + 1] + Dc @ u.iloc[k]\n",
    "            q_HVAC[k + 1] = Kpc * (data['Ti'][k + 1] - y[k + 1])\n",
    "        else:\n",
    "            temp_exp[:, k + 1] = (I + dt * Af) @ temp_exp[:, k]\\\n",
    "                + dt * Bf @ u.iloc[k, :]\n",
    "            y[k + 1] = Cf @ temp_exp[:, k + 1] + Df @ u.iloc[k]\n",
    "            q_HVAC[k + 1] = 0"
   ]
  },
  {
   "cell_type": "code",
   "execution_count": null,
   "id": "d662e042-c7a6-417d-9cf0-efa4c70f3098",
   "metadata": {},
   "outputs": [],
   "source": [
    "y, q_HVAC = tuto.heat(filename, start_date, end_date, dt,\n",
    "                      Af, Bf, Cf, Df, Kpf,\n",
    "                      Ac, Bc, Cc, Dc, Kpc,\n",
    "                      θ_isp, Δθ)"
   ]
  },
  {
   "cell_type": "markdown",
   "id": "45b59872-7781-4ddb-a38a-48e1e2430ae4",
   "metadata": {},
   "source": [
    "> Figure 6. Heating. a) Indoor and outdoor temperature. b) Solar and HVAC heat flow rates.\n",
    "\n",
    "If only heating is used, Tthe energy consumption is smaller, but there is overheating."
   ]
  },
  {
   "cell_type": "code",
   "execution_count": null,
   "id": "c3c0f434-3f12-4a20-9c45-a593ee9f9864",
   "metadata": {},
   "outputs": [],
   "source": [
    "print(f\"Q_HVAC = {dt * sum(abs(q_HVAC)) / 1000 / 3600:.1f} kW·h\")"
   ]
  },
  {
   "cell_type": "markdown",
   "id": "73f41f4c-7338-491a-b049-ffca04f1c866",
   "metadata": {},
   "source": [
    "# [Control input: heating & cooling and free-running](06Control_Input.ipynb)"
   ]
  }
 ],
 "metadata": {
  "kernelspec": {
   "display_name": "Python 3 (ipykernel)",
   "language": "python",
   "name": "python3"
  },
  "language_info": {
   "codemirror_mode": {
    "name": "ipython",
    "version": 3
   },
   "file_extension": ".py",
   "mimetype": "text/x-python",
   "name": "python",
   "nbconvert_exporter": "python",
   "pygments_lexer": "ipython3",
   "version": "3.9.7"
  },
  "toc-autonumbering": true,
  "toc-showcode": false,
  "toc-showmarkdowntxt": false
 },
 "nbformat": 4,
 "nbformat_minor": 5
}
