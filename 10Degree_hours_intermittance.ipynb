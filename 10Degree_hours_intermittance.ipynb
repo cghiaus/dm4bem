{
 "cells": [
  {
   "cell_type": "markdown",
   "id": "bda87169-b952-4d1f-86c7-b72796d576a5",
   "metadata": {},
   "source": [
    "# Degree-hour estimation of the potential of energy savings obtained by intermittent heating\n",
    "\n",
    "[![Binder](https://mybinder.org/badge_logo.svg)](https://mybinder.org/v2/gh/cghiaus/dm4bem/main?labpath=10Degree_hours_intermittance.ipynb)"
   ]
  },
  {
   "cell_type": "markdown",
   "id": "d4f6277c-9376-48bb-ac08-fff431aec1be",
   "metadata": {},
   "source": [
    "Intermittence consists in reducing the heating power during the night. In a first approximation, the savings obtained can be estimated by using degree-hours ([Ghiaus and Allard, 2006](https://doi.org/10.1016/j.solener.2005.05.019))."
   ]
  },
  {
   "cell_type": "markdown",
   "id": "e9535b62-fb86-4875-b051-5fecb619bbb6",
   "metadata": {
    "tags": []
   },
   "source": [
    "## Degree-hour method\n",
    "\n",
    "Let's model the building as a volume at indoor temperature separated from the environment by an envelope. Indoor and outdoor temperatures and the properties of the envelope are homogeneous. The heat balance in steady-state is:\n",
    "\n",
    "$$\\dot{Q}_{HVAC} - U_{bldg}·S·(\\theta_{in} - \\theta_{out}) = 0$$\n",
    "\n",
    "where:\n",
    "- $\\dot{Q}_{HVAC}$ - power delivered by the Heating, Ventilation and Air Conditioning (HVAC) system to the building to compensate the heat losses in order to maintain the indoor temperature at value $\\theta_{in}$, W;\n",
    "- $U_{bldg}·S·(\\theta_{in} - \\theta_{out})$ - heat losses of the building, W,\n",
    "\n",
    "    where:\n",
    "\n",
    "    - $U_{bldg}$ - overall heat loss coefficient of the building, W/(m²·K) ([Ghiaus and Alzetto, 2019](https://doi.org/10.1080/19401493.2018.1561753));\n",
    "    - $S$ - surface area of the building, m²;\n",
    "    - $\\theta_{out}$ - outdoor temperature, °C;\n",
    "    - $\\theta_{in}$ - indoor temperature, °C.\n",
    "\n",
    "The energy consumption of the HVAC system needed to maintain the indoor temperature at the value $\\theta_{in}$ over a period of time is the integral in time of the power load ([Ghiaus, 2006](https://doi.org/10.1016/j.enbuild.2005.08.014)):\n",
    "\n",
    "$$Q_{HVAC} = \\int_{0}^{t} |\\dot{Q}_{HVAC}| dt = \\int_{0}^{t} |U_{bldg}·S·(\\theta_{in} - \\theta_{out})| dt $$\n",
    "\n",
    "where $|\\dot{Q}_{HVAC}|$ is the absolute value of $\\dot{Q}_{HVAC}$.\n",
    "\n",
    "By considering that the overall heat loss coefficient $U_{bldg}$ is constant, then ([Ghiaus, 2003](https://doi.org/10.1016/S0378-7788(02)00110-X))\n",
    "\n",
    "$$Q_{HVAC} = U_{bldg}·S· \\int_{0}^{t} |\\theta_{in} - \\theta_{out}| dt $$\n",
    "\n",
    "which implies that the energy consumption is proportional to $\\int_{0}^{t} |\\theta_{in} - \\theta_{out}| dt$. This integral can be discretized (in time):\n",
    "\n",
    "$$\\int_{0}^{t} [\\theta_{in} - \\theta_{out}| dt  \\approx  \\sum_{k=0}^{n} |\\theta_{in,k} - \\theta_{out,k}| \\Delta t$$\n",
    "\n",
    "where:\n",
    "- $\\theta_{out,k}$ - mean outdoor temperature in the time interval $\\Delta t$ at discrete time (step) $k$, °C;\n",
    "- $\\theta_{in,k}$ - mean indoor temperature in the time interval $\\Delta t$ at discrete time (step) $k$, °C;\n",
    "\n",
    "The expression $\\sum_{k=0}^{n} |\\theta_{out,k} - \\theta_{in,k}| \\Delta t$ is called:\n",
    "- _degree-days_ when the discrete time $\\Delta t$ is one day;\n",
    "- _degree-hours_ when the discrete time $\\Delta t$ is one hour.\n",
    "\n",
    "Degree-days and degree-hours are used to estimate the influence of climate and of indoor temperature on energy consumption ([Ghiaus, 2003](https://doi.org/10.1016/S0378-7788(02)00110-X), [Ghiaus and Allard, 2006](https://doi.org/10.1016/j.solener.2005.05.019), [Ghiaus et al., 2006](https://doi.org/10.1016/j.buildenv.2005.02.003)). The method has the advantage of comparing the influence of different climates and indoor temperatures without knowing the actual building. It has the disadvantage of not taking into account properly the gains (solar and internal), the variable ventilation rates, and the distribution of outdoor temperatures (e.g., air and ground). Therefore, it is suited for comparing the potential of energy savings due to climate and indoor temperature."
   ]
  },
  {
   "cell_type": "markdown",
   "id": "865ac02c-ffd4-473d-839c-e81c3f45844d",
   "metadata": {},
   "source": [
    "## Estimation of energy used for heating with degree-hours method\n",
    "\n",
    "The Heating, Ventilation and Air Conditioning (HVAC) system controls the indoor temperature all the time by heating and cooling the building. Heating is needed only when the outdoor temperature is lower than the indoor temperature. The energy consumption for heating is proportional to degree-hours (or degree-days) for heating:\n",
    "\n",
    "$$Q_h \\sim  \\sum_{k=0}^{n} (\\theta_{in,k} - \\left \\lceil  \\theta_{out,k} \\right \\rceil) \\Delta t $$\n",
    "\n",
    "where:\n",
    "- $Q_h$ - energy needed for heating, J;\n",
    "- $\\sum_{k=0}^{n} (\\theta_{int,k} - \\left \\lceil  \\theta_{out,k} \\right \\rceil) \\Delta t$ - degree-hours for heating;\n",
    "- $\\theta_{in,k}$ - indoor temperature over the time $k$, °C;\n",
    "- $\\left \\lceil  \\theta_{out,k} \\right \\rceil$ - outdoor temperature upper bounded by the indoor temperature (i.e., not larger than the indoor temperature), °C,\n",
    "\n",
    "where\n",
    "$\\left \\lceil  \\theta_{out,k} \\right \\rceil = \n",
    "\\begin{cases}\n",
    "\\theta_{out,k} \\text{, if } \n",
    "\\theta_{out,k} < \\theta_{in,k}  \n",
    "\\\\\n",
    "\\theta_{in,k} \\text{, otherwise}\n",
    "\\end{cases}$"
   ]
  },
  {
   "cell_type": "markdown",
   "id": "7ffa084c-2b1f-4768-bf23-3f3f7eb54953",
   "metadata": {},
   "source": [
    "## Degree-hours for intermittent heating\n",
    "In intermittent heating, the indoor temperature $\\theta_{in,k}$ varies in time. The estimation of energy savings by using degree-hours needs to be corrected to take into account the inertia of the building, the gains (solar and internal) and the air infiltration rate. Nevertheless, the degree-hour method gives an indication on savings by indoor temperature setpoint and climate, without modelling the building."
   ]
  },
  {
   "cell_type": "markdown",
   "id": "e4f728d4-d8ac-4927-9513-113c38d552d7",
   "metadata": {},
   "source": [
    "## Python implementation"
   ]
  },
  {
   "cell_type": "markdown",
   "id": "a849e3db-02bc-4e15-81f3-84a1a0c1afc4",
   "metadata": {
    "jp-MarkdownHeadingCollapsed": true,
    "tags": []
   },
   "source": [
    "### Weather data\n",
    "\n",
    "Download the weather file with extension `.epw` from: \n",
    "- [Climate.OneBuilding.Org](http://climate.onebuilding.org): folder of files at the repository of free climate data for building performance simulation,\n",
    "- [EnergyPlus™](https://energyplus.net/weather): interactive map with locations,\n",
    "- [LadyBug Tools](http://www.ladybug.tools/epwmap/): interactive map with locations,\n",
    "- [PV GIS](https://re.jrc.ec.europa.eu/pvg_tools/en/tools.html): interactive map with interpolated data.\n",
    "\n",
    "For example, for the airport Lyon-Bron, France (N45.73, E5.08), download the files:\n",
    "- `FRA_Lyon.074810_IWEC.epw` or \n",
    "- `FRA_AR_Lyon-Bron.AP.074800_TMYx.2004-2018`\n",
    "\n",
    "from [Climate.OneBuilding.Org](http://climate.onebuilding.org) and place them in the `./weather_data` folder."
   ]
  },
  {
   "cell_type": "markdown",
   "id": "58d43637-548d-4be8-9b18-9448261b1c79",
   "metadata": {},
   "source": [
    "### Inputs\n",
    "- `filename` file name of weather data;\n",
    "- `θ` indoor temperature considered constant all the period;\n",
    "- `θday` indoor temperature during the daytime;\n",
    "- `θnight` indoor temperature during the nighttime;\n",
    "- `period_start` day of the year for the start of the period of the degree-hour estimation (note that the year `2000`is a convention);\n",
    "- `period_end` day of the year for the end of the period of the degree-hour estimation (note that the year `2000`is a convention);\n",
    "- `daytime_start` time at which the day starts;\n",
    "- `daytime_end` time at which the day ends.\n",
    "\n",
    "Note that the daytime needs to be between 00:00 and 24:00. The daytime period cannot include 24:00 (midnight), e.g., it cannot be from 22:00 to 06:00."
   ]
  },
  {
   "cell_type": "code",
   "execution_count": 1,
   "id": "a07afc21-7e8f-4d93-a4a5-ac56c9b9065e",
   "metadata": {},
   "outputs": [],
   "source": [
    "import pandas as pd\n",
    "from dm4bem import read_epw\n",
    "\n",
    "# Inputs\n",
    "# ======\n",
    "filename = './weather_data/FRA_Lyon.074810_IWEC.epw'\n",
    "\n",
    "θ = 22          # °C, indoor temperature all time\n",
    "θday = θ        # °C, indoor temperature during day,, e.g.: 06:00 - 22:00\n",
    "θnight = 16     # °C, indoor temperature during night 23:00 - 06:00\n",
    "\n",
    "period_start = '2000-01-01'\n",
    "period_end = '2000-12-31'\n",
    "\n",
    "daytime_start = '06:00:00+01:00'\n",
    "daytime_end = '22:00:00+01:00'"
   ]
  },
  {
   "cell_type": "code",
   "execution_count": 2,
   "id": "92ed480c-c50c-42af-a75e-12dfb94acdd9",
   "metadata": {},
   "outputs": [],
   "source": [
    "# Computation\n",
    "# ===========\n",
    "# read Energy Plus Weather data (file .EPW)\n",
    "[data, meta] = read_epw(filename, coerce_year=2000)\n",
    "\n",
    "# select outdoor air temperature; call it θout\n",
    "df = data[[\"temp_air\"]]\n",
    "del data\n",
    "df = df.rename(columns={'temp_air': 'θout'})\n",
    "\n",
    "# Select the data for a period of the year\n",
    "df = df.loc[period_start:period_end]"
   ]
  },
  {
   "cell_type": "markdown",
   "id": "6f05aa0b-5e58-4084-81fb-c803fcffce0e",
   "metadata": {},
   "source": [
    "### Temperature differences for constant indoor temperature\n",
    "\n",
    "$$\\Delta \\theta_{fix,k} = \\theta - \\left \\lceil  \\theta_{out,k} \\right \\rceil$$\n",
    "\n",
    "where:\n",
    "- $\\theta$ - indoor temperature (constant all the time), °C;\n",
    "- $\\left \\lceil  \\theta_{out,k} \\right \\rceil$ - outdoor temperature bounded by the indoor temperature (i.e., not larger than the indoor temperature), °C, \n",
    "\n",
    "where\n",
    "$\\left \\lceil  \\theta_{out,k} \\right \\rceil = \n",
    "\\begin{cases}\n",
    "\\theta_{out,k} \\text{, if } \\theta_{out,k} < \\theta\n",
    "\\\\\n",
    "\\theta \\text{ otherwise}\n",
    "\\end{cases}$\n"
   ]
  },
  {
   "cell_type": "code",
   "execution_count": 3,
   "id": "30ebbd77-5867-4f0d-8180-74709207e8ca",
   "metadata": {},
   "outputs": [],
   "source": [
    "# Compute degree-hours for fixed set-point\n",
    "# ----------------------------------------\n",
    "df['Δθfix'] = θ - df['θout'].where(\n",
    "    df['θout'] < θ,\n",
    "    θ)"
   ]
  },
  {
   "cell_type": "markdown",
   "id": "63bb56d0-3717-4499-a884-6a0a8d1e7e72",
   "metadata": {},
   "source": [
    "### Temperature differences for variable indoor temperature\n",
    "\n",
    "#### Daytime and nighttime\n",
    "\n",
    "Daytime is from `day_start` to `day_end`(indicated in `HH:00`). Nighttime is when there is no daytime."
   ]
  },
  {
   "cell_type": "code",
   "execution_count": 4,
   "id": "f7c0adf6-66ad-43df-a73d-1eb92e9e9418",
   "metadata": {},
   "outputs": [],
   "source": [
    "# Define start time for day and night\n",
    "day_start = pd.to_datetime(daytime_start).time()\n",
    "day_end = pd.to_datetime(daytime_end).time()\n",
    "\n",
    "# Daytime should be between 00:00 and 24:00\n",
    "# Daytime including midnight is not allowed, e.g., 22:00 till 06:00\n",
    "day = (df.index.time >= day_start) & (df.index.time <= day_end)\n",
    "night = ~day"
   ]
  },
  {
   "cell_type": "markdown",
   "id": "d5773989-1156-4f27-9337-7d2d3f4e4aff",
   "metadata": {},
   "source": [
    "#### Temperature differences for daytime\n",
    "\n",
    "$$\\Delta \\theta_{day,k} = \\theta_{day} - \\left \\lceil  \\theta_{out,k} \\right \\rceil_{day}$$\n",
    "\n",
    "where:\n",
    "- $\\theta_{day}$ - indoor temperature over the time $k$, °C;\n",
    "- $\\left \\lceil  \\theta_{out,k} \\right \\rceil_{day}$ - outdoor temperature bounded by indoor temperature during the daytime, °C,\n",
    "\n",
    "where \n",
    "$\\left \\lceil  \\theta_{out,k} \\right \\rceil_{day} =\n",
    "\\begin{cases}\n",
    "\\theta_{out,k} \\text{, if } \\theta_{out,k} < \\theta_{day} \\text{ and daytime}\n",
    "\\\\\n",
    "\\theta_{day} \\text{, otherwise}\n",
    "\\end{cases}$ \n"
   ]
  },
  {
   "cell_type": "code",
   "execution_count": 5,
   "id": "731e5f26-8056-4a93-bd46-4bc63af98018",
   "metadata": {},
   "outputs": [],
   "source": [
    "# Degree-hours for daytime\n",
    "df['Δθday'] = θday - df['θout'].where(\n",
    "    (df['θout'] < θday) & day,\n",
    "    θday)"
   ]
  },
  {
   "cell_type": "markdown",
   "id": "dde201b3-c8a0-46ac-92d1-b941870d30fe",
   "metadata": {},
   "source": [
    "#### Temperature differences for nighttime\n",
    "\n",
    "$$\\Delta \\theta_{night,k} = \\theta_{night} - \\left \\lceil  \\theta_{out,k} \\right \\rceil_{night}$$\n",
    "\n",
    "where:\n",
    "- $\\theta_{night}$ - indoor temperature over the time $k$, °C;\n",
    "- $\\left \\lceil  \\theta_{out,k} \\right \\rceil_{night}$ - outdoor temperature bounded by the indoor temperature during the nighttime, °C, \n",
    "\n",
    "where\n",
    "$\\left \\lceil  \\theta_{out,k} \\right \\rceil_{night} =\n",
    "\\begin{cases}\n",
    "\\theta_{out,k} \\text{, if }  \\theta_{out,k} < \\theta_{night}  \\text{ and nighttime}\n",
    "\\\\\n",
    "\\theta_{night} \\text{, otherwise}\n",
    "\\end{cases}$ "
   ]
  },
  {
   "cell_type": "code",
   "execution_count": 6,
   "id": "d62444ca-8c0d-464e-95c4-4a5870f843d2",
   "metadata": {},
   "outputs": [],
   "source": [
    "# Degree-hours for nighttime\n",
    "df['Δθnight'] = θnight - df['θout'].where(\n",
    "    (df['θout'] < θnight) & night,\n",
    "    θnight)"
   ]
  },
  {
   "cell_type": "markdown",
   "id": "990f717a-9bf3-43d0-ac2a-1c99e848a43c",
   "metadata": {
    "tags": []
   },
   "source": [
    "### Degree-hours for heating (DHH)\n",
    "\n",
    "The degree hours for heating (_DHH_) are the sum of temperature differences:\n",
    "- for fixed indoor temperature\n",
    "\n",
    "$$DHH_{fix} = \\sum_{k=0}^{n} \\Delta \\theta_{fix,k} = \\sum_{k=0}^{n} ( \\theta - \\left \\lceil  \\theta_{out,k} \\right \\rceil)$$\n",
    "\n",
    "- for daytime indoor temperature\n",
    "\n",
    "$$DHH_{day} = \\sum_{k=0}^{n} \\Delta \\theta_{day,k} = \\sum_{k=0}^{n} ( \\theta_{day} - \\left \\lceil  \\theta_{out,k} \\right \\rceil_{day})$$\n",
    "\n",
    "- for nighttime indoor temperature\n",
    "\n",
    "$$DHH_{night} = \\sum_{k=0}^{n} \\Delta \\theta_{night,k} = \\sum_{k=0}^{n} ( \\theta_{night} - \\left \\lceil  \\theta_{out,k} \\right \\rceil_{night})$$\n",
    "\n",
    "- for intermittence\n",
    "\n",
    "$$DHH_{interm} = DHH_{day} + DHH_{night}$$\n",
    "\n",
    "The percentage of energy savings by using intermittent heating is:\n",
    "\n",
    "$$s = \\frac{DHH_{fix} - DHH_{interm}}{DHH_{fix}} 100 \\%$$"
   ]
  },
  {
   "cell_type": "code",
   "execution_count": 7,
   "id": "5d943246-a174-4851-9ecf-3e2fc0b77e6a",
   "metadata": {},
   "outputs": [
    {
     "name": "stdout",
     "output_type": "stream",
     "text": [
      "degree-hours fixed set-point: 92204.7 h·K\n",
      "degree-hours variable set-point: 78042.1 h·K\n",
      "Estimated savings: 15 %\n"
     ]
    }
   ],
   "source": [
    "# Sum of degree-hours for fixed indoor temperature\n",
    "DHH_fix = df['Δθfix'].sum()\n",
    "\n",
    "# Sum of degree-hours for intermittent heating\n",
    "DHH_interm = df['Δθday'].sum() + df['Δθnight'].sum()\n",
    "\n",
    "# Results\n",
    "# =======\n",
    "print(f\"degree-hours fixed set-point: {DHH_fix:.1f} h·K\")\n",
    "print(f\"degree-hours variable set-point: {DHH_interm:.1f} h·K\")\n",
    "print(f\"Estimated savings: {(DHH_fix - DHH_interm) / DHH_fix * 100:.0f} %\")"
   ]
  },
  {
   "cell_type": "markdown",
   "id": "ae2c4825-f4f0-49af-9a28-88dbaa36ec44",
   "metadata": {},
   "source": [
    "Note that the obtained percentage of savings is an upper bound. The heating load during the daytime would probably be reduced by free gains, such as solar radiation, occupants and electrical devices. The set-point considered for indoor temperature during nighttime will be attended later than indicated in the time schedule for day/night setpoint due to thermal inertia. The optimal load of intermittently heated building can be assessed by estimating the command of a Model Predictive Controller ([Ghiaus and Hazyuk, 2010](https://doi.org/10.1016/j.enbuild.2010.02.017))."
   ]
  },
  {
   "cell_type": "markdown",
   "id": "e984c2d5-a80b-4220-9194-623ed6e24b33",
   "metadata": {},
   "source": [
    "## References\n",
    "- [Ghiaus, C. (2003)](https://doi.org/10.1016/S0378-7788(02)00110-X). Free-running building temperature and HVAC climatic suitability. Energy and Buildings, 35(4), 405-411.\n",
    "\n",
    "- [Ghiaus, C., & Allard, F. (2006)](https://doi.org/10.1016/j.solener.2005.05.019). Potential for free-cooling by ventilation. Solar Energy, 80(4), 402-413.\n",
    "\n",
    "- [Ghiaus, C., Allard, F., Santamouris, M., Georgakis, C., & Nicol, F. (2006)](https://doi.org/10.1016/j.buildenv.2005.02.003). Urban environment influence on natural ventilation potential. Building and environment, 41(4), 395-406.\n",
    "\n",
    "- [Ghiaus, C. (2006)](https://doi.org/10.1016/j.enbuild.2005.08.014). Experimental estimation of building energy performance by robust regression. Energy and buildings, 38(6), 582-587.\n",
    "\n",
    "- [Ghiaus, C., & Hazyuk, I. (2010)](https://doi.org/10.1016/j.enbuild.2010.02.017). Calculation of optimal thermal load of intermittently heated buildings. Energy and Buildings, 42(8), 1248-1258.\n",
    "\n",
    "- [Ghiaus, C., & Alzetto, F. (2019)](https://doi.org/10.1080/19401493.2018.1561753). Design of experiments for Quick U-building method for building energy performance measurement. Journal of building performance simulation, 12(4), 465-479."
   ]
  },
  {
   "cell_type": "code",
   "execution_count": null,
   "id": "a5d83932-93de-45ee-8603-50b3487de3d2",
   "metadata": {},
   "outputs": [],
   "source": []
  }
 ],
 "metadata": {
  "kernelspec": {
   "display_name": "Python 3 (ipykernel)",
   "language": "python",
   "name": "python3"
  },
  "language_info": {
   "codemirror_mode": {
    "name": "ipython",
    "version": 3
   },
   "file_extension": ".py",
   "mimetype": "text/x-python",
   "name": "python",
   "nbconvert_exporter": "python",
   "pygments_lexer": "ipython3",
   "version": "3.9.7"
  },
  "toc-autonumbering": true
 },
 "nbformat": 4,
 "nbformat_minor": 5
}
