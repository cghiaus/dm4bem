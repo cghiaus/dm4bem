{
 "cells": [
  {
   "cell_type": "markdown",
   "id": "57654529-c23a-46d7-a54b-dbb1d0f7351e",
   "metadata": {},
   "source": [
    "# Disassembled thermal circuits from folder describing the building\n",
    "\n",
    "This notebook presents how to obtain _disassambled thermal circuits_ from a _folder describing the building_ implemented in the function `bldg2TCd()` of dm4bem module.\n",
    "\n",
    "The _folder describing the building_ contains (see, for example, the folder `bldg`):\n",
    "\n",
    "- description of the walls (wall type and wall data);\n",
    "- description of thermal circuits;\n",
    "- assembling matrix or list.\n",
    "\n",
    "The _disassembled thermal network_ is a dictionary of thermal networks, each thermal network being described by the matrices A, G, C and the vectors b, f, y."
   ]
  },
  {
   "cell_type": "code",
   "execution_count": 1,
   "id": "13d93595-c53e-4840-a864-965e6588ad05",
   "metadata": {
    "tags": []
   },
   "outputs": [],
   "source": [
    "import pandas as pd\n",
    "import pd_dm4bem"
   ]
  },
  {
   "cell_type": "markdown",
   "id": "01c03148-cf6e-4b7a-9de0-62568691909d",
   "metadata": {
    "jp-MarkdownHeadingCollapsed": true,
    "tags": []
   },
   "source": [
    "## Stating the problem\n",
    "Consider the disassembled thermal circuits shown in Figure 1 that we want to assemble as shown in Figure 2.\n",
    "\n",
    "![disassambled_TC](./bldg/ass_TCd.svg)\n",
    "> Figure 1. Four disassembled thermal circuits: wall_out: ow0 (in red), TC0: c0 (in blue), TC1: c1 (in green), TC2: c2 (in magenta), TC3: c3 (in black).\n",
    "\n",
    "![disassambled_TC](./bldg/ass_TC.svg)\n",
    "> Figure 2. The assembling of the four circuits from Figure 1. The faded nodes are deleted.\n",
    "\n",
    "The assembling is done by putting temperature nodes in common, e.g., the node 0 of the circuit c0 to be the same with the node 4 of the circuit ow0. This operation is called [merging of vertexes](https://en.m.wikipedia.org/wiki/Graph_operations#Unary_operations) in graph theory."
   ]
  },
  {
   "cell_type": "markdown",
   "id": "e49c8b32-a6d3-43b6-81d5-fa21625ca4c0",
   "metadata": {},
   "source": [
    "## Description of the folder containing the circuits\n",
    "The disassembled circuits and the indications on how to assemble them are given in the folder `.\\bldg` composed by the files:\n",
    "- assembly:\n",
    "    - `assembly_lists.csv`: lists that indicate the nodes to be merged;\n",
    "    - `assembly_matrix.csv`: matrix that indicates the nodes to be merged;\n",
    "- thermal circuits: `TC0.csv`, ... , `TC3.csv`;\n",
    "- walls:\n",
    "    - `wall_types.csv`: physical properties for each type of wall; \n",
    "    - `walls_out.csv`: surface properties for each specific wall. "
   ]
  },
  {
   "cell_type": "markdown",
   "id": "189df10c-bd6b-4ee4-b54d-9ed0deb1bbfb",
   "metadata": {
    "jp-MarkdownHeadingCollapsed": true,
    "tags": []
   },
   "source": [
    "### Assembly matrix and lists\n",
    "\n",
    "#### Assembly matrix\n",
    "\n",
    "The assembly matrix is in the file `assembly_matrix.csv`. Each row of this matrix indicates two nodes that are put in common: the first node (designated by columns **TC0** and **node0**) is kept; the second node (designated by columns **TC1** and **node1**) is merged with the first node. For example, in Figure 2 the nodes put in commun are indicated by black dashed arrows. The tip of the arrow represents the node that is retained, while the tail of the arrow signifies the node that is merged. Within a node, there cannot coexist both a tip and a tail of the arrows indicating merging.\n",
    "\n",
    "The five merging arrows in Figure 2 are:\n",
    "\n",
    "0. Node 4 of circuit ow0 (in red) is in common with node 0 of circuit c0 (in blue); node 4 of circuit ow0 is kept (node 0 of circuit c0, in faded blue, is deleted).\n",
    "1. 2nd last node of circuit c1 (in green) is in common with node 1 of circuit c0 (in blue); the node of circuit c1 is kept (node 1 of circuit c0, in faded blue, is deleted).\n",
    "2. Node 0 of circuit c2 (in magenta) is in common with the last node of circuit ow0 (in red); the node of circuit c2 is kept (last node of circuit ow0, in faded red, is deleted).\n",
    "3. Node 0 of circuit c2 (in magenta) is in common with the 1st node of circuit c3 (in black); the node of circuit c2 is kept (node 0 of circuit c3, in faded black, is deleted).\n",
    "4. Node 0 of circuit c2 (in magenta) is in common with the last node of circuit c1 (in green); the node of circuit c2 is kept (last node of circuit c1, in faded green, is deleted).\n",
    "\n",
    "These connexions are described in the file `assembly_matrix.csv`."
   ]
  },
  {
   "cell_type": "code",
   "execution_count": 2,
   "id": "2858c19b-0381-4d9a-8582-833aad92a1d6",
   "metadata": {},
   "outputs": [
    {
     "data": {
      "text/html": [
       "<div>\n",
       "<style scoped>\n",
       "    .dataframe tbody tr th:only-of-type {\n",
       "        vertical-align: middle;\n",
       "    }\n",
       "\n",
       "    .dataframe tbody tr th {\n",
       "        vertical-align: top;\n",
       "    }\n",
       "\n",
       "    .dataframe thead th {\n",
       "        text-align: right;\n",
       "    }\n",
       "</style>\n",
       "<table border=\"1\" class=\"dataframe\">\n",
       "  <thead>\n",
       "    <tr style=\"text-align: right;\">\n",
       "      <th></th>\n",
       "      <th>TC0</th>\n",
       "      <th>node0</th>\n",
       "      <th>TC1</th>\n",
       "      <th>node1</th>\n",
       "    </tr>\n",
       "  </thead>\n",
       "  <tbody>\n",
       "    <tr>\n",
       "      <th>0</th>\n",
       "      <td>ow0</td>\n",
       "      <td>4</td>\n",
       "      <td>c0</td>\n",
       "      <td>0</td>\n",
       "    </tr>\n",
       "    <tr>\n",
       "      <th>1</th>\n",
       "      <td>c1</td>\n",
       "      <td>-2</td>\n",
       "      <td>c0</td>\n",
       "      <td>1</td>\n",
       "    </tr>\n",
       "    <tr>\n",
       "      <th>2</th>\n",
       "      <td>c2</td>\n",
       "      <td>0</td>\n",
       "      <td>ow0</td>\n",
       "      <td>-1</td>\n",
       "    </tr>\n",
       "    <tr>\n",
       "      <th>3</th>\n",
       "      <td>c2</td>\n",
       "      <td>0</td>\n",
       "      <td>c3</td>\n",
       "      <td>0</td>\n",
       "    </tr>\n",
       "    <tr>\n",
       "      <th>4</th>\n",
       "      <td>c2</td>\n",
       "      <td>0</td>\n",
       "      <td>c1</td>\n",
       "      <td>-1</td>\n",
       "    </tr>\n",
       "  </tbody>\n",
       "</table>\n",
       "</div>"
      ],
      "text/plain": [
       "   TC0  node0  TC1  node1\n",
       "0  ow0      4   c0      0\n",
       "1   c1     -2   c0      1\n",
       "2   c2      0  ow0     -1\n",
       "3   c2      0   c3      0\n",
       "4   c2      0   c1     -1"
      ]
     },
     "execution_count": 2,
     "metadata": {},
     "output_type": "execute_result"
    }
   ],
   "source": [
    "pd.read_csv('./bldg/assembly_matrix.csv')"
   ]
  },
  {
   "cell_type": "markdown",
   "id": "9856fb70-2182-436b-b696-9138a7ee26cc",
   "metadata": {},
   "source": [
    "__Note:__ Since a node cannot be, in the same time, deleted and kept, a node that appears in multiple rows cannot be specified in the 1st two columns on one row and in the last two columns on another row. For example, node 0 of circuit c2 (which is kept) can be only in the first columns."
   ]
  },
  {
   "cell_type": "markdown",
   "id": "459489f8-3789-4113-8a49-4604303b245c",
   "metadata": {
    "tags": []
   },
   "source": [
    "#### Assembly lists\n",
    "The assembly lists are in the file `assembly_lists.csv`. Each row contains two lists:\n",
    "- __node0__: the node that is kept (to which all the merging arrows point);\n",
    "- __nodes__: the node or nodes that are merged and deleted (that are the tail of the merging arrows).\n",
    "\n",
    "For the circuits shown in Figures 1 and 2, there are three lists representing the three nodes that are kept (nodes to which the merging arrows point):\n",
    "- On row 0:\n",
    "    - node 0 of circuit c2, which is kept;\n",
    "    - last node of circuit ow0, 1st node of circuit c3, last node of circuit c1, which are merged with node 0 of circuit c2.\n",
    "- On row 1:\n",
    "    - node 4 of circuit ow0, which is kept;\n",
    "    - node 0 of circuit c0, which is merged.\n",
    "- On row 2:\n",
    "    - second last node of circuit c1, which is kept;\n",
    "    - node 1 of circuit c0, which is merged."
   ]
  },
  {
   "cell_type": "code",
   "execution_count": 3,
   "id": "5742b018-0453-45ba-9954-3ce834f03111",
   "metadata": {},
   "outputs": [
    {
     "data": {
      "text/html": [
       "<div>\n",
       "<style scoped>\n",
       "    .dataframe tbody tr th:only-of-type {\n",
       "        vertical-align: middle;\n",
       "    }\n",
       "\n",
       "    .dataframe tbody tr th {\n",
       "        vertical-align: top;\n",
       "    }\n",
       "\n",
       "    .dataframe thead th {\n",
       "        text-align: right;\n",
       "    }\n",
       "</style>\n",
       "<table border=\"1\" class=\"dataframe\">\n",
       "  <thead>\n",
       "    <tr style=\"text-align: right;\">\n",
       "      <th></th>\n",
       "      <th>node0</th>\n",
       "      <th>nodes</th>\n",
       "    </tr>\n",
       "  </thead>\n",
       "  <tbody>\n",
       "    <tr>\n",
       "      <th>0</th>\n",
       "      <td>['c2', 0]</td>\n",
       "      <td>['ow0', -1], ['c3', 0], ['c1', -1]</td>\n",
       "    </tr>\n",
       "    <tr>\n",
       "      <th>1</th>\n",
       "      <td>['ow0', 4]</td>\n",
       "      <td>['c0', 0],</td>\n",
       "    </tr>\n",
       "    <tr>\n",
       "      <th>2</th>\n",
       "      <td>['c1', -2]</td>\n",
       "      <td>['c0', 1],</td>\n",
       "    </tr>\n",
       "  </tbody>\n",
       "</table>\n",
       "</div>"
      ],
      "text/plain": [
       "        node0                               nodes\n",
       "0   ['c2', 0]  ['ow0', -1], ['c3', 0], ['c1', -1]\n",
       "1  ['ow0', 4]                          ['c0', 0],\n",
       "2  ['c1', -2]                          ['c0', 1],"
      ]
     },
     "execution_count": 3,
     "metadata": {},
     "output_type": "execute_result"
    }
   ],
   "source": [
    "pd.read_csv('./bldg/assembly_lists.csv')"
   ]
  },
  {
   "cell_type": "markdown",
   "id": "2cc95c9b-0f0a-4049-99e8-fd4d86ab413f",
   "metadata": {},
   "source": [
    "### Thermal circuits\n",
    "\n",
    "The names of the files which describe the thermal circuits start with TC, e.g., `TC0.csv`. A thermal circuit is a data structure composed of:\n",
    "- **A**: incidence matrix  which indicates how the nodes are connected by oriented branches;\n",
    "- **G**: conductance diagonal matrix ;\n",
    "- **C**: capacity diagonal matrix ;\n",
    "- **b**: temperature source vector ;\n",
    "- **f**: heat flow source vector ;\n",
    "- **y**: output (temperature) vector.\n",
    "\n",
    "For example, the `TC1.csv` file describes the thermal circuit **c1** (in green) from Figures 1, 2 and 3.\n",
    "\n",
    "![disassambled_TC](./bldg/TC1.svg)\n",
    "> Figure 3. Thermal circuit `TC1: c1` described in the file `TC1.csv`."
   ]
  },
  {
   "cell_type": "code",
   "execution_count": 4,
   "id": "9f3ff195-da42-419b-97cb-329c6ea04580",
   "metadata": {},
   "outputs": [
    {
     "data": {
      "text/html": [
       "<div>\n",
       "<style scoped>\n",
       "    .dataframe tbody tr th:only-of-type {\n",
       "        vertical-align: middle;\n",
       "    }\n",
       "\n",
       "    .dataframe tbody tr th {\n",
       "        vertical-align: top;\n",
       "    }\n",
       "\n",
       "    .dataframe thead th {\n",
       "        text-align: right;\n",
       "    }\n",
       "</style>\n",
       "<table border=\"1\" class=\"dataframe\">\n",
       "  <thead>\n",
       "    <tr style=\"text-align: right;\">\n",
       "      <th></th>\n",
       "      <th>A</th>\n",
       "      <th>θg</th>\n",
       "      <th>θwi</th>\n",
       "      <th>θai</th>\n",
       "      <th>G</th>\n",
       "      <th>b</th>\n",
       "    </tr>\n",
       "  </thead>\n",
       "  <tbody>\n",
       "    <tr>\n",
       "      <th>0</th>\n",
       "      <td>qgo</td>\n",
       "      <td>1</td>\n",
       "      <td>NaN</td>\n",
       "      <td>NaN</td>\n",
       "      <td>165.789</td>\n",
       "      <td>To</td>\n",
       "    </tr>\n",
       "    <tr>\n",
       "      <th>1</th>\n",
       "      <td>qgi</td>\n",
       "      <td>-1</td>\n",
       "      <td>1.0</td>\n",
       "      <td>NaN</td>\n",
       "      <td>630.000</td>\n",
       "      <td>NaN</td>\n",
       "    </tr>\n",
       "    <tr>\n",
       "      <th>2</th>\n",
       "      <td>qai</td>\n",
       "      <td>NaN</td>\n",
       "      <td>-1.0</td>\n",
       "      <td>1.0</td>\n",
       "      <td>72.000</td>\n",
       "      <td>NaN</td>\n",
       "    </tr>\n",
       "    <tr>\n",
       "      <th>3</th>\n",
       "      <td>C</td>\n",
       "      <td>1089000.0</td>\n",
       "      <td>NaN</td>\n",
       "      <td>NaN</td>\n",
       "      <td>NaN</td>\n",
       "      <td>NaN</td>\n",
       "    </tr>\n",
       "    <tr>\n",
       "      <th>4</th>\n",
       "      <td>f</td>\n",
       "      <td>Φa</td>\n",
       "      <td>NaN</td>\n",
       "      <td>NaN</td>\n",
       "      <td>NaN</td>\n",
       "      <td>NaN</td>\n",
       "    </tr>\n",
       "    <tr>\n",
       "      <th>5</th>\n",
       "      <td>y</td>\n",
       "      <td>NaN</td>\n",
       "      <td>NaN</td>\n",
       "      <td>1.0</td>\n",
       "      <td>NaN</td>\n",
       "      <td>NaN</td>\n",
       "    </tr>\n",
       "  </tbody>\n",
       "</table>\n",
       "</div>"
      ],
      "text/plain": [
       "     A         θg  θwi  θai        G    b\n",
       "0  qgo          1  NaN  NaN  165.789   To\n",
       "1  qgi         -1  1.0  NaN  630.000  NaN\n",
       "2  qai        NaN -1.0  1.0   72.000  NaN\n",
       "3    C  1089000.0  NaN  NaN      NaN  NaN\n",
       "4    f         Φa  NaN  NaN      NaN  NaN\n",
       "5    y        NaN  NaN  1.0      NaN  NaN"
      ]
     },
     "execution_count": 4,
     "metadata": {},
     "output_type": "execute_result"
    }
   ],
   "source": [
    "df = pd.read_csv('./bldg/TC1.csv')\n",
    "df"
   ]
  },
  {
   "cell_type": "markdown",
   "id": "fe4ebf85-0f52-4b2e-8b0b-6f8fc549c906",
   "metadata": {},
   "source": [
    "The incidence matrix __A__ describes how the temperature nodes _θ_ are connected by the oriented flow branches _q_:\n",
    "- The rows `qgo`, `qgi`, `qai` (glass out, glass in, and air in, respectively) correspond to the flow branches.\n",
    "- The columns `θg`, `θwi`, `θai` (glass, window surface in and air in, respectively) correspond to the temperature nodes.\n",
    "- Value `1` means that the flow enters into the node, e.g., flow `qgo` enters node `θg`.\n",
    "- Value `-1` means that the flow exists from the node, e.g., flow `qgi` quits node `θg`.\n",
    "- Value `0` or no value (which is rendered as `NaN`by Pandas dataframe) means that the flow is not connected to the node, e.g., flow `qgo` not conected to node `θwi`."
   ]
  },
  {
   "cell_type": "code",
   "execution_count": 5,
   "id": "61f819f3-5ce2-4967-84cb-888fff73c242",
   "metadata": {},
   "outputs": [
    {
     "data": {
      "text/html": [
       "<div>\n",
       "<style scoped>\n",
       "    .dataframe tbody tr th:only-of-type {\n",
       "        vertical-align: middle;\n",
       "    }\n",
       "\n",
       "    .dataframe tbody tr th {\n",
       "        vertical-align: top;\n",
       "    }\n",
       "\n",
       "    .dataframe thead th {\n",
       "        text-align: right;\n",
       "    }\n",
       "</style>\n",
       "<table border=\"1\" class=\"dataframe\">\n",
       "  <thead>\n",
       "    <tr style=\"text-align: right;\">\n",
       "      <th></th>\n",
       "      <th>A</th>\n",
       "      <th>θg</th>\n",
       "      <th>θwi</th>\n",
       "      <th>θai</th>\n",
       "    </tr>\n",
       "  </thead>\n",
       "  <tbody>\n",
       "    <tr>\n",
       "      <th>0</th>\n",
       "      <td>qgo</td>\n",
       "      <td>1</td>\n",
       "      <td>NaN</td>\n",
       "      <td>NaN</td>\n",
       "    </tr>\n",
       "    <tr>\n",
       "      <th>1</th>\n",
       "      <td>qgi</td>\n",
       "      <td>-1</td>\n",
       "      <td>1.0</td>\n",
       "      <td>NaN</td>\n",
       "    </tr>\n",
       "    <tr>\n",
       "      <th>2</th>\n",
       "      <td>qai</td>\n",
       "      <td>NaN</td>\n",
       "      <td>-1.0</td>\n",
       "      <td>1.0</td>\n",
       "    </tr>\n",
       "  </tbody>\n",
       "</table>\n",
       "</div>"
      ],
      "text/plain": [
       "     A   θg  θwi  θai\n",
       "0  qgo    1  NaN  NaN\n",
       "1  qgi   -1  1.0  NaN\n",
       "2  qai  NaN -1.0  1.0"
      ]
     },
     "execution_count": 5,
     "metadata": {},
     "output_type": "execute_result"
    }
   ],
   "source": [
    "df.loc[df['A'].isin(['qgo', 'qgi', 'qai']),\n",
    "       ['A', 'θg', 'θwi', 'θai']]"
   ]
  },
  {
   "cell_type": "markdown",
   "id": "90b15f50-03e9-4a1e-8e6b-b2a27ca59db4",
   "metadata": {},
   "source": [
    "The conductances, given in column __G__ for each branch _q_, are the values on the diagonal of the conductance matrix. The conductances __G__ are defined only for the rows corresponding to the flow branches. There are no values for __G__ in the last three rows (corresponding to C, f and y)."
   ]
  },
  {
   "cell_type": "code",
   "execution_count": 6,
   "id": "5ee75b9a-ee1b-4bb5-bf79-da00d584422c",
   "metadata": {
    "tags": []
   },
   "outputs": [
    {
     "data": {
      "text/html": [
       "<div>\n",
       "<style scoped>\n",
       "    .dataframe tbody tr th:only-of-type {\n",
       "        vertical-align: middle;\n",
       "    }\n",
       "\n",
       "    .dataframe tbody tr th {\n",
       "        vertical-align: top;\n",
       "    }\n",
       "\n",
       "    .dataframe thead th {\n",
       "        text-align: right;\n",
       "    }\n",
       "</style>\n",
       "<table border=\"1\" class=\"dataframe\">\n",
       "  <thead>\n",
       "    <tr style=\"text-align: right;\">\n",
       "      <th></th>\n",
       "      <th>A</th>\n",
       "      <th>G</th>\n",
       "    </tr>\n",
       "  </thead>\n",
       "  <tbody>\n",
       "    <tr>\n",
       "      <th>0</th>\n",
       "      <td>qgo</td>\n",
       "      <td>165.789</td>\n",
       "    </tr>\n",
       "    <tr>\n",
       "      <th>1</th>\n",
       "      <td>qgi</td>\n",
       "      <td>630.000</td>\n",
       "    </tr>\n",
       "    <tr>\n",
       "      <th>2</th>\n",
       "      <td>qai</td>\n",
       "      <td>72.000</td>\n",
       "    </tr>\n",
       "  </tbody>\n",
       "</table>\n",
       "</div>"
      ],
      "text/plain": [
       "     A        G\n",
       "0  qgo  165.789\n",
       "1  qgi  630.000\n",
       "2  qai   72.000"
      ]
     },
     "execution_count": 6,
     "metadata": {},
     "output_type": "execute_result"
    }
   ],
   "source": [
    "df.loc[df['A'].isin(['qgo', 'qgi', 'qai']), ['A', 'G']]"
   ]
  },
  {
   "cell_type": "markdown",
   "id": "1ea94f8e-3b2c-4680-9eca-ced780b0d9aa",
   "metadata": {},
   "source": [
    "The capacities, given in row __C__ for each node _θ_, are the values on the diagonal of the capacity matrix.  The capacities __C__ are defined only for the columns corresponding to the temperature nodes. There are always no values for __C__ in the last two columns (corresponding to G and b). The capacities in some temperature nodes may be zero (or NaN)."
   ]
  },
  {
   "cell_type": "code",
   "execution_count": 7,
   "id": "d0f91404-131c-4e21-a980-62b4d1b04156",
   "metadata": {},
   "outputs": [
    {
     "data": {
      "text/html": [
       "<div>\n",
       "<style scoped>\n",
       "    .dataframe tbody tr th:only-of-type {\n",
       "        vertical-align: middle;\n",
       "    }\n",
       "\n",
       "    .dataframe tbody tr th {\n",
       "        vertical-align: top;\n",
       "    }\n",
       "\n",
       "    .dataframe thead th {\n",
       "        text-align: right;\n",
       "    }\n",
       "</style>\n",
       "<table border=\"1\" class=\"dataframe\">\n",
       "  <thead>\n",
       "    <tr style=\"text-align: right;\">\n",
       "      <th></th>\n",
       "      <th>A</th>\n",
       "      <th>θg</th>\n",
       "      <th>θwi</th>\n",
       "      <th>θai</th>\n",
       "    </tr>\n",
       "  </thead>\n",
       "  <tbody>\n",
       "    <tr>\n",
       "      <th>3</th>\n",
       "      <td>C</td>\n",
       "      <td>1089000.0</td>\n",
       "      <td>NaN</td>\n",
       "      <td>NaN</td>\n",
       "    </tr>\n",
       "  </tbody>\n",
       "</table>\n",
       "</div>"
      ],
      "text/plain": [
       "   A         θg  θwi  θai\n",
       "3  C  1089000.0  NaN  NaN"
      ]
     },
     "execution_count": 7,
     "metadata": {},
     "output_type": "execute_result"
    }
   ],
   "source": [
    "df.loc[df['A'] == 'C',\n",
    "       ['A', 'θg', 'θwi', 'θai']]"
   ]
  },
  {
   "cell_type": "markdown",
   "id": "0afe6eec-0b9d-4429-bbc5-386c0c6d6b1b",
   "metadata": {},
   "source": [
    "Column __b__ contains the names of the temperature sources on each flow branch. The temperature sources __b__ are defined only for the rows corresponding to the flow branches."
   ]
  },
  {
   "cell_type": "code",
   "execution_count": 8,
   "id": "d7c4665b-4037-4384-9d76-9dd2eb1ad04e",
   "metadata": {},
   "outputs": [
    {
     "data": {
      "text/html": [
       "<div>\n",
       "<style scoped>\n",
       "    .dataframe tbody tr th:only-of-type {\n",
       "        vertical-align: middle;\n",
       "    }\n",
       "\n",
       "    .dataframe tbody tr th {\n",
       "        vertical-align: top;\n",
       "    }\n",
       "\n",
       "    .dataframe thead th {\n",
       "        text-align: right;\n",
       "    }\n",
       "</style>\n",
       "<table border=\"1\" class=\"dataframe\">\n",
       "  <thead>\n",
       "    <tr style=\"text-align: right;\">\n",
       "      <th></th>\n",
       "      <th>A</th>\n",
       "      <th>b</th>\n",
       "    </tr>\n",
       "  </thead>\n",
       "  <tbody>\n",
       "    <tr>\n",
       "      <th>0</th>\n",
       "      <td>qgo</td>\n",
       "      <td>To</td>\n",
       "    </tr>\n",
       "    <tr>\n",
       "      <th>1</th>\n",
       "      <td>qgi</td>\n",
       "      <td>NaN</td>\n",
       "    </tr>\n",
       "    <tr>\n",
       "      <th>2</th>\n",
       "      <td>qai</td>\n",
       "      <td>NaN</td>\n",
       "    </tr>\n",
       "  </tbody>\n",
       "</table>\n",
       "</div>"
      ],
      "text/plain": [
       "     A    b\n",
       "0  qgo   To\n",
       "1  qgi  NaN\n",
       "2  qai  NaN"
      ]
     },
     "execution_count": 8,
     "metadata": {},
     "output_type": "execute_result"
    }
   ],
   "source": [
    "df.loc[df['A'].isin(['qgo', 'qgi', 'qai']),\n",
    "       ['A', 'b']]"
   ]
  },
  {
   "cell_type": "markdown",
   "id": "2b7cd88b-219a-47ae-a5d4-b9cc215228b3",
   "metadata": {},
   "source": [
    "Row __f__ contains the names of the flow sources in each temperature node. The flow sources __f__ are defined only for the columns corresponding to the temperature nodes."
   ]
  },
  {
   "cell_type": "code",
   "execution_count": 9,
   "id": "18ad7fa8-62e3-4d78-91fe-71c81c6916ed",
   "metadata": {},
   "outputs": [
    {
     "data": {
      "text/html": [
       "<div>\n",
       "<style scoped>\n",
       "    .dataframe tbody tr th:only-of-type {\n",
       "        vertical-align: middle;\n",
       "    }\n",
       "\n",
       "    .dataframe tbody tr th {\n",
       "        vertical-align: top;\n",
       "    }\n",
       "\n",
       "    .dataframe thead th {\n",
       "        text-align: right;\n",
       "    }\n",
       "</style>\n",
       "<table border=\"1\" class=\"dataframe\">\n",
       "  <thead>\n",
       "    <tr style=\"text-align: right;\">\n",
       "      <th></th>\n",
       "      <th>A</th>\n",
       "      <th>θg</th>\n",
       "      <th>θwi</th>\n",
       "      <th>θai</th>\n",
       "    </tr>\n",
       "  </thead>\n",
       "  <tbody>\n",
       "    <tr>\n",
       "      <th>4</th>\n",
       "      <td>f</td>\n",
       "      <td>Φa</td>\n",
       "      <td>NaN</td>\n",
       "      <td>NaN</td>\n",
       "    </tr>\n",
       "  </tbody>\n",
       "</table>\n",
       "</div>"
      ],
      "text/plain": [
       "   A  θg  θwi  θai\n",
       "4  f  Φa  NaN  NaN"
      ]
     },
     "execution_count": 9,
     "metadata": {},
     "output_type": "execute_result"
    }
   ],
   "source": [
    "df.loc[df['A'] == 'f',\n",
    "       ['A', 'θg', 'θwi', 'θai']]"
   ]
  },
  {
   "cell_type": "markdown",
   "id": "bb3108f1-255c-4b44-8d56-5a84225bc3ec",
   "metadata": {},
   "source": [
    "Row __y__ indicates by \"1\" (ones) the temperature nodes that are the outputs of the model."
   ]
  },
  {
   "cell_type": "code",
   "execution_count": 10,
   "id": "7ad9def4-1c77-4210-b19c-358f167d1c6a",
   "metadata": {},
   "outputs": [
    {
     "data": {
      "text/html": [
       "<div>\n",
       "<style scoped>\n",
       "    .dataframe tbody tr th:only-of-type {\n",
       "        vertical-align: middle;\n",
       "    }\n",
       "\n",
       "    .dataframe tbody tr th {\n",
       "        vertical-align: top;\n",
       "    }\n",
       "\n",
       "    .dataframe thead th {\n",
       "        text-align: right;\n",
       "    }\n",
       "</style>\n",
       "<table border=\"1\" class=\"dataframe\">\n",
       "  <thead>\n",
       "    <tr style=\"text-align: right;\">\n",
       "      <th></th>\n",
       "      <th>A</th>\n",
       "      <th>θg</th>\n",
       "      <th>θwi</th>\n",
       "      <th>θai</th>\n",
       "    </tr>\n",
       "  </thead>\n",
       "  <tbody>\n",
       "    <tr>\n",
       "      <th>5</th>\n",
       "      <td>y</td>\n",
       "      <td>NaN</td>\n",
       "      <td>NaN</td>\n",
       "      <td>1.0</td>\n",
       "    </tr>\n",
       "  </tbody>\n",
       "</table>\n",
       "</div>"
      ],
      "text/plain": [
       "   A   θg  θwi  θai\n",
       "5  y  NaN  NaN  1.0"
      ]
     },
     "execution_count": 10,
     "metadata": {},
     "output_type": "execute_result"
    }
   ],
   "source": [
    "df.loc[df['A'] == 'y',\n",
    "       ['A', 'θg', 'θwi', 'θai']]"
   ]
  },
  {
   "cell_type": "markdown",
   "id": "db4f7317-6e0c-4263-89f4-bbe556c47f8b",
   "metadata": {},
   "source": [
    "Note that in the data structure of a thermal circuit (the `.csv` file) there are always no values for the block defined by the rows __C__, __f__ and __y__ and the columns __G__ and __b__."
   ]
  },
  {
   "cell_type": "markdown",
   "id": "b20f4eb2-79ca-47d5-8022-9dfcdbf6a168",
   "metadata": {},
   "source": [
    "### Walls\n",
    "\n",
    "The walls are characterized by two files: \n",
    "- wall composition and physical properties of material of types of walls (e.g., file `wall_types.csv`);\n",
    "- surface characteristics of each wall (e.g., file `walls_out.csv`).  "
   ]
  },
  {
   "cell_type": "markdown",
   "id": "cf6dc200-40b2-435e-97ab-1b45b6bc01ab",
   "metadata": {},
   "source": [
    "#### Wall types\n",
    "\n",
    "Let's consider two types of walls described in the file `wall_types.csv`."
   ]
  },
  {
   "cell_type": "code",
   "execution_count": 11,
   "id": "02ac5b34-559c-48ca-a162-05455feffe29",
   "metadata": {},
   "outputs": [
    {
     "data": {
      "text/html": [
       "<div>\n",
       "<style scoped>\n",
       "    .dataframe tbody tr th:only-of-type {\n",
       "        vertical-align: middle;\n",
       "    }\n",
       "\n",
       "    .dataframe tbody tr th {\n",
       "        vertical-align: top;\n",
       "    }\n",
       "\n",
       "    .dataframe thead th {\n",
       "        text-align: right;\n",
       "    }\n",
       "</style>\n",
       "<table border=\"1\" class=\"dataframe\">\n",
       "  <thead>\n",
       "    <tr style=\"text-align: right;\">\n",
       "      <th></th>\n",
       "      <th>type</th>\n",
       "      <th>Material</th>\n",
       "      <th>Conductivity</th>\n",
       "      <th>Specific heat</th>\n",
       "      <th>Density</th>\n",
       "      <th>Width</th>\n",
       "      <th>Mesh</th>\n",
       "    </tr>\n",
       "  </thead>\n",
       "  <tbody>\n",
       "    <tr>\n",
       "      <th>0</th>\n",
       "      <td>0</td>\n",
       "      <td>Concrete</td>\n",
       "      <td>1.400</td>\n",
       "      <td>880</td>\n",
       "      <td>2300</td>\n",
       "      <td>0.200</td>\n",
       "      <td>1</td>\n",
       "    </tr>\n",
       "    <tr>\n",
       "      <th>1</th>\n",
       "      <td>0</td>\n",
       "      <td>Insulation</td>\n",
       "      <td>0.027</td>\n",
       "      <td>1210</td>\n",
       "      <td>55</td>\n",
       "      <td>0.080</td>\n",
       "      <td>1</td>\n",
       "    </tr>\n",
       "    <tr>\n",
       "      <th>2</th>\n",
       "      <td>1</td>\n",
       "      <td>Glass</td>\n",
       "      <td>1.400</td>\n",
       "      <td>750</td>\n",
       "      <td>2500</td>\n",
       "      <td>0.004</td>\n",
       "      <td>1</td>\n",
       "    </tr>\n",
       "  </tbody>\n",
       "</table>\n",
       "</div>"
      ],
      "text/plain": [
       "   type    Material  Conductivity  Specific heat  Density  Width  Mesh\n",
       "0     0    Concrete         1.400            880     2300  0.200     1\n",
       "1     0  Insulation         0.027           1210       55  0.080     1\n",
       "2     1       Glass         1.400            750     2500  0.004     1"
      ]
     },
     "execution_count": 11,
     "metadata": {},
     "output_type": "execute_result"
    }
   ],
   "source": [
    "pd.read_csv('./bldg/wall_types.csv')"
   ]
  },
  {
   "cell_type": "markdown",
   "id": "24b63417-4092-4a0c-90f9-d9fe623edb6b",
   "metadata": {},
   "source": [
    "The walls of __type__ 0 have two layers: Concrete and Insulation. Their physical characteristics (conductivity, specific heat, density) are given in SI units (W·m⁻¹·K⁻¹, J·kg⁻¹·K⁻¹, and kg·m⁻³, respectively). The width of the layers is in m. __Mesh__ represents the number of meshes in which the layer is discretized. Each mesh has two resistances and a capacity.\n",
    "\n",
    "The wall __owO__ (in red) in Figures 1 and 2 is of type 0. It has two layers (concrete and insulation), each one discretized in one mesh."
   ]
  },
  {
   "cell_type": "markdown",
   "id": "309028bf-0e00-4604-8835-b2d05631e51b",
   "metadata": {},
   "source": [
    "#### Walls data\n",
    "\n",
    "There are three types of plane walls (see _1.2 Walls data_ in [01wall2TC.ipynb](01wall2TC.ipynb)):\n",
    "1. generic,\n",
    "2. outdoor wall,\n",
    "3. indoor wall.\n",
    "\n",
    "In this folder, there is only one outdoor wall described by the file `walls_out.csv`. "
   ]
  },
  {
   "cell_type": "code",
   "execution_count": 12,
   "id": "53163a77-dd46-4191-9900-3d77ffa20c33",
   "metadata": {},
   "outputs": [
    {
     "data": {
      "text/html": [
       "<div>\n",
       "<style scoped>\n",
       "    .dataframe tbody tr th:only-of-type {\n",
       "        vertical-align: middle;\n",
       "    }\n",
       "\n",
       "    .dataframe tbody tr th {\n",
       "        vertical-align: top;\n",
       "    }\n",
       "\n",
       "    .dataframe thead th {\n",
       "        text-align: right;\n",
       "    }\n",
       "</style>\n",
       "<table border=\"1\" class=\"dataframe\">\n",
       "  <thead>\n",
       "    <tr style=\"text-align: right;\">\n",
       "      <th></th>\n",
       "      <th>ID</th>\n",
       "      <th>type</th>\n",
       "      <th>Area</th>\n",
       "      <th>β</th>\n",
       "      <th>γ</th>\n",
       "      <th>albedo</th>\n",
       "      <th>T0</th>\n",
       "      <th>Q0</th>\n",
       "      <th>Q1</th>\n",
       "      <th>h0</th>\n",
       "      <th>h1</th>\n",
       "      <th>α0</th>\n",
       "      <th>α1</th>\n",
       "      <th>ε0</th>\n",
       "      <th>ε1</th>\n",
       "      <th>y</th>\n",
       "    </tr>\n",
       "  </thead>\n",
       "  <tbody>\n",
       "    <tr>\n",
       "      <th>0</th>\n",
       "      <td>w0</td>\n",
       "      <td>0</td>\n",
       "      <td>45</td>\n",
       "      <td>90</td>\n",
       "      <td>0</td>\n",
       "      <td>0.2</td>\n",
       "      <td>To</td>\n",
       "      <td>Φo</td>\n",
       "      <td>Φi</td>\n",
       "      <td>25</td>\n",
       "      <td>8</td>\n",
       "      <td>0.25</td>\n",
       "      <td>0.3</td>\n",
       "      <td>0.85</td>\n",
       "      <td>0.7</td>\n",
       "      <td>[-1]</td>\n",
       "    </tr>\n",
       "  </tbody>\n",
       "</table>\n",
       "</div>"
      ],
      "text/plain": [
       "   ID  type  Area   β  γ  albedo  T0  Q0  Q1  h0  h1    α0   α1    ε0   ε1  \\\n",
       "0  w0     0    45  90  0     0.2  To  Φo  Φi  25   8  0.25  0.3  0.85  0.7   \n",
       "\n",
       "      y  \n",
       "0  [-1]  "
      ]
     },
     "execution_count": 12,
     "metadata": {},
     "output_type": "execute_result"
    }
   ],
   "source": [
    "pd.read_csv('./bldg/walls_out.csv')"
   ]
  },
  {
   "cell_type": "markdown",
   "id": "9c7be6ed-2789-4fad-a88c-7fa985784094",
   "metadata": {},
   "source": [
    "The outdoor wall with __ID__ w0 has the characteristics:\n",
    "- __type__: 0, given in the file `wall_types.csv`.\n",
    "- __Area__: 45 m², surface area of the plan wall;\n",
    "- __β__: 90°, wall slope (0° horizontal, 90° vertical; > 90° downward facing);\n",
    "- __γ__:  0°, azimuth (0° South, 180° North, >0 westward, <0 eastward);\n",
    "- __T0__: 'To', name of the temperature source of outer surface;\n",
    "- __Q0__: 'Qo', name of the flow rate source of outer surface;\n",
    "- __Q1__: 'Qi', name of the flow rate source of inner surface;\n",
    "- __h0__: 25 W·m⁻²·K⁻¹, convection coefficient of outer surface;\n",
    "- __h1__: 8 W·m⁻²·K⁻¹, convection coefficient of inner surface;\n",
    "- __α0__: 0.25, short-wave absorbtion coefficient of outer surface;\n",
    "- __α1__: 0.3, short-wave absorbtion coefficient of inner surface;\n",
    "- __ε0__: 0.85, long-wave hemispherical emissivity of outer surface;\n",
    "- __ε1__: 0.7, long-wave hemispherical emissivity of inner surface;\n",
    "- __y__:  [0, -1], output temperature nodes by using slicing, in this case the 1st node and the last node are outputs.\n"
   ]
  },
  {
   "cell_type": "markdown",
   "id": "841facfc-c5bb-460e-bef1-1bd122c98d01",
   "metadata": {},
   "source": [
    "## Disassembled thermal circuits\n",
    "\n",
    "The disassembled thermal circuits `TCd` are obtained from the folder `bldg` that describes the building."
   ]
  },
  {
   "cell_type": "code",
   "execution_count": 13,
   "id": "9cb759a5-28e1-4efa-8ee2-14e891103f62",
   "metadata": {},
   "outputs": [
    {
     "name": "stdout",
     "output_type": "stream",
     "text": [
      "\n",
      "Disassembled thermal circuits with auto-numbering\n"
     ]
    }
   ],
   "source": [
    "print('\\nDisassembled thermal circuits with auto-numbering')\n",
    "TCd = pd_dm4bem.bldg2TCd(folder_path='bldg',\n",
    "                        TC_auto_number=True)"
   ]
  },
  {
   "cell_type": "markdown",
   "id": "02d36279-8991-47f4-933f-d579011df22f",
   "metadata": {},
   "source": [
    "### Accessing the thermal circuits\n",
    "\n",
    "The variable `TCd` is a dictionary; the keys of this dictionary are the names of the circuits. Each circuit from the set of disassembled thermal circuits `TCd` can be accessed."
   ]
  },
  {
   "cell_type": "code",
   "execution_count": 14,
   "id": "0ca14d67-ccb8-4e35-8d08-e92ea4d9b9d3",
   "metadata": {},
   "outputs": [
    {
     "data": {
      "text/plain": [
       "{'A':        c1_θ0  c1_θ1  c1_θ2\n",
       " c1_q0    1.0    0.0    0.0\n",
       " c1_q1   -1.0    1.0    0.0\n",
       " c1_q2    0.0   -1.0    1.0,\n",
       " 'G': c1_q0    165.789\n",
       " c1_q1    630.000\n",
       " c1_q2     72.000\n",
       " Name: G, dtype: float64,\n",
       " 'C': c1_θ0    1089000.0\n",
       " c1_θ1          0.0\n",
       " c1_θ2          0.0\n",
       " Name: C, dtype: float64,\n",
       " 'b': c1_q0    To\n",
       " c1_q1     0\n",
       " c1_q2     0\n",
       " Name: b, dtype: object,\n",
       " 'f': c1_θ0     Φa\n",
       " c1_θ1    0.0\n",
       " c1_θ2    0.0\n",
       " Name: f, dtype: object,\n",
       " 'y': c1_θ0    0\n",
       " c1_θ1    0\n",
       " c1_θ2    1\n",
       " Name: y, dtype: int64}"
      ]
     },
     "execution_count": 14,
     "metadata": {},
     "output_type": "execute_result"
    }
   ],
   "source": [
    "TCd['c1']"
   ]
  },
  {
   "cell_type": "markdown",
   "id": "a251fa1a-2ee7-4279-8d68-7401899ce449",
   "metadata": {},
   "source": [
    "The elements (A, G, C, b, f, y) of each circuit can be accessed separately."
   ]
  },
  {
   "cell_type": "code",
   "execution_count": 15,
   "id": "62bd8083-5b58-44da-baf2-143ab055606d",
   "metadata": {},
   "outputs": [
    {
     "data": {
      "text/html": [
       "<div>\n",
       "<style scoped>\n",
       "    .dataframe tbody tr th:only-of-type {\n",
       "        vertical-align: middle;\n",
       "    }\n",
       "\n",
       "    .dataframe tbody tr th {\n",
       "        vertical-align: top;\n",
       "    }\n",
       "\n",
       "    .dataframe thead th {\n",
       "        text-align: right;\n",
       "    }\n",
       "</style>\n",
       "<table border=\"1\" class=\"dataframe\">\n",
       "  <thead>\n",
       "    <tr style=\"text-align: right;\">\n",
       "      <th></th>\n",
       "      <th>c1_θ0</th>\n",
       "      <th>c1_θ1</th>\n",
       "      <th>c1_θ2</th>\n",
       "    </tr>\n",
       "  </thead>\n",
       "  <tbody>\n",
       "    <tr>\n",
       "      <th>c1_q0</th>\n",
       "      <td>1.0</td>\n",
       "      <td>0.0</td>\n",
       "      <td>0.0</td>\n",
       "    </tr>\n",
       "    <tr>\n",
       "      <th>c1_q1</th>\n",
       "      <td>-1.0</td>\n",
       "      <td>1.0</td>\n",
       "      <td>0.0</td>\n",
       "    </tr>\n",
       "    <tr>\n",
       "      <th>c1_q2</th>\n",
       "      <td>0.0</td>\n",
       "      <td>-1.0</td>\n",
       "      <td>1.0</td>\n",
       "    </tr>\n",
       "  </tbody>\n",
       "</table>\n",
       "</div>"
      ],
      "text/plain": [
       "       c1_θ0  c1_θ1  c1_θ2\n",
       "c1_q0    1.0    0.0    0.0\n",
       "c1_q1   -1.0    1.0    0.0\n",
       "c1_q2    0.0   -1.0    1.0"
      ]
     },
     "execution_count": 15,
     "metadata": {},
     "output_type": "execute_result"
    }
   ],
   "source": [
    "TCd['c1']['A']"
   ]
  },
  {
   "cell_type": "code",
   "execution_count": 16,
   "id": "caf77b94-2369-4f05-935d-3d364d3b778e",
   "metadata": {},
   "outputs": [
    {
     "data": {
      "text/plain": [
       "c1_q0    165.789\n",
       "c1_q1    630.000\n",
       "c1_q2     72.000\n",
       "Name: G, dtype: float64"
      ]
     },
     "execution_count": 16,
     "metadata": {},
     "output_type": "execute_result"
    }
   ],
   "source": [
    "TCd['c1']['G']"
   ]
  },
  {
   "cell_type": "markdown",
   "id": "77e2fe1e-a9ec-4b0f-b5ac-6b8e0dc94a85",
   "metadata": {},
   "source": [
    "All circuits contained in the data structure `TCd` can be printed (see Figures 1 and 2)."
   ]
  },
  {
   "cell_type": "code",
   "execution_count": 17,
   "id": "78adb339-3fbc-4d35-84a1-38fd6dacbbea",
   "metadata": {
    "tags": []
   },
   "outputs": [
    {
     "name": "stdout",
     "output_type": "stream",
     "text": [
      "Thermal circuit: ow0\n",
      "A:\n",
      "        ow0_θ0  ow0_θ1  ow0_θ2  ow0_θ3  ow0_θ4  ow0_θ5\n",
      "ow0_q0     1.0     0.0     0.0     0.0     0.0     0.0\n",
      "ow0_q1    -1.0     1.0     0.0     0.0     0.0     0.0\n",
      "ow0_q2     0.0    -1.0     1.0     0.0     0.0     0.0\n",
      "ow0_q3     0.0     0.0    -1.0     1.0     0.0     0.0\n",
      "ow0_q4     0.0     0.0     0.0    -1.0     1.0     0.0\n",
      "ow0_q5     0.0     0.0     0.0     0.0    -1.0     1.0 \n",
      "\n",
      "G:\n",
      "ow0_q0    1125.000\n",
      "ow0_q1     630.000\n",
      "ow0_q2     630.000\n",
      "ow0_q3      30.375\n",
      "ow0_q4      30.375\n",
      "ow0_q5     360.000\n",
      "dtype: float64 \n",
      "\n",
      "C:\n",
      "ow0_θ0           0.0\n",
      "ow0_θ1    18216000.0\n",
      "ow0_θ2           0.0\n",
      "ow0_θ3      239580.0\n",
      "ow0_θ4           0.0\n",
      "ow0_θ5           0.0\n",
      "dtype: float64 \n",
      "\n",
      "b:\n",
      "ow0_q0     To\n",
      "ow0_q1    0.0\n",
      "ow0_q2    0.0\n",
      "ow0_q3    0.0\n",
      "ow0_q4    0.0\n",
      "ow0_q5    0.0\n",
      "dtype: object \n",
      "\n",
      "f:\n",
      "ow0_θ0     Φo\n",
      "ow0_θ1    0.0\n",
      "ow0_θ2    0.0\n",
      "ow0_θ3    0.0\n",
      "ow0_θ4     Φi\n",
      "ow0_θ5    0.0\n",
      "dtype: object \n",
      "\n",
      "y:\n",
      "ow0_θ0    0.0\n",
      "ow0_θ1    0.0\n",
      "ow0_θ2    0.0\n",
      "ow0_θ3    0.0\n",
      "ow0_θ4    0.0\n",
      "ow0_θ5    1.0\n",
      "dtype: float64 \n",
      "\n",
      "Thermal circuit: c0\n",
      "A:\n",
      "       c0_θ0  c0_θ1\n",
      "c0_q0   -1.0    1.0 \n",
      "\n",
      "G:\n",
      "c0_q0    44.7868\n",
      "Name: G, dtype: float64 \n",
      "\n",
      "C:\n",
      "c0_θ0    0.0\n",
      "c0_θ1    0.0\n",
      "Name: C, dtype: float64 \n",
      "\n",
      "b:\n",
      "c0_q0    0.0\n",
      "Name: b, dtype: float64 \n",
      "\n",
      "f:\n",
      "c0_θ0    0.0\n",
      "c0_θ1    0.0\n",
      "Name: f, dtype: float64 \n",
      "\n",
      "y:\n",
      "c0_θ0    0\n",
      "c0_θ1    0\n",
      "Name: y, dtype: int64 \n",
      "\n",
      "Thermal circuit: c1\n",
      "A:\n",
      "       c1_θ0  c1_θ1  c1_θ2\n",
      "c1_q0    1.0    0.0    0.0\n",
      "c1_q1   -1.0    1.0    0.0\n",
      "c1_q2    0.0   -1.0    1.0 \n",
      "\n",
      "G:\n",
      "c1_q0    165.789\n",
      "c1_q1    630.000\n",
      "c1_q2     72.000\n",
      "Name: G, dtype: float64 \n",
      "\n",
      "C:\n",
      "c1_θ0    1089000.0\n",
      "c1_θ1          0.0\n",
      "c1_θ2          0.0\n",
      "Name: C, dtype: float64 \n",
      "\n",
      "b:\n",
      "c1_q0    To\n",
      "c1_q1     0\n",
      "c1_q2     0\n",
      "Name: b, dtype: object \n",
      "\n",
      "f:\n",
      "c1_θ0     Φa\n",
      "c1_θ1    0.0\n",
      "c1_θ2    0.0\n",
      "Name: f, dtype: object \n",
      "\n",
      "y:\n",
      "c1_θ0    0\n",
      "c1_θ1    0\n",
      "c1_θ2    1\n",
      "Name: y, dtype: int64 \n",
      "\n",
      "Thermal circuit: c2\n",
      "A:\n",
      "       c2_θ0\n",
      "c2_q0    1.0 \n",
      "\n",
      "G:\n",
      "c2_q0    9.0\n",
      "Name: G, dtype: float64 \n",
      "\n",
      "C:\n",
      "c2_θ0    32400.0\n",
      "Name: C, dtype: float64 \n",
      "\n",
      "b:\n",
      "c2_q0    To\n",
      "Name: b, dtype: object \n",
      "\n",
      "f:\n",
      "c2_θ0    Qa\n",
      "Name: f, dtype: object \n",
      "\n",
      "y:\n",
      "c2_θ0    1\n",
      "Name: y, dtype: int64 \n",
      "\n",
      "Thermal circuit: c3\n",
      "A:\n",
      "       c3_θ0\n",
      "c3_q0    1.0 \n",
      "\n",
      "G:\n",
      "c3_q0    0.0\n",
      "Name: G, dtype: float64 \n",
      "\n",
      "C:\n",
      "c3_θ0    0.0\n",
      "Name: C, dtype: float64 \n",
      "\n",
      "b:\n",
      "c3_q0    Ti_sp\n",
      "Name: b, dtype: object \n",
      "\n",
      "f:\n",
      "c3_θ0    0.0\n",
      "Name: f, dtype: object \n",
      "\n",
      "y:\n",
      "c3_θ0    0\n",
      "Name: y, dtype: int64 \n",
      "\n"
     ]
    }
   ],
   "source": [
    "for key in TCd.keys():\n",
    "    print('Thermal circuit:', key)\n",
    "    pd_dm4bem.print_TC(TCd[key])"
   ]
  },
  {
   "cell_type": "markdown",
   "id": "2004f3fe-c02d-4d8b-98e2-06e468211fd0",
   "metadata": {},
   "source": [
    "### Auto-numbering\n",
    "\n",
    "There are two types of files describing the thermal circuits:\n",
    "1. walls, described by the files `wall_types.csv` and `walls_.csv`.\n",
    "2. thermal circuits, described by the files `TC0.csv`, `TC1.csv`, etc.\n",
    "\n",
    "The walls are auto-numbered, i.e., the nodes and oriented branches are numbered automatically and named **θ0, θ1**, ... and **q0, q1**, ..., respectively, preceeded by the name of the wall, e.g., **ow0_**."
   ]
  },
  {
   "cell_type": "code",
   "execution_count": 18,
   "id": "70f981a0-1d02-409b-a919-286e937f4fd3",
   "metadata": {},
   "outputs": [
    {
     "data": {
      "text/html": [
       "<div>\n",
       "<style scoped>\n",
       "    .dataframe tbody tr th:only-of-type {\n",
       "        vertical-align: middle;\n",
       "    }\n",
       "\n",
       "    .dataframe tbody tr th {\n",
       "        vertical-align: top;\n",
       "    }\n",
       "\n",
       "    .dataframe thead th {\n",
       "        text-align: right;\n",
       "    }\n",
       "</style>\n",
       "<table border=\"1\" class=\"dataframe\">\n",
       "  <thead>\n",
       "    <tr style=\"text-align: right;\">\n",
       "      <th></th>\n",
       "      <th>ow0_θ0</th>\n",
       "      <th>ow0_θ1</th>\n",
       "      <th>ow0_θ2</th>\n",
       "      <th>ow0_θ3</th>\n",
       "      <th>ow0_θ4</th>\n",
       "      <th>ow0_θ5</th>\n",
       "    </tr>\n",
       "  </thead>\n",
       "  <tbody>\n",
       "    <tr>\n",
       "      <th>ow0_q0</th>\n",
       "      <td>1.0</td>\n",
       "      <td>0.0</td>\n",
       "      <td>0.0</td>\n",
       "      <td>0.0</td>\n",
       "      <td>0.0</td>\n",
       "      <td>0.0</td>\n",
       "    </tr>\n",
       "    <tr>\n",
       "      <th>ow0_q1</th>\n",
       "      <td>-1.0</td>\n",
       "      <td>1.0</td>\n",
       "      <td>0.0</td>\n",
       "      <td>0.0</td>\n",
       "      <td>0.0</td>\n",
       "      <td>0.0</td>\n",
       "    </tr>\n",
       "    <tr>\n",
       "      <th>ow0_q2</th>\n",
       "      <td>0.0</td>\n",
       "      <td>-1.0</td>\n",
       "      <td>1.0</td>\n",
       "      <td>0.0</td>\n",
       "      <td>0.0</td>\n",
       "      <td>0.0</td>\n",
       "    </tr>\n",
       "    <tr>\n",
       "      <th>ow0_q3</th>\n",
       "      <td>0.0</td>\n",
       "      <td>0.0</td>\n",
       "      <td>-1.0</td>\n",
       "      <td>1.0</td>\n",
       "      <td>0.0</td>\n",
       "      <td>0.0</td>\n",
       "    </tr>\n",
       "    <tr>\n",
       "      <th>ow0_q4</th>\n",
       "      <td>0.0</td>\n",
       "      <td>0.0</td>\n",
       "      <td>0.0</td>\n",
       "      <td>-1.0</td>\n",
       "      <td>1.0</td>\n",
       "      <td>0.0</td>\n",
       "    </tr>\n",
       "    <tr>\n",
       "      <th>ow0_q5</th>\n",
       "      <td>0.0</td>\n",
       "      <td>0.0</td>\n",
       "      <td>0.0</td>\n",
       "      <td>0.0</td>\n",
       "      <td>-1.0</td>\n",
       "      <td>1.0</td>\n",
       "    </tr>\n",
       "  </tbody>\n",
       "</table>\n",
       "</div>"
      ],
      "text/plain": [
       "        ow0_θ0  ow0_θ1  ow0_θ2  ow0_θ3  ow0_θ4  ow0_θ5\n",
       "ow0_q0     1.0     0.0     0.0     0.0     0.0     0.0\n",
       "ow0_q1    -1.0     1.0     0.0     0.0     0.0     0.0\n",
       "ow0_q2     0.0    -1.0     1.0     0.0     0.0     0.0\n",
       "ow0_q3     0.0     0.0    -1.0     1.0     0.0     0.0\n",
       "ow0_q4     0.0     0.0     0.0    -1.0     1.0     0.0\n",
       "ow0_q5     0.0     0.0     0.0     0.0    -1.0     1.0"
      ]
     },
     "execution_count": 18,
     "metadata": {},
     "output_type": "execute_result"
    }
   ],
   "source": [
    "TCd['ow0']['A']"
   ]
  },
  {
   "cell_type": "markdown",
   "id": "86f5c5bf-db5a-4c05-bff6-32c0358b291e",
   "metadata": {},
   "source": [
    "The thermal circuits can be autonumbered or they can keep the symbols given to the nodes and the branches in the `TC... .csv` files."
   ]
  },
  {
   "cell_type": "code",
   "execution_count": 19,
   "id": "c885aeea-7b3f-4b68-916a-fdbbec0e3dad",
   "metadata": {},
   "outputs": [
    {
     "name": "stdout",
     "output_type": "stream",
     "text": [
      "\n",
      "Disassembled thermal circuit with autonumbering\n"
     ]
    },
    {
     "data": {
      "text/html": [
       "<div>\n",
       "<style scoped>\n",
       "    .dataframe tbody tr th:only-of-type {\n",
       "        vertical-align: middle;\n",
       "    }\n",
       "\n",
       "    .dataframe tbody tr th {\n",
       "        vertical-align: top;\n",
       "    }\n",
       "\n",
       "    .dataframe thead th {\n",
       "        text-align: right;\n",
       "    }\n",
       "</style>\n",
       "<table border=\"1\" class=\"dataframe\">\n",
       "  <thead>\n",
       "    <tr style=\"text-align: right;\">\n",
       "      <th></th>\n",
       "      <th>c1_θ0</th>\n",
       "      <th>c1_θ1</th>\n",
       "      <th>c1_θ2</th>\n",
       "    </tr>\n",
       "  </thead>\n",
       "  <tbody>\n",
       "    <tr>\n",
       "      <th>c1_q0</th>\n",
       "      <td>1.0</td>\n",
       "      <td>0.0</td>\n",
       "      <td>0.0</td>\n",
       "    </tr>\n",
       "    <tr>\n",
       "      <th>c1_q1</th>\n",
       "      <td>-1.0</td>\n",
       "      <td>1.0</td>\n",
       "      <td>0.0</td>\n",
       "    </tr>\n",
       "    <tr>\n",
       "      <th>c1_q2</th>\n",
       "      <td>0.0</td>\n",
       "      <td>-1.0</td>\n",
       "      <td>1.0</td>\n",
       "    </tr>\n",
       "  </tbody>\n",
       "</table>\n",
       "</div>"
      ],
      "text/plain": [
       "       c1_θ0  c1_θ1  c1_θ2\n",
       "c1_q0    1.0    0.0    0.0\n",
       "c1_q1   -1.0    1.0    0.0\n",
       "c1_q2    0.0   -1.0    1.0"
      ]
     },
     "execution_count": 19,
     "metadata": {},
     "output_type": "execute_result"
    }
   ],
   "source": [
    "print('\\nDisassembled thermal circuit with autonumbering')\n",
    "TCd = pd_dm4bem.bldg2TCd(folder_path='bldg',\n",
    "                        TC_auto_number=True)\n",
    "TCd['c1']['A']"
   ]
  },
  {
   "cell_type": "code",
   "execution_count": 20,
   "id": "3bb2ad4e-83d0-41bd-b85e-0420f26389d5",
   "metadata": {},
   "outputs": [
    {
     "name": "stdout",
     "output_type": "stream",
     "text": [
      "\n",
      "Disassembled thermal circuit with symbols\n"
     ]
    },
    {
     "data": {
      "text/html": [
       "<div>\n",
       "<style scoped>\n",
       "    .dataframe tbody tr th:only-of-type {\n",
       "        vertical-align: middle;\n",
       "    }\n",
       "\n",
       "    .dataframe tbody tr th {\n",
       "        vertical-align: top;\n",
       "    }\n",
       "\n",
       "    .dataframe thead th {\n",
       "        text-align: right;\n",
       "    }\n",
       "</style>\n",
       "<table border=\"1\" class=\"dataframe\">\n",
       "  <thead>\n",
       "    <tr style=\"text-align: right;\">\n",
       "      <th></th>\n",
       "      <th>c1_θg</th>\n",
       "      <th>c1_θwi</th>\n",
       "      <th>c1_θai</th>\n",
       "    </tr>\n",
       "  </thead>\n",
       "  <tbody>\n",
       "    <tr>\n",
       "      <th>c1_qgo</th>\n",
       "      <td>1.0</td>\n",
       "      <td>0.0</td>\n",
       "      <td>0.0</td>\n",
       "    </tr>\n",
       "    <tr>\n",
       "      <th>c1_qgi</th>\n",
       "      <td>-1.0</td>\n",
       "      <td>1.0</td>\n",
       "      <td>0.0</td>\n",
       "    </tr>\n",
       "    <tr>\n",
       "      <th>c1_qai</th>\n",
       "      <td>0.0</td>\n",
       "      <td>-1.0</td>\n",
       "      <td>1.0</td>\n",
       "    </tr>\n",
       "  </tbody>\n",
       "</table>\n",
       "</div>"
      ],
      "text/plain": [
       "        c1_θg  c1_θwi  c1_θai\n",
       "c1_qgo    1.0     0.0     0.0\n",
       "c1_qgi   -1.0     1.0     0.0\n",
       "c1_qai    0.0    -1.0     1.0"
      ]
     },
     "execution_count": 20,
     "metadata": {},
     "output_type": "execute_result"
    }
   ],
   "source": [
    "print('\\nDisassembled thermal circuit with symbols')\n",
    "TCd = pd_dm4bem.bldg2TCd(folder_path='bldg',\n",
    "                        TC_auto_number=False)\n",
    "TCd['c1']['A']"
   ]
  },
  {
   "cell_type": "code",
   "execution_count": null,
   "id": "e96ccf6c-2641-43cb-a4e8-0701a29be5ed",
   "metadata": {},
   "outputs": [],
   "source": []
  }
 ],
 "metadata": {
  "kernelspec": {
   "display_name": "Python 3 (ipykernel)",
   "language": "python",
   "name": "python3"
  },
  "language_info": {
   "codemirror_mode": {
    "name": "ipython",
    "version": 3
   },
   "file_extension": ".py",
   "mimetype": "text/x-python",
   "name": "python",
   "nbconvert_exporter": "python",
   "pygments_lexer": "ipython3",
   "version": "3.9.7"
  },
  "toc-autonumbering": true
 },
 "nbformat": 4,
 "nbformat_minor": 5
}
