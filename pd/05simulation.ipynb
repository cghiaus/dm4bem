{
 "cells": [
  {
   "cell_type": "markdown",
   "id": "c2edd2df-8144-4d8c-8ff5-816b6b5ace01",
   "metadata": {
    "tags": []
   },
   "source": [
    "# Inputs preparation and simulation\n",
    "\n",
    "This notebook shw a complete example of simulation for the toy model of the building. It covers:\n",
    "\n",
    "- obtaining the state-space representation from files describing the walls and the thermal circuits;\n",
    "- estimate the time step and setling time from eigenvalue analysis of the state matrix;\n",
    "- time integration by using Euler explicit and implicit methods."
   ]
  },
  {
   "cell_type": "code",
   "execution_count": 1,
   "id": "2e98a935-1ae9-43b3-ae9c-fd0ebd8a8b94",
   "metadata": {},
   "outputs": [],
   "source": [
    "import numpy as np\n",
    "import pandas as pd\n",
    "import pd_dm4bem"
   ]
  },
  {
   "cell_type": "markdown",
   "id": "ca4b9d26-f049-4fb9-9677-0a38f273a8f4",
   "metadata": {},
   "source": [
    "## Assembling and converting the thermal circuits to state-space\n",
    "Consider the disassembled thermal circuits shown in Figure 1 that we want to assemble as shown in Figure 2 and then obtain the state-space representation.\n",
    "\n",
    "![disassambled_TC](./bldg/ass_TCd.svg)\n",
    "> Figure 1. Four disassembled thermal circuits: wall_out, TC0, TC1, TC2, TC3.\n",
    "\n",
    "![disassambled_TC](./bldg/ass_TC.svg)\n",
    "> Figure 2. The assembling of the four circuits from Figure 1.\n",
    "\n",
    "The steps to obtain a state-space model from thermal circuits described in a folder are:\n",
    "1. Obtain the disassambled set of thermal circuits from data given in a folder.\n",
    "2. Assemble the set of thermal circuits.\n",
    "3. Transform the thermal circuit into state-space representation."
   ]
  },
  {
   "cell_type": "code",
   "execution_count": 2,
   "id": "c14c351d-26a7-427f-ada1-3c9c005c98e1",
   "metadata": {},
   "outputs": [],
   "source": [
    "# Obtain state-space representation\n",
    "# =================================\n",
    "# Disassembled thermal circuits\n",
    "folder_path = \"bldg\"\n",
    "TCd = pd_dm4bem.bldg2TCd(folder_path,\n",
    "                         TC_auto_number=True)\n",
    "\n",
    "# Assembled thermal circuit using assembly_lists.csv'\n",
    "ass_lists = pd.read_csv(folder_path + '/assembly_lists.csv')\n",
    "ass_matrix = pd_dm4bem.assemble_lists2matrix(ass_lists)\n",
    "TC = pd_dm4bem.assemble_TCd_matrix(TCd, ass_matrix)\n",
    "\n",
    "# State-space\n",
    "[As, Bs, Cs, Ds, us] = pd_dm4bem.tc2ss(TC)"
   ]
  },
  {
   "cell_type": "markdown",
   "id": "b432e1de-b9a7-49c7-8292-2a28421e0547",
   "metadata": {},
   "source": [
    "## Eigenvalues, time step and duration\n",
    "\n",
    "The state-space representation allows us to do the eigenvalues analysis and to find:\n",
    "\n",
    "- maximum time step: $\\Delta t_{max} = 2 \\mathrm{min} (-1 / \\lambda)$, where $\\lambda$ is the vector of eigenvalues of the state matrix As;\n",
    "- minimum settling time: $t_{settle} = 4 \\mathrm{max} (-1 / \\lambda$). "
   ]
  },
  {
   "cell_type": "code",
   "execution_count": 3,
   "id": "945f3c38-b2ad-4a1a-bbbc-27b68eec2550",
   "metadata": {
    "tags": []
   },
   "outputs": [
    {
     "name": "stdout",
     "output_type": "stream",
     "text": [
      "Time constants:\n",
      "['249.30 s', '4093.21 s', '6729.13 s', '44033.06 s']\n",
      "\n",
      "Maximum time step: 498.60 s = 8.31 min\n",
      "Minimum settling time: 176132 s = 2935.5 min = 48.93 h = 2.04 days\n",
      "Time step Δt = 480.0 s = 8 min\n",
      "Duration: 176400 s = 2940.0 min = 49.00 h = 2.04 days\n"
     ]
    }
   ],
   "source": [
    "# Eigenvalue analysis\n",
    "λ = np.linalg.eig(As)[0]    # eigenvalues of matrix As\n",
    "λ = np.sort(λ)\n",
    "\n",
    "print('Time constants:')\n",
    "print([f'{T:.2f} s' for T in -1 / λ])\n",
    "\n",
    "dt_max = 2 * min(-1. / λ)\n",
    "print(f'\\nMaximum time step: {dt_max:.2f} s = {dt_max / 60:.2f} min')\n",
    "\n",
    "t_settle = 4 * max(-1. / λ)\n",
    "print(f'Minimum settling time: \\\n",
    "{t_settle:.0f} s = \\\n",
    "{t_settle / 60:.1f} min = \\\n",
    "{t_settle / 3600:.2f} h = \\\n",
    "{t_settle / (3600 * 24):.2f} days')\n",
    "\n",
    "# time step\n",
    "dt = np.floor(dt_max / 60) * 60   # s\n",
    "print(f'Time step Δt = {dt} s = {dt / 60:.0f} min')\n",
    "\n",
    "# duration: next multiple of 3600 s that is larger than t_settle\n",
    "duration = np.ceil(t_settle / 3600) * 3600\n",
    "print(f'Duration: \\\n",
    "{duration:.0f} s = \\\n",
    "{duration / 60:.1f} min = \\\n",
    "{duration / 3600:.2f} h = \\\n",
    "{duration / (3600 * 24):.2f} days')"
   ]
  },
  {
   "cell_type": "markdown",
   "id": "8b8687e7-41a5-4b22-950e-e9b643cfee22",
   "metadata": {
    "tags": []
   },
   "source": [
    "## Create input data set for step response\n",
    "\n",
    "The [step response](https://en.m.wikipedia.org/wiki/Step_response) consists of the time response of the system when one or more inputs change instantaneously at time $t = 0$. The inputs of the system are the temperature ($T_o$, $T_{i,sp}$) and flow-rate sources ($\\dot{Q}_a$, $\\Phi_o$, $\\Phi_i$, $\\Phi_a$).\n",
    "\n",
    "The input vector in time, $u$, is a DataFrame having as index the time (note that the year is __2000__ by convention) and as columns the values of the inputs arranged in the order given by the vector us (from the state-space representation). The transformation from inputs data set to the input vector is dne by the function `inputs_in_time()`."
   ]
  },
  {
   "cell_type": "code",
   "execution_count": 4,
   "id": "66d3bf52-ed99-4410-8709-e04915e10f9c",
   "metadata": {},
   "outputs": [
    {
     "data": {
      "text/html": [
       "<div>\n",
       "<style scoped>\n",
       "    .dataframe tbody tr th:only-of-type {\n",
       "        vertical-align: middle;\n",
       "    }\n",
       "\n",
       "    .dataframe tbody tr th {\n",
       "        vertical-align: top;\n",
       "    }\n",
       "\n",
       "    .dataframe thead th {\n",
       "        text-align: right;\n",
       "    }\n",
       "</style>\n",
       "<table border=\"1\" class=\"dataframe\">\n",
       "  <thead>\n",
       "    <tr style=\"text-align: right;\">\n",
       "      <th></th>\n",
       "      <th>c1_q0</th>\n",
       "      <th>c2_q0</th>\n",
       "      <th>c3_q0</th>\n",
       "      <th>ow0_q0</th>\n",
       "      <th>c1_θ0</th>\n",
       "      <th>c2_θ0</th>\n",
       "      <th>ow0_θ0</th>\n",
       "      <th>ow0_θ4</th>\n",
       "    </tr>\n",
       "  </thead>\n",
       "  <tbody>\n",
       "    <tr>\n",
       "      <th>2000-01-01 00:00:00</th>\n",
       "      <td>10.0</td>\n",
       "      <td>10.0</td>\n",
       "      <td>20.0</td>\n",
       "      <td>10.0</td>\n",
       "      <td>0.0</td>\n",
       "      <td>0.0</td>\n",
       "      <td>0.0</td>\n",
       "      <td>0.0</td>\n",
       "    </tr>\n",
       "    <tr>\n",
       "      <th>2000-01-01 00:08:00</th>\n",
       "      <td>10.0</td>\n",
       "      <td>10.0</td>\n",
       "      <td>20.0</td>\n",
       "      <td>10.0</td>\n",
       "      <td>0.0</td>\n",
       "      <td>0.0</td>\n",
       "      <td>0.0</td>\n",
       "      <td>0.0</td>\n",
       "    </tr>\n",
       "    <tr>\n",
       "      <th>2000-01-01 00:16:00</th>\n",
       "      <td>10.0</td>\n",
       "      <td>10.0</td>\n",
       "      <td>20.0</td>\n",
       "      <td>10.0</td>\n",
       "      <td>0.0</td>\n",
       "      <td>0.0</td>\n",
       "      <td>0.0</td>\n",
       "      <td>0.0</td>\n",
       "    </tr>\n",
       "    <tr>\n",
       "      <th>2000-01-01 00:24:00</th>\n",
       "      <td>10.0</td>\n",
       "      <td>10.0</td>\n",
       "      <td>20.0</td>\n",
       "      <td>10.0</td>\n",
       "      <td>0.0</td>\n",
       "      <td>0.0</td>\n",
       "      <td>0.0</td>\n",
       "      <td>0.0</td>\n",
       "    </tr>\n",
       "    <tr>\n",
       "      <th>2000-01-01 00:32:00</th>\n",
       "      <td>10.0</td>\n",
       "      <td>10.0</td>\n",
       "      <td>20.0</td>\n",
       "      <td>10.0</td>\n",
       "      <td>0.0</td>\n",
       "      <td>0.0</td>\n",
       "      <td>0.0</td>\n",
       "      <td>0.0</td>\n",
       "    </tr>\n",
       "    <tr>\n",
       "      <th>...</th>\n",
       "      <td>...</td>\n",
       "      <td>...</td>\n",
       "      <td>...</td>\n",
       "      <td>...</td>\n",
       "      <td>...</td>\n",
       "      <td>...</td>\n",
       "      <td>...</td>\n",
       "      <td>...</td>\n",
       "    </tr>\n",
       "    <tr>\n",
       "      <th>2000-01-03 00:16:00</th>\n",
       "      <td>10.0</td>\n",
       "      <td>10.0</td>\n",
       "      <td>20.0</td>\n",
       "      <td>10.0</td>\n",
       "      <td>0.0</td>\n",
       "      <td>0.0</td>\n",
       "      <td>0.0</td>\n",
       "      <td>0.0</td>\n",
       "    </tr>\n",
       "    <tr>\n",
       "      <th>2000-01-03 00:24:00</th>\n",
       "      <td>10.0</td>\n",
       "      <td>10.0</td>\n",
       "      <td>20.0</td>\n",
       "      <td>10.0</td>\n",
       "      <td>0.0</td>\n",
       "      <td>0.0</td>\n",
       "      <td>0.0</td>\n",
       "      <td>0.0</td>\n",
       "    </tr>\n",
       "    <tr>\n",
       "      <th>2000-01-03 00:32:00</th>\n",
       "      <td>10.0</td>\n",
       "      <td>10.0</td>\n",
       "      <td>20.0</td>\n",
       "      <td>10.0</td>\n",
       "      <td>0.0</td>\n",
       "      <td>0.0</td>\n",
       "      <td>0.0</td>\n",
       "      <td>0.0</td>\n",
       "    </tr>\n",
       "    <tr>\n",
       "      <th>2000-01-03 00:40:00</th>\n",
       "      <td>10.0</td>\n",
       "      <td>10.0</td>\n",
       "      <td>20.0</td>\n",
       "      <td>10.0</td>\n",
       "      <td>0.0</td>\n",
       "      <td>0.0</td>\n",
       "      <td>0.0</td>\n",
       "      <td>0.0</td>\n",
       "    </tr>\n",
       "    <tr>\n",
       "      <th>2000-01-03 00:48:00</th>\n",
       "      <td>10.0</td>\n",
       "      <td>10.0</td>\n",
       "      <td>20.0</td>\n",
       "      <td>10.0</td>\n",
       "      <td>0.0</td>\n",
       "      <td>0.0</td>\n",
       "      <td>0.0</td>\n",
       "      <td>0.0</td>\n",
       "    </tr>\n",
       "  </tbody>\n",
       "</table>\n",
       "<p>367 rows × 8 columns</p>\n",
       "</div>"
      ],
      "text/plain": [
       "                     c1_q0  c2_q0  c3_q0  ow0_q0  c1_θ0  c2_θ0  ow0_θ0  ow0_θ4\n",
       "2000-01-01 00:00:00   10.0   10.0   20.0    10.0    0.0    0.0     0.0     0.0\n",
       "2000-01-01 00:08:00   10.0   10.0   20.0    10.0    0.0    0.0     0.0     0.0\n",
       "2000-01-01 00:16:00   10.0   10.0   20.0    10.0    0.0    0.0     0.0     0.0\n",
       "2000-01-01 00:24:00   10.0   10.0   20.0    10.0    0.0    0.0     0.0     0.0\n",
       "2000-01-01 00:32:00   10.0   10.0   20.0    10.0    0.0    0.0     0.0     0.0\n",
       "...                    ...    ...    ...     ...    ...    ...     ...     ...\n",
       "2000-01-03 00:16:00   10.0   10.0   20.0    10.0    0.0    0.0     0.0     0.0\n",
       "2000-01-03 00:24:00   10.0   10.0   20.0    10.0    0.0    0.0     0.0     0.0\n",
       "2000-01-03 00:32:00   10.0   10.0   20.0    10.0    0.0    0.0     0.0     0.0\n",
       "2000-01-03 00:40:00   10.0   10.0   20.0    10.0    0.0    0.0     0.0     0.0\n",
       "2000-01-03 00:48:00   10.0   10.0   20.0    10.0    0.0    0.0     0.0     0.0\n",
       "\n",
       "[367 rows x 8 columns]"
      ]
     },
     "execution_count": 4,
     "metadata": {},
     "output_type": "execute_result"
    }
   ],
   "source": [
    "# Create input_data_set\n",
    "# ---------------------\n",
    "# time vector\n",
    "n = int(np.floor(duration / dt))    # number of time steps\n",
    "\n",
    "# Create a DateTimeIndex starting at \"00:00:00\" with a time step of dt\n",
    "time = pd.date_range(start=\"2000-01-01 00:00:00\",\n",
    "                           periods=n, freq=f\"{int(dt)}S\")\n",
    "\n",
    "To = 10 * np.ones(n)\n",
    "Ti_sp = 20 * np.ones(n)\n",
    "Φa = 0 * np.ones(n)\n",
    "Qa = Φo = Φi = Φa\n",
    "\n",
    "data = {'To': To, 'Ti_sp': Ti_sp, 'Qa': Qa, 'Φo': Φo, 'Φi': Φi, 'Φa': Φa}\n",
    "input_data_set = pd.DataFrame(data, index=time)\n",
    "\n",
    "# Get input from input_data_set\n",
    "u = pd_dm4bem.inputs_in_time(us, input_data_set)\n",
    "u"
   ]
  },
  {
   "cell_type": "markdown",
   "id": "d4f972f0-57f1-44e9-919a-c2e2927ff9ab",
   "metadata": {},
   "source": [
    "## Simulation"
   ]
  },
  {
   "cell_type": "markdown",
   "id": "f0ecb60f-c5dd-4969-aa60-08342e247765",
   "metadata": {},
   "source": [
    "### Step response"
   ]
  },
  {
   "cell_type": "markdown",
   "id": "e1f8054e-2f1f-40e2-8fc8-0cd474dcdcb5",
   "metadata": {},
   "source": [
    "#### Initial conditions"
   ]
  },
  {
   "cell_type": "code",
   "execution_count": 5,
   "id": "c144c7f9-d8ff-4cb4-ab88-31f968c9b85b",
   "metadata": {},
   "outputs": [],
   "source": [
    "# Initial conditions\n",
    "θ0 = 0                      # initial temperatures\n",
    "θ_exp = pd.DataFrame(index=u.index)\n",
    "θ_exp[As.columns] = θ0      # Fill θ with initial valeus θ0\n",
    "θ_imp = θ_exp"
   ]
  },
  {
   "cell_type": "markdown",
   "id": "3d311895-ab92-497a-b1dc-db71d2d7a5f6",
   "metadata": {
    "tags": []
   },
   "source": [
    "#### Time integration\n",
    "\n",
    "The formula for [Euler](https://en.m.wikipedia.org/wiki/Euler_method)  integration is:\n",
    "\n",
    "$$ \\theta_{k+1} = (I + \\Delta t A_s) \\theta _k + \\Delta t B_s u_k $$\n",
    "\n",
    "for forward (or explicit) and:\n",
    "\n",
    "$$\\theta_{k+1} = (I - \\Delta t A_s)^{-1} ( \\theta _k + \\Delta t B_s u_k )$$\n",
    "\n",
    "for backward (or implicit) integration."
   ]
  },
  {
   "cell_type": "code",
   "execution_count": 6,
   "id": "a5664eb3-207f-4c1c-bca8-a9f2f7ccd80f",
   "metadata": {},
   "outputs": [],
   "source": [
    "I = np.eye(As.shape[0])     # identity matrix\n",
    "\n",
    "for k in range(n - 1):\n",
    "    θ_exp.iloc[k + 1] = (I + dt * As)\\\n",
    "        @ θ_exp.iloc[k] + dt * Bs @ u.iloc[k]\n",
    "    θ_imp.iloc[k + 1] = np.linalg.inv(I - dt * As)\\\n",
    "        @ (θ_imp.iloc[k] + dt * Bs @ u.iloc[k])"
   ]
  },
  {
   "cell_type": "markdown",
   "id": "c364336a-6701-4aa2-bb48-d29c53170ec8",
   "metadata": {},
   "source": [
    "#### Output values\n",
    "\n",
    "Once the state variables, i.e. the temperatures in nodes that have capacities $\\theta_C$, are found, the temperatures in the other nodes are:\n",
    "\n",
    "$$y = C_s \\theta + D_s u$$."
   ]
  },
  {
   "cell_type": "code",
   "execution_count": 7,
   "id": "f494b136-76c0-4170-9c0e-7ef2350b26c5",
   "metadata": {},
   "outputs": [],
   "source": [
    "# outputs\n",
    "y_exp = (Cs @ θ_exp.T + Ds @  u.T).T\n",
    "y_imp = (Cs @ θ_imp.T + Ds @  u.T).T"
   ]
  },
  {
   "cell_type": "markdown",
   "id": "797385e7-f264-4172-b9d4-beeee135107e",
   "metadata": {},
   "source": [
    "#### Results plot"
   ]
  },
  {
   "cell_type": "code",
   "execution_count": 8,
   "id": "0c820353-6190-4e89-9b7e-fe068d0ce162",
   "metadata": {},
   "outputs": [
    {
     "data": {
      "image/png": "[encoded data removed]",
      "text/plain": [
       "<Figure size 432x288 with 1 Axes>"
      ]
     },
     "metadata": {
      "needs_background": "light"
     },
     "output_type": "display_data"
    }
   ],
   "source": [
    "y = pd.concat([y_exp, y_imp], axis=1, keys=['Explicit', 'Implicit'])\n",
    "# Flatten the two-level column labels into a single level\n",
    "y.columns = y.columns.get_level_values(0)\n",
    "y.plot();"
   ]
  }
 ],
 "metadata": {
  "kernelspec": {
   "display_name": "Python 3 (ipykernel)",
   "language": "python",
   "name": "python3"
  },
  "language_info": {
   "codemirror_mode": {
    "name": "ipython",
    "version": 3
   },
   "file_extension": ".py",
   "mimetype": "text/x-python",
   "name": "python",
   "nbconvert_exporter": "python",
   "pygments_lexer": "ipython3",
   "version": "3.9.7"
  },
  "toc-autonumbering": true
 },
 "nbformat": 4,
 "nbformat_minor": 5
}
