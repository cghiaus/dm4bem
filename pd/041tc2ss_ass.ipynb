{
 "cells": [
  {
   "cell_type": "markdown",
   "id": "7e17b4f8-2664-4e3a-a2b2-c36ddc94909a",
   "metadata": {},
   "source": [
    "# Transformation from thermal circuit (obtained by assembling) to state-space\n",
    "\n",
    "Consider the disassembled thermal circuits shown in Figure 1 that we want to assemble as shown in Figure 2 and then obtain the state-space representation.\n",
    "\n",
    "![disassambled_TC](./bldg/ass_TCd.svg)\n",
    "> Figure 1. Four disassembled thermal circuits: wall_out, TC0, TC1, TC2, TC3.\n",
    "\n",
    "![disassambled_TC](./bldg/ass_TC.svg)\n",
    "> Figure 2. The assembling of the four circuits from Figure 1."
   ]
  },
  {
   "cell_type": "code",
   "execution_count": 1,
   "id": "e3ecb366-bfbf-4077-bada-3c8defa90f0e",
   "metadata": {},
   "outputs": [],
   "source": [
    "import pandas as pd\n",
    "import pd_dm4bem\n",
    "\n",
    "# Disassembled thermal circuits\n",
    "folder_path = \"bldg\"\n",
    "TCd = pd_dm4bem.bldg2TCd(folder_path,\n",
    "                         TC_auto_number=True)\n",
    "# For non auto-numbering of thermal circuits TC\n",
    "# TCd = pd_dm4bem.bldg2TCd(folder_path, TC_auto_number=False)\n",
    "\n",
    "# Assembled thermal circuit\n",
    "# from assembly_matrix.csv')\n",
    "ass_mat = pd.read_csv(folder_path + '/assembly_matrix.csv')\n",
    "TCm = pd_dm4bem.assemble_TCd_matrix(TCd, ass_mat)\n",
    "\n",
    "# from assembly_lists.csv'\n",
    "ass_lists = pd.read_csv(folder_path + '/assembly_lists.csv')\n",
    "ass_mat = pd_dm4bem.assemble_lists2matrix(ass_lists)\n",
    "TCl = pd_dm4bem.assemble_TCd_matrix(TCd, ass_mat)\n",
    "\n",
    "# State-space from TC\n",
    "[As, Bs, Cs, Ds, us] = pd_dm4bem.tc2ss(TCl)\n"
   ]
  },
  {
   "cell_type": "code",
   "execution_count": 2,
   "id": "cfafee92-73c6-49d7-ad30-795bdc3bfd17",
   "metadata": {},
   "outputs": [
    {
     "data": {
      "text/html": [
       "<div>\n",
       "<style scoped>\n",
       "    .dataframe tbody tr th:only-of-type {\n",
       "        vertical-align: middle;\n",
       "    }\n",
       "\n",
       "    .dataframe tbody tr th {\n",
       "        vertical-align: top;\n",
       "    }\n",
       "\n",
       "    .dataframe thead th {\n",
       "        text-align: right;\n",
       "    }\n",
       "</style>\n",
       "<table border=\"1\" class=\"dataframe\">\n",
       "  <thead>\n",
       "    <tr style=\"text-align: right;\">\n",
       "      <th></th>\n",
       "      <th>c1_θ0</th>\n",
       "      <th>c2_θ0</th>\n",
       "      <th>ow0_θ1</th>\n",
       "      <th>ow0_θ3</th>\n",
       "    </tr>\n",
       "  </thead>\n",
       "  <tbody>\n",
       "    <tr>\n",
       "      <th>c1_θ0</th>\n",
       "      <td>-0.000240</td>\n",
       "      <td>0.000085</td>\n",
       "      <td>0.000000</td>\n",
       "      <td>0.000002</td>\n",
       "    </tr>\n",
       "    <tr>\n",
       "      <th>c2_θ0</th>\n",
       "      <td>0.002857</td>\n",
       "      <td>-30.868122</td>\n",
       "      <td>0.000000</td>\n",
       "      <td>0.000790</td>\n",
       "    </tr>\n",
       "    <tr>\n",
       "      <th>ow0_θ1</th>\n",
       "      <td>0.000000</td>\n",
       "      <td>0.000000</td>\n",
       "      <td>-0.000024</td>\n",
       "      <td>0.000002</td>\n",
       "    </tr>\n",
       "    <tr>\n",
       "      <th>ow0_θ3</th>\n",
       "      <td>0.000011</td>\n",
       "      <td>0.000107</td>\n",
       "      <td>0.000121</td>\n",
       "      <td>-0.000239</td>\n",
       "    </tr>\n",
       "  </tbody>\n",
       "</table>\n",
       "</div>"
      ],
      "text/plain": [
       "           c1_θ0      c2_θ0    ow0_θ1    ow0_θ3\n",
       "c1_θ0  -0.000240   0.000085  0.000000  0.000002\n",
       "c2_θ0   0.002857 -30.868122  0.000000  0.000790\n",
       "ow0_θ1  0.000000   0.000000 -0.000024  0.000002\n",
       "ow0_θ3  0.000011   0.000107  0.000121 -0.000239"
      ]
     },
     "execution_count": 2,
     "metadata": {},
     "output_type": "execute_result"
    }
   ],
   "source": [
    "As"
   ]
  },
  {
   "cell_type": "code",
   "execution_count": 3,
   "id": "d9bda09a-62df-4344-a508-571068f239ea",
   "metadata": {},
   "outputs": [
    {
     "data": {
      "text/html": [
       "<div>\n",
       "<style scoped>\n",
       "    .dataframe tbody tr th:only-of-type {\n",
       "        vertical-align: middle;\n",
       "    }\n",
       "\n",
       "    .dataframe tbody tr th {\n",
       "        vertical-align: top;\n",
       "    }\n",
       "\n",
       "    .dataframe thead th {\n",
       "        text-align: right;\n",
       "    }\n",
       "</style>\n",
       "<table border=\"1\" class=\"dataframe\">\n",
       "  <thead>\n",
       "    <tr style=\"text-align: right;\">\n",
       "      <th></th>\n",
       "      <th>c1_q0</th>\n",
       "      <th>c2_q0</th>\n",
       "      <th>c3_q0</th>\n",
       "      <th>ow0_q0</th>\n",
       "      <th>c1_θ0</th>\n",
       "      <th>c2_θ0</th>\n",
       "      <th>ow0_θ0</th>\n",
       "      <th>ow0_θ4</th>\n",
       "    </tr>\n",
       "  </thead>\n",
       "  <tbody>\n",
       "    <tr>\n",
       "      <th>c1_θ0</th>\n",
       "      <td>0.000152</td>\n",
       "      <td>0.000000</td>\n",
       "      <td>0.000000</td>\n",
       "      <td>0.000000</td>\n",
       "      <td>9.182736e-07</td>\n",
       "      <td>0.000000</td>\n",
       "      <td>0.000000e+00</td>\n",
       "      <td>8.022399e-08</td>\n",
       "    </tr>\n",
       "    <tr>\n",
       "      <th>c2_θ0</th>\n",
       "      <td>0.000000</td>\n",
       "      <td>0.000278</td>\n",
       "      <td>30.864198</td>\n",
       "      <td>0.000000</td>\n",
       "      <td>0.000000e+00</td>\n",
       "      <td>0.000031</td>\n",
       "      <td>0.000000e+00</td>\n",
       "      <td>2.600003e-05</td>\n",
       "    </tr>\n",
       "    <tr>\n",
       "      <th>ow0_θ1</th>\n",
       "      <td>0.000000</td>\n",
       "      <td>0.000000</td>\n",
       "      <td>0.000000</td>\n",
       "      <td>0.000022</td>\n",
       "      <td>0.000000e+00</td>\n",
       "      <td>0.000000</td>\n",
       "      <td>1.970654e-08</td>\n",
       "      <td>0.000000e+00</td>\n",
       "    </tr>\n",
       "    <tr>\n",
       "      <th>ow0_θ3</th>\n",
       "      <td>0.000000</td>\n",
       "      <td>0.000000</td>\n",
       "      <td>0.000000</td>\n",
       "      <td>0.000000</td>\n",
       "      <td>0.000000e+00</td>\n",
       "      <td>0.000000</td>\n",
       "      <td>0.000000e+00</td>\n",
       "      <td>2.931595e-07</td>\n",
       "    </tr>\n",
       "  </tbody>\n",
       "</table>\n",
       "</div>"
      ],
      "text/plain": [
       "           c1_q0     c2_q0      c3_q0    ow0_q0         c1_θ0     c2_θ0  \\\n",
       "c1_θ0   0.000152  0.000000   0.000000  0.000000  9.182736e-07  0.000000   \n",
       "c2_θ0   0.000000  0.000278  30.864198  0.000000  0.000000e+00  0.000031   \n",
       "ow0_θ1  0.000000  0.000000   0.000000  0.000022  0.000000e+00  0.000000   \n",
       "ow0_θ3  0.000000  0.000000   0.000000  0.000000  0.000000e+00  0.000000   \n",
       "\n",
       "              ow0_θ0        ow0_θ4  \n",
       "c1_θ0   0.000000e+00  8.022399e-08  \n",
       "c2_θ0   0.000000e+00  2.600003e-05  \n",
       "ow0_θ1  1.970654e-08  0.000000e+00  \n",
       "ow0_θ3  0.000000e+00  2.931595e-07  "
      ]
     },
     "execution_count": 3,
     "metadata": {},
     "output_type": "execute_result"
    }
   ],
   "source": [
    "Bs"
   ]
  },
  {
   "cell_type": "code",
   "execution_count": 4,
   "id": "7341354f-44d3-4b95-af47-71965e829d08",
   "metadata": {},
   "outputs": [
    {
     "data": {
      "text/html": [
       "<div>\n",
       "<style scoped>\n",
       "    .dataframe tbody tr th:only-of-type {\n",
       "        vertical-align: middle;\n",
       "    }\n",
       "\n",
       "    .dataframe tbody tr th {\n",
       "        vertical-align: top;\n",
       "    }\n",
       "\n",
       "    .dataframe thead th {\n",
       "        text-align: right;\n",
       "    }\n",
       "</style>\n",
       "<table border=\"1\" class=\"dataframe\">\n",
       "  <thead>\n",
       "    <tr style=\"text-align: right;\">\n",
       "      <th></th>\n",
       "      <th>c1_θ0</th>\n",
       "      <th>c2_θ0</th>\n",
       "      <th>ow0_θ1</th>\n",
       "      <th>ow0_θ3</th>\n",
       "    </tr>\n",
       "  </thead>\n",
       "  <tbody>\n",
       "    <tr>\n",
       "      <th>c2_θ0</th>\n",
       "      <td>0.0</td>\n",
       "      <td>1.0</td>\n",
       "      <td>0.000000</td>\n",
       "      <td>0.0</td>\n",
       "    </tr>\n",
       "    <tr>\n",
       "      <th>ow0_θ0</th>\n",
       "      <td>0.0</td>\n",
       "      <td>0.0</td>\n",
       "      <td>0.358974</td>\n",
       "      <td>0.0</td>\n",
       "    </tr>\n",
       "  </tbody>\n",
       "</table>\n",
       "</div>"
      ],
      "text/plain": [
       "        c1_θ0  c2_θ0    ow0_θ1  ow0_θ3\n",
       "c2_θ0     0.0    1.0  0.000000     0.0\n",
       "ow0_θ0    0.0    0.0  0.358974     0.0"
      ]
     },
     "execution_count": 4,
     "metadata": {},
     "output_type": "execute_result"
    }
   ],
   "source": [
    "Cs"
   ]
  },
  {
   "cell_type": "code",
   "execution_count": 5,
   "id": "3c26b78b-0799-470b-bfb2-8024aea59a78",
   "metadata": {},
   "outputs": [
    {
     "data": {
      "text/html": [
       "<div>\n",
       "<style scoped>\n",
       "    .dataframe tbody tr th:only-of-type {\n",
       "        vertical-align: middle;\n",
       "    }\n",
       "\n",
       "    .dataframe tbody tr th {\n",
       "        vertical-align: top;\n",
       "    }\n",
       "\n",
       "    .dataframe thead th {\n",
       "        text-align: right;\n",
       "    }\n",
       "</style>\n",
       "<table border=\"1\" class=\"dataframe\">\n",
       "  <thead>\n",
       "    <tr style=\"text-align: right;\">\n",
       "      <th></th>\n",
       "      <th>c1_q0</th>\n",
       "      <th>c2_q0</th>\n",
       "      <th>c3_q0</th>\n",
       "      <th>ow0_q0</th>\n",
       "      <th>c1_θ0</th>\n",
       "      <th>c2_θ0</th>\n",
       "      <th>ow0_θ0</th>\n",
       "      <th>ow0_θ4</th>\n",
       "    </tr>\n",
       "  </thead>\n",
       "  <tbody>\n",
       "    <tr>\n",
       "      <th>c2_θ0</th>\n",
       "      <td>0.0</td>\n",
       "      <td>0.0</td>\n",
       "      <td>0.0</td>\n",
       "      <td>0.000000</td>\n",
       "      <td>0.0</td>\n",
       "      <td>0.0</td>\n",
       "      <td>0.00000</td>\n",
       "      <td>0.0</td>\n",
       "    </tr>\n",
       "    <tr>\n",
       "      <th>ow0_θ0</th>\n",
       "      <td>0.0</td>\n",
       "      <td>0.0</td>\n",
       "      <td>0.0</td>\n",
       "      <td>0.641026</td>\n",
       "      <td>0.0</td>\n",
       "      <td>0.0</td>\n",
       "      <td>0.00057</td>\n",
       "      <td>0.0</td>\n",
       "    </tr>\n",
       "  </tbody>\n",
       "</table>\n",
       "</div>"
      ],
      "text/plain": [
       "        c1_q0  c2_q0  c3_q0    ow0_q0  c1_θ0  c2_θ0   ow0_θ0  ow0_θ4\n",
       "c2_θ0     0.0    0.0    0.0  0.000000    0.0    0.0  0.00000     0.0\n",
       "ow0_θ0    0.0    0.0    0.0  0.641026    0.0    0.0  0.00057     0.0"
      ]
     },
     "execution_count": 5,
     "metadata": {},
     "output_type": "execute_result"
    }
   ],
   "source": [
    "Ds"
   ]
  },
  {
   "cell_type": "code",
   "execution_count": 6,
   "id": "ad8a7168-bb4b-4a36-ae5f-ccba93957011",
   "metadata": {},
   "outputs": [
    {
     "data": {
      "text/plain": [
       "c1_q0        To\n",
       "c2_q0        To\n",
       "c3_q0     Ti_sp\n",
       "ow0_q0       To\n",
       "c1_θ0         Φ\n",
       "c2_θ0        Qa\n",
       "ow0_θ0       Qo\n",
       "ow0_θ4       Qi\n",
       "dtype: object"
      ]
     },
     "execution_count": 6,
     "metadata": {},
     "output_type": "execute_result"
    }
   ],
   "source": [
    "us"
   ]
  },
  {
   "cell_type": "code",
   "execution_count": null,
   "id": "f1f408fb-4ea9-4698-a7df-0f3a9eb51a3d",
   "metadata": {},
   "outputs": [],
   "source": []
  }
 ],
 "metadata": {
  "kernelspec": {
   "display_name": "Python 3 (ipykernel)",
   "language": "python",
   "name": "python3"
  },
  "language_info": {
   "codemirror_mode": {
    "name": "ipython",
    "version": 3
   },
   "file_extension": ".py",
   "mimetype": "text/x-python",
   "name": "python",
   "nbconvert_exporter": "python",
   "pygments_lexer": "ipython3",
   "version": "3.9.7"
  }
 },
 "nbformat": 4,
 "nbformat_minor": 5
}
