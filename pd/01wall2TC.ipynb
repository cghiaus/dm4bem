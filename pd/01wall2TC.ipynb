{
 "cells": [
  {
   "cell_type": "markdown",
   "id": "43bbd8fc-ea24-41ef-9f68-775d2253bbac",
   "metadata": {},
   "source": [
    "# Walls to thermal circuit\n",
    "\n",
    "This notebook presents how the _description of the building_, given in a folder that contains two types of files:\n",
    "- types of walls (thermo-physical properties)\n",
    "- data on each walls\n",
    "\n",
    "is transformed in _disassembled thermal networks_, each one characterized by the matrices A, G, C and the vectors b, f, y."
   ]
  },
  {
   "cell_type": "code",
   "execution_count": 1,
   "id": "33aa52c1-db7c-4563-8373-6d8872f6c858",
   "metadata": {},
   "outputs": [],
   "source": [
    "import pandas as pd\n",
    "import pd_dm4bem"
   ]
  },
  {
   "cell_type": "markdown",
   "id": "c9dc5bd4-d844-4142-b943-f8ace023bb22",
   "metadata": {},
   "source": [
    "The input data needed for the thermal model of the building is in a folder."
   ]
  },
  {
   "cell_type": "code",
   "execution_count": 2,
   "id": "bcec7e3f-503f-491e-8424-4877479e2843",
   "metadata": {},
   "outputs": [],
   "source": [
    "folder = \"bldg_wall2TC\""
   ]
  },
  {
   "cell_type": "markdown",
   "id": "2d96d401-165f-4219-8efa-2c6806502f68",
   "metadata": {},
   "source": [
    "## Wall types"
   ]
  },
  {
   "cell_type": "markdown",
   "id": "b5e35357-0993-448b-9454-799368ecdcb5",
   "metadata": {},
   "source": [
    "Let's consider two types of walls described in the file `wall_types.csv`."
   ]
  },
  {
   "cell_type": "code",
   "execution_count": 3,
   "id": "0bafe10d-ef38-4419-819f-a95bb4b18d3c",
   "metadata": {},
   "outputs": [
    {
     "data": {
      "text/html": [
       "<div>\n",
       "<style scoped>\n",
       "    .dataframe tbody tr th:only-of-type {\n",
       "        vertical-align: middle;\n",
       "    }\n",
       "\n",
       "    .dataframe tbody tr th {\n",
       "        vertical-align: top;\n",
       "    }\n",
       "\n",
       "    .dataframe thead th {\n",
       "        text-align: right;\n",
       "    }\n",
       "</style>\n",
       "<table border=\"1\" class=\"dataframe\">\n",
       "  <thead>\n",
       "    <tr style=\"text-align: right;\">\n",
       "      <th></th>\n",
       "      <th>type</th>\n",
       "      <th>Material</th>\n",
       "      <th>Conductivity</th>\n",
       "      <th>Specific heat</th>\n",
       "      <th>Density</th>\n",
       "      <th>Width</th>\n",
       "      <th>Mesh</th>\n",
       "    </tr>\n",
       "  </thead>\n",
       "  <tbody>\n",
       "    <tr>\n",
       "      <th>0</th>\n",
       "      <td>0</td>\n",
       "      <td>Concrete</td>\n",
       "      <td>1.400</td>\n",
       "      <td>880</td>\n",
       "      <td>2300</td>\n",
       "      <td>0.200</td>\n",
       "      <td>1</td>\n",
       "    </tr>\n",
       "    <tr>\n",
       "      <th>1</th>\n",
       "      <td>0</td>\n",
       "      <td>Insulation</td>\n",
       "      <td>0.027</td>\n",
       "      <td>1210</td>\n",
       "      <td>55</td>\n",
       "      <td>0.080</td>\n",
       "      <td>2</td>\n",
       "    </tr>\n",
       "    <tr>\n",
       "      <th>2</th>\n",
       "      <td>1</td>\n",
       "      <td>Glass</td>\n",
       "      <td>1.400</td>\n",
       "      <td>750</td>\n",
       "      <td>2500</td>\n",
       "      <td>0.004</td>\n",
       "      <td>1</td>\n",
       "    </tr>\n",
       "  </tbody>\n",
       "</table>\n",
       "</div>"
      ],
      "text/plain": [
       "   type    Material  Conductivity  Specific heat  Density  Width  Mesh\n",
       "0     0    Concrete         1.400            880     2300  0.200     1\n",
       "1     0  Insulation         0.027           1210       55  0.080     2\n",
       "2     1       Glass         1.400            750     2500  0.004     1"
      ]
     },
     "execution_count": 3,
     "metadata": {},
     "output_type": "execute_result"
    }
   ],
   "source": [
    "wall_types = pd.read_csv(folder + '/wall_types.csv')\n",
    "wall_types"
   ]
  },
  {
   "cell_type": "markdown",
   "id": "7289cf9c-f072-4d71-9c90-77bbbe74606c",
   "metadata": {},
   "source": [
    "The file `wall_types.csv` contains:\n",
    "- the physical properties of the materials given in SI units: __conductivity__ in W·m⁻¹·K⁻¹, __specific heat__ in J·kg⁻¹·K⁻¹, __density__ in kg·m⁻³;\n",
    "- the __width__ of the layers in m;\n",
    "- the number of __meshes__ in which each layer is numerically discretized; each mesh has two resistances and a capacity.\n",
    "\n",
    "There are two types of walls in `wall_types.csv`:\n",
    "\n",
    "- The walls of __type 0__ have two layers: _Concrete_ and _Insulation_. _Concrete_ layer has one mesh (two resistances and a capacity) and _Insulation_ layer has two meshes (i.e., four resistances and two capacities).\n",
    "- The walls of __type 1__ has one layer: _Glass_, discretized in one mesh.\n",
    "\n",
    "![wall_types](./bldg_wall2TC/wall_types.svg)\n",
    "> Figure 1. The two types of wall described in file `wall_types.csv`"
   ]
  },
  {
   "cell_type": "markdown",
   "id": "8e7bc192-15cb-44a5-acb6-6e626b0ff951",
   "metadata": {
    "tags": []
   },
   "source": [
    "## Walls data\n",
    "The models of walls are based on the materials given in `wall_types.cvs`. For each specific wall, the area surface and the information needed for the boundary conditions is given.\n",
    "\n",
    "There are three kinds of walls:\n",
    "- generic,\n",
    "- outdoor,\n",
    "- indoor.\n",
    "\n",
    "The `walls_generic.csv`, `walls_out.csv`, and `walls_in.csv` files contain the characteristics of the surfaces of the walls (Table 1).\n",
    "\n",
    ">Table 1. Columns of `walls_generic.csv`, `walls_out.csv`, and `walls_in.csv` files. The columns that are present in the file are maked by ✓ for _generic, _out and _in walls.\n",
    "\n",
    "|Column|Unit|Definition                             | Example|_generic|_out|_in|\n",
    "|------|----|---------------------------------------|--------|--------|---|---|\n",
    "| ID   |    | Identifiant of each wal               | w2     | ✓      | ✓ | ✓ |\n",
    "| type |    | Type of wall given in `wall_types.csv`| 1      | ✓      | ✓ | ✓ |\n",
    "| Area | m² | Surface area of the wall              | 25     | ✓      | ✓ | ✓ |\n",
    "| β    | °  | Tilt angle: 90° vertical; >90° upward facing| 90 | ✓  | ✓ |   |\n",
    "| γ    | °  | Azimuth: 0° South, 180° North, >0° westward | 90| ✓      | ✓ |   |\n",
    "| T0   | °C | Temperature source of outer surface   | To     | ✓      | ✓ |   |\n",
    "| T1   | °C | Temperature source of inner surface   | Ti     | ✓      |   |   |\n",
    "| Q0   | W  | Flow rate source on outer surface     | Qo     | ✓      | ✓ | ✓ |\n",
    "| Q1   | W  | Flow rate source on inner surface     | Qi     | ✓      | ✓ | ✓ |\n",
    "| h0   | W·m⁻²·K⁻¹| Convection coefficient of outer surface | 25 | ✓  | ✓ | ✓ |\n",
    "| h1   | W·m⁻²·K⁻¹| Convection coefficient of inner surface |  8 | ✓  | ✓ | ✓ |\n",
    "| α0   |    | Short-wave absorbtion coefficient of outer surface | 0.25 | ✓ | ✓ | ✓ |\n",
    "| α1   |    | Short-wave absorbtion coefficient of inner surface | 0.30 | ✓ | ✓ | ✓ |\n",
    "| ε0   |    | Long-wave hemispherical emissivity of outer surface| 0.85 | ✓ | ✓ | ✓ |\n",
    "| ε1   |    | Long-wave hemispherical emissivity of inner surface| 0.70 | ✓ | ✓ | ✓ |\n",
    "| y    |    | Output temperature nodes (by using slicing) |[0, -1] | ✓ | ✓ | ✓ |\n",
    "\n",
    "__Notes__:\n",
    "1. The _generic_ walls may characterized _out_ or _in_ walls by not specifying temperare sources (see `wall_generic.csv`, `wall_out.csv`, and `wall_in.csv` files for examples).\n",
    "\n",
    "2. The _out_ walls do not need the temperature sources on the inner surfaces, _T1_.\n",
    "\n",
    "3. The _in_ walls do not need tilt (β) and azimuth (γ) angles and the temperature sources on the outer (_T0_) and the inner (_T1_) surfaces."
   ]
  },
  {
   "cell_type": "markdown",
   "id": "e569aafc-73e0-4248-95f8-f0377faf8a67",
   "metadata": {},
   "source": [
    "### Generic wall\n",
    "\n",
    "Generic walls contain all the information listed in Table 1. For example, `wall_generic.csv` file describes the walls shown in Figure 2."
   ]
  },
  {
   "cell_type": "code",
   "execution_count": 4,
   "id": "e88044f6-9feb-4cc9-b77e-5ffba7ae5fad",
   "metadata": {
    "tags": []
   },
   "outputs": [
    {
     "ename": "NameError",
     "evalue": "name 'folder_path' is not defined",
     "output_type": "error",
     "traceback": [
      "\u001b[0;31m---------------------------------------------------------------------------\u001b[0m",
      "\u001b[0;31mNameError\u001b[0m                                 Traceback (most recent call last)",
      "\u001b[0;32m/var/folders/vp/k617ngs97xq4vlzlj5ts6sch0000gn/T/ipykernel_7246/948677630.py\u001b[0m in \u001b[0;36m<module>\u001b[0;34m\u001b[0m\n\u001b[0;32m----> 1\u001b[0;31m \u001b[0mwalls\u001b[0m \u001b[0;34m=\u001b[0m \u001b[0mpd\u001b[0m\u001b[0;34m.\u001b[0m\u001b[0mread_csv\u001b[0m\u001b[0;34m(\u001b[0m\u001b[0mfolder_path\u001b[0m \u001b[0;34m+\u001b[0m \u001b[0;34m\"/walls_generic.csv\"\u001b[0m\u001b[0;34m)\u001b[0m\u001b[0;34m\u001b[0m\u001b[0;34m\u001b[0m\u001b[0m\n\u001b[0m\u001b[1;32m      2\u001b[0m \u001b[0mwalls\u001b[0m\u001b[0;34m\u001b[0m\u001b[0;34m\u001b[0m\u001b[0m\n",
      "\u001b[0;31mNameError\u001b[0m: name 'folder_path' is not defined"
     ]
    }
   ],
   "source": [
    "walls = pd.read_csv(folder_path + \"/walls_generic.csv\")\n",
    "walls"
   ]
  },
  {
   "cell_type": "markdown",
   "id": "81a93277-ebe0-4e59-a472-d572fd513b69",
   "metadata": {},
   "source": [
    "The file `walls_generic.csv` describes four walls (Figure 2):\n",
    "- according to the types of walls:\n",
    "    - w0 and w1 are of __type__ 1, i.e., concrete and insulation;\n",
    "    - w2 and w3 are of __type__ 0, i.e., glass.\n",
    "- according to the temperature sources:\n",
    "    - w0 and w1 are outdoor walls that have as boundary condition the outdoor temperature __T0__; the temperature on the inner surface is a room temperature, which is an output of the model.\n",
    "    - w1 is a wall that has temperature sources on both sides.\n",
    "    - w3 is an inner wall that separated two rooms. it does not need information for solar direct radiation (tilt and azimuth angles).\n",
    "\n",
    "Outdoor walls, such as gw0 (generic wall w0) and gw2 (generic wall w2) in Figure 2, can be obtained from the generic walls by not considering a temperature source __T1__ on inner surface, which is indicated by NaN in rows w0 and w2 for column __T1__.\n",
    "\n",
    "Likewise, indoor walls, such as gw3 (generic wall 3) in Figure 2, can be obtained from the generic walls by not indicating there are no temperature sources in __T0__ and __T1__, i.e. `T0 = NaN` and `T1 = NaN`.\n",
    "\n",
    "The outputs __y__ are indicated in a list using [slicing](https://python-reference.readthedocs.io/en/latest/docs/brackets/slicing.html). For example, the outputs of wall w0 are temperature nodes 0 and 3 (the last node).\n",
    "\n",
    "The numbering convention of the elements of the circuits is:\n",
    "- the nodes (i.e., temperatures) are numbered from left to right and from up to down;\n",
    "- the oriented branches (i.e., flows) are numbered from the node with a lower index to the node with a higher index;\n",
    "- the __reference__ node (temperature) is not numbered.\n",
    "\n",
    "![generic_wall](./bldg_wall2TC/walls_generic.svg)\n",
    "> Figure 2. Four examples of generic walls described in the file `wall_generic.csv`. Walls gw0 and gw1 are of __type 1__ (glass), described in `wall_type.csv`. Walls gw2 and gw3 are of __type 0__ concrete and insulation), described in `wall_type.csv`."
   ]
  },
  {
   "cell_type": "markdown",
   "id": "0d689173-16ed-4343-985d-4486e93b79b5",
   "metadata": {},
   "source": [
    "The files describing the types (`wall_types.csv`) and the data (`walls_generic.csv`) of the walls contain the information needed to obtain the disassembled thermal circuits. The names of the walls can have a prefix. "
   ]
  },
  {
   "cell_type": "code",
   "execution_count": null,
   "id": "4d971f08-f3e1-4a61-890c-622e8fc883cc",
   "metadata": {},
   "outputs": [],
   "source": [
    "# Thermal circuits from wall types and wall data\n",
    "TCd_generic = pd_dm4bem.wall2TC(wall_types, walls, prefix=\"g\")"
   ]
  },
  {
   "cell_type": "markdown",
   "id": "97f4b444-4f9d-4ead-9ae3-971fbd44b8e9",
   "metadata": {},
   "source": [
    "Each matrix (A, G, C) of vector (b, f, y) of the thermal circuit can be accessed as Pandas dataframes."
   ]
  },
  {
   "cell_type": "code",
   "execution_count": null,
   "id": "0829f6db-71cd-4231-a55c-9451faf7d481",
   "metadata": {},
   "outputs": [],
   "source": [
    "TCd_generic['gw0']['A']"
   ]
  },
  {
   "cell_type": "markdown",
   "id": "0f58635a-75ef-476f-8b91-4824c1bc9c7d",
   "metadata": {},
   "source": [
    "All elements of the thermal circuit can be printed."
   ]
  },
  {
   "cell_type": "code",
   "execution_count": null,
   "id": "ea44a661-00f3-41da-9c5a-5e5f0324a75a",
   "metadata": {},
   "outputs": [],
   "source": [
    "pd_dm4bem.print_TC(TCd_generic['gw0'])"
   ]
  },
  {
   "cell_type": "markdown",
   "id": "5fd1d7b7-53bb-43e5-83f3-d5316d9668b7",
   "metadata": {},
   "source": [
    "All thermal circuits read from the file `walls_generic.csv` can be printed."
   ]
  },
  {
   "cell_type": "code",
   "execution_count": null,
   "id": "9681cb1c-e727-4ece-a331-44c37ceccff8",
   "metadata": {},
   "outputs": [],
   "source": [
    "print('TCd_generic')\n",
    "for key in TCd_generic.keys():\n",
    "    print('Wall:', key)\n",
    "    pd_dm4bem.print_TC(TCd_generic[key])"
   ]
  },
  {
   "cell_type": "markdown",
   "id": "bdc06d5b-fd33-44d7-b7c3-0479e96a5210",
   "metadata": {},
   "source": [
    "### Outdoor walls\n",
    "\n",
    "Outdoor walls do not have temperature sources on indoor surfaces (Figure 3). They can be obtained from generic walls by not indicating temperature sources T0 and T1 or they can be described by specific files, such as `walls_in.csv`.\n",
    "\n",
    "Figure 3a shows a wall of __type__ 1 (described in `wall_types.csv`) with only one layer which has one mesh.\n",
    "\n",
    "Figure 3b shows a wall of __type__ 0 (described in `wall_types.csv`) with two layers (concrete and insulation). \n",
    "\n",
    "![in_wall](./bldg_wall2TC/walls_out.svg)\n",
    "> Figure 3. Outdoor walls: a) of __type__ 1 b) of __type__ 0. The __type__ is indicated in the file `wall_types.csv`."
   ]
  },
  {
   "cell_type": "code",
   "execution_count": null,
   "id": "ffba59a1-1c03-4f32-9c6e-49f015281fec",
   "metadata": {},
   "outputs": [],
   "source": [
    "walls = pd.read_csv(folder_path + '/walls_in.csv')\n",
    "walls"
   ]
  },
  {
   "cell_type": "code",
   "execution_count": null,
   "id": "221df4bf-0222-4db8-b516-21df5f180945",
   "metadata": {},
   "outputs": [],
   "source": [
    "# Thermal circuits from data & type files of walls\n",
    "TCd_out = pd_dm4bem.wall2TC(wall_types, walls, prefix=\"o\")\n",
    "\n",
    "# Uncomment below to print all thermal circuits\n",
    "# print('TCd_out')\n",
    "# for key in TCd_out.keys():\n",
    "#    print('Wall:', key)\n",
    "#    pd_dm4bem.print_TC(TCd_out[key])"
   ]
  },
  {
   "cell_type": "markdown",
   "id": "1f8e091c-6494-4868-966c-d86de103e7fb",
   "metadata": {},
   "source": [
    "### Indoor walls\n",
    "\n",
    "Indoor walls do not have temperature sources on surfaces (Figure 4). They can be obtained from generic walls by not indicating temperature sources T0 and T1 or they can be described by specific files, such as `walls_in.csv`.\n",
    "\n",
    "Figure 4a shows a wall of __type__ 1 (described in `wall_types.csv`) with only one layer which has one mesh.\n",
    "\n",
    "Figure 4b shows a wall of __type__ 0 (described in `wall_types.csv`) with two layers (concrete and insulation); the insulation layer is discretized in two meshes.\n",
    "\n",
    "![in_wall](./bldg_wall2TC/walls_in.svg)\n",
    "> Figure 4. Indoor walls: a) of __type__ 1 b) of __type__ 0. The __type__ is indicated in the file `wall_types.csv`."
   ]
  },
  {
   "cell_type": "code",
   "execution_count": null,
   "id": "9144df23-4c21-4d5c-bedd-600032294516",
   "metadata": {},
   "outputs": [],
   "source": [
    "walls = pd.read_csv(folder_path + '/walls_in.csv')\n",
    "walls"
   ]
  },
  {
   "cell_type": "code",
   "execution_count": null,
   "id": "678f53dc-a07e-4b2c-bfe0-3ccf00aedde7",
   "metadata": {},
   "outputs": [],
   "source": [
    "# Thermal circuits from data & type files of walls\n",
    "TCd_in = pd_dm4bem.wall2TC(wall_types, walls, prefix=\"i\")\n",
    "\n",
    "# print('TCd_in')\n",
    "# for key in TCd_in.keys():\n",
    "#    print('Wall:', key)\n",
    "#    pd_dm4bem.print_TC(TCd_in[key])"
   ]
  }
 ],
 "metadata": {
  "kernelspec": {
   "display_name": "Python 3 (ipykernel)",
   "language": "python",
   "name": "python3"
  },
  "language_info": {
   "codemirror_mode": {
    "name": "ipython",
    "version": 3
   },
   "file_extension": ".py",
   "mimetype": "text/x-python",
   "name": "python",
   "nbconvert_exporter": "python",
   "pygments_lexer": "ipython3",
   "version": "3.9.7"
  },
  "toc-autonumbering": true
 },
 "nbformat": 4,
 "nbformat_minor": 5
}
