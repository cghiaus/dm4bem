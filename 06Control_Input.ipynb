{
 "cells": [
  {
   "cell_type": "markdown",
   "id": "ae5be397-9849-453c-9419-6f3d8631d73c",
   "metadata": {
    "tags": []
   },
   "source": [
    "# [Weather data and solar radiation](01WeatherData.ipynb)\n",
    "\n",
    "# [Thermal circuit and state-space representation for a thermal circuit with capacities in every node: simple wall](02SimpleWall.ipynb)\n",
    "\n",
    "# [Thermal circuit and state-space representation for a thermal circuit with capacities in some nodes: cubic building](03CubicBuilding.ipynb)\n",
    "\n",
    "# [Thermal circuits assembling](04AssemblingCircuits.ipynb)\n",
    "\n",
    "# [Switch between models: heating & cooling and free-running](05SwitchModels.ipynb)\n",
    "\n",
    "# Control input: heating & cooling and free-running\n",
    "\n",
    "**Objectives:**\n",
    "- Change the control input during the numerical integration. \n",
    "- Implement complex control algorithms in the numerical integration loop. "
   ]
  },
  {
   "cell_type": "markdown",
   "id": "5c2f352e-c769-41d1-a43d-8d613919ebba",
   "metadata": {},
   "source": [
    "![thermal_circuit](./figures/03_therm_circ.svg)\n",
    "> Figure 1. Thermal circuit for the cubic building.\n",
    "\n",
    "In this example, we will consider that the controller is not modeled by the conductance $G_{11}$ and the temperature source $T_{i,sp}$ but, instead, by the heatflow rate $\\dot{Q}_a$, which is added to the indoor air in node $\\theta_6$ (Figure 1). Therefore, the conductance $G_{11} \\rightarrow 0$ and the input\n",
    "$$\\dot{Q}_a \\equiv u_6 = K_p (T_{i,sp} - \\theta_i)$$\n",
    "where:\n",
    "- $K_p$ is the static gain of the proportional controller, W/°C;\n",
    "- $T_{i,sp}$ - indoor temperature setpoint, °C;\n",
    "- $\\theta_i$ - indoor temperature, °C.\n"
   ]
  },
  {
   "cell_type": "code",
   "execution_count": 1,
   "id": "adea2685-af71-4706-a016-a6a56a7300ac",
   "metadata": {},
   "outputs": [],
   "source": [
    "import numpy as np\n",
    "import dm4bem\n",
    "import tuto"
   ]
  },
  {
   "cell_type": "markdown",
   "id": "cfd7947e-e9ec-4e2e-8115-524dbf5c9103",
   "metadata": {},
   "source": [
    "For simulation of the toy model presented in tutorials [3](03CubicBuilding.ipynb), [4](04AssemblingCircuits.ipynb) and [5](05SwitchModels.ipynb) (Figure 1), let's consider the weather file from a location,"
   ]
  },
  {
   "cell_type": "code",
   "execution_count": 2,
   "id": "8aaf3148-b136-442c-a690-b078b68dde85",
   "metadata": {},
   "outputs": [],
   "source": [
    "filename = './weather_data/FRA_Lyon.074810_IWEC.epw'"
   ]
  },
  {
   "cell_type": "markdown",
   "id": "fa295b37-ebc1-4d7a-9039-49ed5a9ace45",
   "metadata": {},
   "source": [
    "and a period of time."
   ]
  },
  {
   "cell_type": "code",
   "execution_count": 3,
   "id": "9b3f8c80-be43-43e8-b269-d57fc8765a2b",
   "metadata": {},
   "outputs": [],
   "source": [
    "start_date = '2000-07-01 00:00:00'\n",
    "end_date = '2000-07-03 00:00:00'"
   ]
  },
  {
   "cell_type": "markdown",
   "id": "c795a899-0447-4785-af57-0bdda2aa9b51",
   "metadata": {
    "tags": []
   },
   "source": [
    "## Create the model for free-running"
   ]
  },
  {
   "cell_type": "markdown",
   "id": "16a20125-f10e-4773-94f2-d506c0a4522e",
   "metadata": {
    "tags": []
   },
   "source": [
    "Let's consider that the P-controller is not effective, i.e. $K_p \\equiv G_{11} \\rightarrow 0$, i.e. the building is in free running (the indoor temperature is free-floating)."
   ]
  },
  {
   "cell_type": "code",
   "execution_count": 4,
   "id": "6cf40e92-4dd9-4090-86a8-4bd53549d7de",
   "metadata": {},
   "outputs": [
    {
     "ename": "NameError",
     "evalue": "name 'h' is not defined",
     "output_type": "error",
     "traceback": [
      "\u001b[0;31m---------------------------------------------------------------------------\u001b[0m",
      "\u001b[0;31mNameError\u001b[0m                                 Traceback (most recent call last)",
      "\u001b[0;32m/var/folders/vp/k617ngs97xq4vlzlj5ts6sch0000gn/T/ipykernel_13051/285293290.py\u001b[0m in \u001b[0;36m<module>\u001b[0;34m\u001b[0m\n\u001b[1;32m      1\u001b[0m \u001b[0mKpf\u001b[0m \u001b[0;34m=\u001b[0m \u001b[0;36m1e-3\u001b[0m   \u001b[0;31m# no controller Kpf -> 0\u001b[0m\u001b[0;34m\u001b[0m\u001b[0;34m\u001b[0m\u001b[0m\n\u001b[0;32m----> 2\u001b[0;31m \u001b[0mTCa\u001b[0m \u001b[0;34m=\u001b[0m \u001b[0mtuto\u001b[0m\u001b[0;34m.\u001b[0m\u001b[0mthermal_circuit\u001b[0m\u001b[0;34m(\u001b[0m\u001b[0mKpf\u001b[0m\u001b[0;34m)\u001b[0m\u001b[0;34m\u001b[0m\u001b[0;34m\u001b[0m\u001b[0m\n\u001b[0m\u001b[1;32m      3\u001b[0m [As, Bs, Cs, Ds] = dm4bem.tc2ss(\n\u001b[1;32m      4\u001b[0m     TCa['A'], TCa['G'], TCa['b'], TCa['C'], TCa['f'], TCa['y'])\n\u001b[1;32m      5\u001b[0m \u001b[0mdtmax\u001b[0m \u001b[0;34m=\u001b[0m \u001b[0mmin\u001b[0m\u001b[0;34m(\u001b[0m\u001b[0;34m-\u001b[0m\u001b[0;36m2.\u001b[0m \u001b[0;34m/\u001b[0m \u001b[0mnp\u001b[0m\u001b[0;34m.\u001b[0m\u001b[0mlinalg\u001b[0m\u001b[0;34m.\u001b[0m\u001b[0meig\u001b[0m\u001b[0;34m(\u001b[0m\u001b[0mAs\u001b[0m\u001b[0;34m)\u001b[0m\u001b[0;34m[\u001b[0m\u001b[0;36m0\u001b[0m\u001b[0;34m]\u001b[0m\u001b[0;34m)\u001b[0m\u001b[0;34m\u001b[0m\u001b[0;34m\u001b[0m\u001b[0m\n",
      "\u001b[0;32m~/Personel/Py/dm4bem/git_cghiaus/dm4bem/tuto.py\u001b[0m in \u001b[0;36mthermal_circuit\u001b[0;34m(Kp)\u001b[0m\n\u001b[1;32m     95\u001b[0m \u001b[0;34m\u001b[0m\u001b[0m\n\u001b[1;32m     96\u001b[0m     \u001b[0;31m# Convection\u001b[0m\u001b[0;34m\u001b[0m\u001b[0;34m\u001b[0m\u001b[0m\n\u001b[0;32m---> 97\u001b[0;31m     \u001b[0mGw\u001b[0m \u001b[0;34m=\u001b[0m \u001b[0mh\u001b[0m \u001b[0;34m*\u001b[0m \u001b[0mwall\u001b[0m\u001b[0;34m[\u001b[0m\u001b[0;34m'Surface'\u001b[0m\u001b[0;34m]\u001b[0m\u001b[0;34m[\u001b[0m\u001b[0;36m0\u001b[0m\u001b[0;34m]\u001b[0m     \u001b[0;31m# wall\u001b[0m\u001b[0;34m\u001b[0m\u001b[0;34m\u001b[0m\u001b[0m\n\u001b[0m\u001b[1;32m     98\u001b[0m     \u001b[0mGg\u001b[0m \u001b[0;34m=\u001b[0m \u001b[0mh\u001b[0m \u001b[0;34m*\u001b[0m \u001b[0mwall\u001b[0m\u001b[0;34m[\u001b[0m\u001b[0;34m'Surface'\u001b[0m\u001b[0;34m]\u001b[0m\u001b[0;34m[\u001b[0m\u001b[0;36m2\u001b[0m\u001b[0;34m]\u001b[0m     \u001b[0;31m# glass\u001b[0m\u001b[0;34m\u001b[0m\u001b[0;34m\u001b[0m\u001b[0m\n\u001b[1;32m     99\u001b[0m \u001b[0;34m\u001b[0m\u001b[0m\n",
      "\u001b[0;31mNameError\u001b[0m: name 'h' is not defined"
     ]
    }
   ],
   "source": [
    "Kpf = 1e-3   # no controller Kpf -> 0\n",
    "TCa = tuto.thermal_circuit(Kpf)\n",
    "[As, Bs, Cs, Ds] = dm4bem.tc2ss(\n",
    "    TCa['A'], TCa['G'], TCa['b'], TCa['C'], TCa['f'], TCa['y'])\n",
    "dtmax = min(-2. / np.linalg.eig(As)[0])\n",
    "print(f'Maximum time step in free-floating: {dtmax:.2f} s')"
   ]
  },
  {
   "cell_type": "markdown",
   "id": "daae4579-1492-40c2-bc1f-a1a5b185964d",
   "metadata": {},
   "source": [
    "We chose the  [setpoint](https://en.m.wikipedia.org/wiki/Setpoint_(control_system) and the [dead-band](https://en.m.wikipedia.org/wiki/Deadband) for the indoor temperature."
   ]
  },
  {
   "cell_type": "code",
   "execution_count": null,
   "id": "7eab90c8-5a66-4ec9-9d17-eb2bb93388cf",
   "metadata": {
    "tags": []
   },
   "outputs": [],
   "source": [
    "Tisp = 20   # indoor setpoint temperature, °C\n",
    "Δθ = 5      # temperature deadband, °C"
   ]
  },
  {
   "cell_type": "markdown",
   "id": "c8ac1f6e-3d96-4d38-8300-9c467da04af8",
   "metadata": {},
   "source": [
    "## Simulation in free-running"
   ]
  },
  {
   "cell_type": "markdown",
   "id": "a6b24b94-d07d-4d32-8bbe-bee2da721f02",
   "metadata": {},
   "source": [
    "With the time step for integration,"
   ]
  },
  {
   "cell_type": "code",
   "execution_count": null,
   "id": "9496d59e-67d0-461a-9fce-39ad52e0b617",
   "metadata": {},
   "outputs": [],
   "source": [
    "dt = 360    # time step, s"
   ]
  },
  {
   "cell_type": "markdown",
   "id": "eaf0f0d0-8442-40a1-878c-a3a287a28d76",
   "metadata": {},
   "source": [
    "we obtain the inputs of the model (at simulation time `t` as vector `u` from weather `data`)."
   ]
  },
  {
   "cell_type": "code",
   "execution_count": null,
   "id": "0476db56-24ef-446d-a6ec-d90c56b75781",
   "metadata": {
    "tags": []
   },
   "outputs": [],
   "source": [
    "t, u, data = tuto.inputs(filename, start_date, end_date, dt, Tisp)"
   ]
  },
  {
   "cell_type": "markdown",
   "id": "28adb44d-b393-4c3e-ac59-48853f79f7d6",
   "metadata": {},
   "source": [
    "The results of the simulation are obtained by integration in time."
   ]
  },
  {
   "cell_type": "code",
   "execution_count": null,
   "id": "f5c4f0e7-32b7-4331-82ab-db54dfa5b187",
   "metadata": {},
   "outputs": [],
   "source": [
    "# Initialize temperature vector\n",
    "θ = np.full([As.shape[0], u.shape[0]], np.inf)\n",
    "θ[:, 0] = Tisp * np.ones(As.shape[0])\n",
    "\n",
    "I = np.eye(As.shape[0])\n",
    "\n",
    "# Simulation in time\n",
    "for k in range(u.shape[0] - 1):\n",
    "    θ[:, k + 1] = (I + dt * As) @ θ[:, k]\\\n",
    "        + dt * Bs @ u.iloc[k, :]\n",
    "\n",
    "    # Indoor temperature\n",
    "y = Cs @ θ + Ds @ u.to_numpy().T\n",
    "y = y.T\n",
    "\n",
    "# HVAC heat flow\n",
    "q_HVAC = Kpf * (data['Ti'] - y[0, :])\n",
    "\n",
    "# Plot results\n",
    "tuto.plot_results(y, q_HVAC, data)"
   ]
  },
  {
   "cell_type": "markdown",
   "id": "48771d37-b71e-4c61-845c-d5c8f574a964",
   "metadata": {},
   "source": [
    "> Figure 2. Simulation in free-floating; the flowrate added to the air is zero, $\\dot{Q}_a = 0$."
   ]
  },
  {
   "cell_type": "markdown",
   "id": "444b7fee-ea83-430f-978f-fb7245abbd83",
   "metadata": {},
   "source": [
    "## Feed-back control"
   ]
  },
  {
   "cell_type": "markdown",
   "id": "ad68c219-779c-42c4-bde0-552a050ace17",
   "metadata": {
    "tags": []
   },
   "source": [
    "The input vector is\n",
    "$$ u = [T_o, T_o, T_o, T_{i,sp}, \\Phi_o, \\Phi_i, \\dot{Q}_a, \\Phi_a]^T.$$\n",
    "\n",
    "Let's consider that the input $u_6 \\equiv \\dot{Q}_a$, which models all the heat flow rates received by the indoor air, includes the heat delivered by the controller (see Figure 1). If the indoor temperature is in the deadband,\n",
    "$$T_{i,sp} < \\theta_i < T_{i,sp} + \\Delta \\theta$$\n",
    "where:\n",
    "- $T_{i,sp}$ is the indoor temperatture setpoint, °C,\n",
    "- $\\theta_i$ - indoor temperature, °C,\n",
    "- $\\Delta \\theta$ - the deadband, °C,\n",
    "then the command $u_6 \\equiv \\dot{Q}_a = 0$; else, the command is proportional to the error,\n",
    "$$\\dot{Q}_a = K_p (T_{i,sp} - \\theta_i)$$\n",
    "\n",
    "where $K_p$ is the gain of the proportional controller.\n",
    "\n",
    "The maximum power of the controller in cooling is limited at 900 W."
   ]
  },
  {
   "cell_type": "code",
   "execution_count": null,
   "id": "de19fc2f-4916-4011-9358-3f1c0b202b73",
   "metadata": {},
   "outputs": [],
   "source": [
    "def sim_HVAC():\n",
    "    t, u, data = tuto.inputs(filename, start_date, end_date, dt, Tisp)\n",
    "\n",
    "    θ = np.full([As.shape[0], u.shape[0]], np.inf)\n",
    "    θ[:, 0] = Tisp * np.ones(As.shape[0])\n",
    "\n",
    "    y = np.zeros(u.shape[0])\n",
    "    y[-1] = Tisp\n",
    "\n",
    "    for k in range(u.shape[0] - 1):\n",
    "        if Tisp < y[k - 1] < Tisp + Δθ:\n",
    "            u.iloc[k, 6] = 0\n",
    "        else:\n",
    "            u.iloc[k, 6] = Kpp * (Tisp - y[k - 1])\n",
    "            u.iloc[k, 6] = max(u.iloc[k, 6], -900)\n",
    "        θ[:, k + 1] = (I + dt * As) @ θ[:, k]\\\n",
    "            + dt * Bs @ u.iloc[k, :]\n",
    "        y[k] = Cs @ θ[:, k] + Ds @ u.iloc[k]\n",
    "\n",
    "    q_HVAC = u.iloc[:, 6].to_numpy()\n",
    "\n",
    "    tuto.plot_results(y, q_HVAC, data)"
   ]
  },
  {
   "cell_type": "code",
   "execution_count": null,
   "id": "fb424adb-377a-4abf-afbe-f87fd6f481c3",
   "metadata": {},
   "outputs": [],
   "source": [
    "Kpp = 1e2   # perfect controller Kpc -> infinity\n",
    "dt = 360    # time step, s\n",
    "sim_HVAC()"
   ]
  },
  {
   "cell_type": "markdown",
   "id": "0b3ae095-60a2-4a21-a24d-2d2e9e377a46",
   "metadata": {},
   "source": [
    "> Figure 3. Results of feedback control by using a large timestep."
   ]
  },
  {
   "cell_type": "markdown",
   "id": "69c4c1f0-b49e-441a-a09e-7c4f90a9d7d5",
   "metadata": {
    "tags": []
   },
   "source": [
    "## Stability vs. precision\n",
    "\n",
    "A control system is precise if the error, in our case $\\varepsilon = T_{i,sp} - \\theta_i$, tends to zero , i.e., the output follows its setpoint. Precision increases with the proportional gain. For the P-controller implemented in the inputs, this increase affects the [stability](https://en.m.wikipedia.org/wiki/Control_theory#Stability) because a [dead-time](https://en.m.wikipedia.org/wiki/Dead_time) equal to the timestep is introduced in [Euler integration](https://en.m.wikipedia.org/wiki/Euler_method). The dead-time changes the limits of stability. If the timestep `dt` is reduced, the simulation is more precise. "
   ]
  },
  {
   "cell_type": "code",
   "execution_count": null,
   "id": "141cc8f9-e43e-45b0-b288-851e90054bfd",
   "metadata": {},
   "outputs": [],
   "source": [
    "Kpp = 1e2   # perfect controller Kpc -> infinity\n",
    "dt = 36     # time step, s\n",
    "sim_HVAC()"
   ]
  },
  {
   "cell_type": "markdown",
   "id": "65000168-b02f-4d26-879c-1df8b3336535",
   "metadata": {},
   "source": [
    "> Figure 4. Simulation of a feedback P-controller implemented in input by using a small timestep."
   ]
  },
  {
   "cell_type": "markdown",
   "id": "e7e83ff1-bc16-4fda-9a72-7f572ddba721",
   "metadata": {},
   "source": [
    "If the proportional gain is small, the precision is also small."
   ]
  },
  {
   "cell_type": "code",
   "execution_count": null,
   "id": "66c9a541-4ab6-45db-aa8a-88472b030e2a",
   "metadata": {},
   "outputs": [],
   "source": [
    "Kpp = 0.5e2   # perfect controller Kpc -> infinity\n",
    "dt = 360     # time step, s\n",
    "sim_HVAC()"
   ]
  },
  {
   "cell_type": "markdown",
   "id": "d1832b2e-6ca5-43ad-98ce-ab1bd90c7aaa",
   "metadata": {},
   "source": [
    "> Figure 5. Simulation of a feedback P-controller with a small gain implemented in input."
   ]
  },
  {
   "cell_type": "markdown",
   "id": "e9fab689-de77-4730-a5b4-bcce0b8073ae",
   "metadata": {},
   "source": [
    "If the porportional gain `Kpp` and the timestep `dt` are large, then a [bang-bang control](https://en.m.wikipedia.org/wiki/Bang–bang_control) is obtained which [wear and tear](https://en.m.wikipedia.org/wiki/Wear_and_tear) the actuators, i.e., the [control valves](https://en.m.wikipedia.org/wiki/Control_valve) (Figure 6). "
   ]
  },
  {
   "cell_type": "code",
   "execution_count": null,
   "id": "13cd14fa-cff0-472d-86d7-2f77e508c017",
   "metadata": {},
   "outputs": [],
   "source": [
    "Kpp = 1e3   # perfect controller Kpc -> infinity\n",
    "dt = 36\n",
    "sim_HVAC()"
   ]
  },
  {
   "cell_type": "markdown",
   "id": "fd463acf-624e-42f9-84a2-bdd187e295be",
   "metadata": {},
   "source": [
    "> Figure 6. Simulation with large gain and large timestep."
   ]
  },
  {
   "cell_type": "markdown",
   "id": "3cdb7734-054b-450b-bb2a-d290e61c8c1f",
   "metadata": {},
   "source": [
    "Note that a high controller gain results in bang-bang control in cooling (Figure 7)."
   ]
  },
  {
   "cell_type": "markdown",
   "id": "f9c90194-71a3-4721-803a-cb6641f96771",
   "metadata": {},
   "source": [
    "## Simulation for different periods of the year\n",
    "\n",
    "Let's use a large gain for the controller and a small timestep."
   ]
  },
  {
   "cell_type": "code",
   "execution_count": null,
   "id": "4a63f00d-0aef-436f-be4d-b1f26190ff37",
   "metadata": {},
   "outputs": [],
   "source": [
    "Kpp = 1e3   # perfect controller Kpc -> infinity\n",
    "dt = 30"
   ]
  },
  {
   "cell_type": "markdown",
   "id": "8ca47934-45b7-4286-82a4-31401c5d6b97",
   "metadata": {},
   "source": [
    "Let's simulate the system in different periods of the year."
   ]
  },
  {
   "cell_type": "code",
   "execution_count": null,
   "id": "05863695-bb3e-4e60-8a75-ca02a68f8857",
   "metadata": {},
   "outputs": [],
   "source": [
    "start_date = '2000-01-01 00:00:00'\n",
    "end_date = '2000-01-03 00:00:00'\n",
    "sim_HVAC()"
   ]
  },
  {
   "cell_type": "markdown",
   "id": "c92d1b0b-a6de-4c5b-82f5-86911e2a3528",
   "metadata": {},
   "source": [
    "> Figure 7. Simulation for heating period."
   ]
  },
  {
   "cell_type": "markdown",
   "id": "52606fdd-c6f9-497b-b53a-df67f1df74c6",
   "metadata": {},
   "source": [
    "During the heating season, the indoor temperature is maintained at the lower value of the dead-band (Figure 7)."
   ]
  },
  {
   "cell_type": "code",
   "execution_count": null,
   "id": "c301f392-b293-427e-ab7e-92c124ceb1f9",
   "metadata": {},
   "outputs": [],
   "source": [
    "start_date = '2000-02-05 00:00:00'\n",
    "end_date = '2000-02-07 00:00:00'\n",
    "sim_HVAC()"
   ]
  },
  {
   "cell_type": "markdown",
   "id": "af4443cc-acd5-415f-8ba9-a2e0f0d2d353",
   "metadata": {},
   "source": [
    "> Figure 8. Simulation for heating with overheating."
   ]
  },
  {
   "cell_type": "markdown",
   "id": "0e165626-1136-42c8-a6f4-008ed5452110",
   "metadata": {},
   "source": [
    "Overhating may occur during the cold season due to solar radiation. Using a cooling system (when $q_{HVAC} < 0$) is this sitation is not economically and ecologically convenient (Figure 8)."
   ]
  },
  {
   "cell_type": "code",
   "execution_count": null,
   "id": "8bfd4efe-7c4b-47e7-9367-629dd4914d91",
   "metadata": {},
   "outputs": [],
   "source": [
    "start_date = '2000-07-01 00:00:00'\n",
    "end_date = '2000-07-03 00:00:00'\n",
    "sim_HVAC()"
   ]
  },
  {
   "cell_type": "markdown",
   "id": "fbcc5090-4123-4ce3-8707-ef8b2bdd40ce",
   "metadata": {},
   "source": [
    "> Figure 9. Simulation for cooling period."
   ]
  },
  {
   "cell_type": "markdown",
   "id": "00b20213-efa8-4e09-96cd-d7c9f579235d",
   "metadata": {},
   "source": [
    "During the hot season, cooling is required mostly during the daytime (Figure 10)."
   ]
  },
  {
   "cell_type": "markdown",
   "id": "bb3797a4-589e-41ee-a4fa-580c9738b0d9",
   "metadata": {},
   "source": [
    "## Free-cooling and solar protection\n",
    "Cooling load can be reduced by [free-cooling](https://en.m.wikipedia.org/wiki/Free_cooling) and solar protections (like [roller shutters](https://en.m.wikipedia.org/wiki/Roller_shutter) and [window shutters](https://en.m.wikipedia.org/wiki/Window_shutter)).\n",
    "\n",
    "The control of the indoor air temeperature by using the free-cooling and solar protections can be implmented in the integration loop:\n",
    "- if the indoor temperature is smaller than its setpoint, then the heating system is acting;\n",
    "- if the indoor temperature is larger than its setpoint, then:\n",
    "    * if the outdoor temperature is smaller than the indoor setpoint, then use ventilation for free cooling;\n",
    "    * else, reduce the solar radiation by closing the sutters."
   ]
  },
  {
   "cell_type": "code",
   "execution_count": null,
   "id": "78a2cac5-6381-4aff-abb8-6e6af71f0306",
   "metadata": {},
   "outputs": [],
   "source": [
    "def sim_sun_vent():\n",
    "    l = 3                       # m length of the cubic room\n",
    "    Va = l**3                   # m³ volume of air\n",
    "    ACH = 1                     # air changes per hour\n",
    "    Va_dot = ACH * Va / 3600    # m³/s air infiltration\n",
    "    c = 1012                    # J/kg.K air specific heat\n",
    "    ρ = 1.2                     # kg/m3 air density\n",
    "\n",
    "    t, u, data = tuto.inputs(filename, start_date, end_date, dt, Tisp)\n",
    "\n",
    "    θ = np.full([As.shape[0], u.shape[0]], np.inf)\n",
    "    θ[:, 0] = Tisp * np.ones(As.shape[0])\n",
    "\n",
    "    y = np.zeros(u.shape[0])\n",
    "    y[-1] = Tisp\n",
    "\n",
    "    for k in range(u.shape[0] - 1):\n",
    "        if y[k - 1] < Tisp:             # heating\n",
    "            u.iloc[k, 6] = Kpp * (Tisp - y[k - 1])\n",
    "        elif y[k - 1] > Tisp + Δθ:      # cooling\n",
    "            if data['To'][k] < Tisp:    # - by ventilation\n",
    "                u.iloc[k, 6] = 10 * Va_dot * ρ * c * (data['To'][k] - y[k - 1])\n",
    "            else:                       # - by solar protection\n",
    "                u.iloc[k, 4] = u.iloc[k, 4] / 10\n",
    "                u.iloc[k, 5] = u.iloc[k, 6] / 10\n",
    "        else:\n",
    "            u.iloc[k, 6] = 0\n",
    "\n",
    "        θ[:, k + 1] = (I + dt * As) @ θ[:, k]\\\n",
    "            + dt * Bs @ u.iloc[k, :]\n",
    "\n",
    "        # θ[:, k + 1] = np.linalg.inv(I - dt * As) @\\\n",
    "        #     (θ[:, k] + dt * Bs @ u.iloc[k, :])\n",
    "        y[k] = Cs @ θ[:, k] + Ds @ u.iloc[k]\n",
    "\n",
    "    q_HVAC = u.iloc[:, 6].to_numpy()\n",
    "\n",
    "    tuto.plot_results(y, q_HVAC, data)"
   ]
  },
  {
   "cell_type": "code",
   "execution_count": null,
   "id": "433b9119-0018-4f45-ae4b-5539d220d00d",
   "metadata": {},
   "outputs": [],
   "source": [
    "start_date = '2000-07-01 00:00:00'\n",
    "end_date = '2000-07-03 00:00:00'\n",
    "Kpp = 1e2   # perfect controller Kpc -> infinity\n",
    "dt = 30     # time step, s\n",
    "sim_sun_vent()"
   ]
  },
  {
   "cell_type": "markdown",
   "id": "3bef140f-9021-48f1-9899-bcfe083427d8",
   "metadata": {},
   "source": [
    "> Figure 10. Cooling mainly by solar protections. Note: there is free cooling when $q_{HVAC} < 0$."
   ]
  },
  {
   "cell_type": "code",
   "execution_count": null,
   "id": "fd93d7bd-fb53-4f71-bbf9-477d534fe2eb",
   "metadata": {},
   "outputs": [],
   "source": [
    "start_date = '2000-02-05 00:00:00'\n",
    "end_date = '2000-02-07 00:00:00'\n",
    "Kpp = 1e2   # perfect controller Kpc -> infinity\n",
    "dt = 30     # time step, s\n",
    "sim_sun_vent()"
   ]
  },
  {
   "cell_type": "markdown",
   "id": "b99dea65-123d-4293-9cbf-188b4644210e",
   "metadata": {},
   "source": [
    "> Figure 11. Cooling by ventilation. Note: there is free cooling when $q_{HVAC} < 0$."
   ]
  },
  {
   "cell_type": "markdown",
   "id": "766adb71-ce56-4261-a65c-4b52d7303b71",
   "metadata": {},
   "source": [
    "# [Radiation coupled with convection](07Coupled_rad_convection.ipynb)\n",
    "\n",
    "# [Sensible thermal load in steady-state](08Thermal_load.ipynb)\n",
    "\n",
    "# [Air flow by ventilation](09Air_flow_ventilation.ipynb)"
   ]
  },
  {
   "cell_type": "code",
   "execution_count": null,
   "id": "92a13ac5-9170-4033-9549-6a5d16be0e5c",
   "metadata": {},
   "outputs": [],
   "source": []
  }
 ],
 "metadata": {
  "kernelspec": {
   "display_name": "Python 3 (ipykernel)",
   "language": "python",
   "name": "python3"
  },
  "language_info": {
   "codemirror_mode": {
    "name": "ipython",
    "version": 3
   },
   "file_extension": ".py",
   "mimetype": "text/x-python",
   "name": "python",
   "nbconvert_exporter": "python",
   "pygments_lexer": "ipython3",
   "version": "3.9.7"
  },
  "toc-autonumbering": true
 },
 "nbformat": 4,
 "nbformat_minor": 5
}
