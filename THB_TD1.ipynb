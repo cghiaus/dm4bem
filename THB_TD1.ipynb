{
 "cells": [
  {
   "cell_type": "markdown",
   "id": "c96c888e-e35c-41ed-9b5d-875143ec6f26",
   "metadata": {},
   "source": [
    "![fig](./TD1_term_circ_ventO2.svg)"
   ]
  },
  {
   "cell_type": "code",
   "execution_count": null,
   "id": "bd2e5680-ba81-46a3-8d33-45eca4b4fbdb",
   "metadata": {},
   "outputs": [],
   "source": []
  }
 ],
 "metadata": {
  "kernelspec": {
   "display_name": "Python 3 (ipykernel)",
   "language": "python",
   "name": "python3"
  },
  "language_info": {
   "codemirror_mode": {
    "name": "ipython",
    "version": 3
   },
   "file_extension": ".py",
   "mimetype": "text/x-python",
   "name": "python",
   "nbconvert_exporter": "python",
   "pygments_lexer": "ipython3",
   "version": "3.9.7"
  }
 },
 "nbformat": 4,
 "nbformat_minor": 5
}
